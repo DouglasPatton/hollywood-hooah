{
 "cells": [
  {
   "cell_type": "code",
   "execution_count": 1,
   "id": "0d51f741-8b65-42ec-b070-c1699e2c8b0d",
   "metadata": {},
   "outputs": [],
   "source": [
    "from ragchat.pdf_reader import PdfReader"
   ]
  },
  {
   "cell_type": "code",
   "execution_count": 2,
   "id": "dfe2678d-3918-459f-a582-3a271304f61d",
   "metadata": {},
   "outputs": [],
   "source": [
    "from pymongo import MongoClient\n"
   ]
  },
  {
   "cell_type": "code",
   "execution_count": 3,
   "id": "848a4f11-1eab-4fd5-b103-be70c8fbfa44",
   "metadata": {},
   "outputs": [],
   "source": [
    "# client = MongoClient('localhost', 27017)Mon\n",
    "client = MongoClient('localhost:27017')"
   ]
  },
  {
   "cell_type": "code",
   "execution_count": 4,
   "id": "6982bc0b-53a7-4bda-807a-ec8a46488cdf",
   "metadata": {},
   "outputs": [
    {
     "data": {
      "text/plain": [
       "['admin',\n",
       " 'answers-to-synthetic-questions',\n",
       " 'config',\n",
       " 'docs',\n",
       " 'local',\n",
       " 'synthetic-questions']"
      ]
     },
     "execution_count": 4,
     "metadata": {},
     "output_type": "execute_result"
    }
   ],
   "source": [
    "client.list_database_names()"
   ]
  },
  {
   "cell_type": "code",
   "execution_count": 22,
   "id": "624f1663-5dda-41c3-a251-d1ddda5b6598",
   "metadata": {},
   "outputs": [],
   "source": [
    "db=client['answers-to-synthetic-questions']"
   ]
  },
  {
   "cell_type": "code",
   "execution_count": 23,
   "id": "f6887c5e-6347-423c-b78c-a93b751b1b8f",
   "metadata": {},
   "outputs": [],
   "source": [
    "coll=db['answers']"
   ]
  },
  {
   "cell_type": "code",
   "execution_count": 24,
   "id": "7fc436f4-691e-416b-b9f9-ebf19d2f44fb",
   "metadata": {},
   "outputs": [
    {
     "data": {
      "text/plain": [
       "['answers']"
      ]
     },
     "execution_count": 24,
     "metadata": {},
     "output_type": "execute_result"
    }
   ],
   "source": [
    "db.list_collection_names()"
   ]
  },
  {
   "cell_type": "code",
   "execution_count": 8,
   "id": "e9cbc661-84c8-4dea-b62e-d10abe29e6ed",
   "metadata": {},
   "outputs": [],
   "source": [
    "# coll.insert_many([{'folder':'ref/test','text':'abcdefghijklkmono'},{'folder':'ref/test','text':'alsdjf;alsdkjf'}])"
   ]
  },
  {
   "cell_type": "code",
   "execution_count": 25,
   "id": "01639b89-4025-4bfc-8eb6-97eb3178ac63",
   "metadata": {},
   "outputs": [
    {
     "data": {
      "text/plain": [
       "80"
      ]
     },
     "execution_count": 25,
     "metadata": {},
     "output_type": "execute_result"
    }
   ],
   "source": [
    "coll.count_documents({})"
   ]
  },
  {
   "cell_type": "code",
   "execution_count": 26,
   "id": "4c2c84f8-83b9-42f9-9997-c84281183734",
   "metadata": {},
   "outputs": [
    {
     "data": {
      "text/plain": [
       "[DeleteResult({'n': 1, 'ok': 1.0}, acknowledged=True),\n",
       " DeleteResult({'n': 1, 'ok': 1.0}, acknowledged=True),\n",
       " DeleteResult({'n': 1, 'ok': 1.0}, acknowledged=True),\n",
       " DeleteResult({'n': 1, 'ok': 1.0}, acknowledged=True),\n",
       " DeleteResult({'n': 1, 'ok': 1.0}, acknowledged=True),\n",
       " DeleteResult({'n': 1, 'ok': 1.0}, acknowledged=True),\n",
       " DeleteResult({'n': 1, 'ok': 1.0}, acknowledged=True),\n",
       " DeleteResult({'n': 1, 'ok': 1.0}, acknowledged=True),\n",
       " DeleteResult({'n': 1, 'ok': 1.0}, acknowledged=True),\n",
       " DeleteResult({'n': 1, 'ok': 1.0}, acknowledged=True),\n",
       " DeleteResult({'n': 1, 'ok': 1.0}, acknowledged=True),\n",
       " DeleteResult({'n': 1, 'ok': 1.0}, acknowledged=True),\n",
       " DeleteResult({'n': 1, 'ok': 1.0}, acknowledged=True),\n",
       " DeleteResult({'n': 1, 'ok': 1.0}, acknowledged=True),\n",
       " DeleteResult({'n': 1, 'ok': 1.0}, acknowledged=True),\n",
       " DeleteResult({'n': 1, 'ok': 1.0}, acknowledged=True),\n",
       " DeleteResult({'n': 1, 'ok': 1.0}, acknowledged=True),\n",
       " DeleteResult({'n': 1, 'ok': 1.0}, acknowledged=True),\n",
       " DeleteResult({'n': 1, 'ok': 1.0}, acknowledged=True),\n",
       " DeleteResult({'n': 1, 'ok': 1.0}, acknowledged=True),\n",
       " DeleteResult({'n': 1, 'ok': 1.0}, acknowledged=True),\n",
       " DeleteResult({'n': 1, 'ok': 1.0}, acknowledged=True),\n",
       " DeleteResult({'n': 1, 'ok': 1.0}, acknowledged=True),\n",
       " DeleteResult({'n': 1, 'ok': 1.0}, acknowledged=True),\n",
       " DeleteResult({'n': 1, 'ok': 1.0}, acknowledged=True),\n",
       " DeleteResult({'n': 1, 'ok': 1.0}, acknowledged=True),\n",
       " DeleteResult({'n': 1, 'ok': 1.0}, acknowledged=True),\n",
       " DeleteResult({'n': 1, 'ok': 1.0}, acknowledged=True),\n",
       " DeleteResult({'n': 1, 'ok': 1.0}, acknowledged=True),\n",
       " DeleteResult({'n': 1, 'ok': 1.0}, acknowledged=True),\n",
       " DeleteResult({'n': 1, 'ok': 1.0}, acknowledged=True),\n",
       " DeleteResult({'n': 1, 'ok': 1.0}, acknowledged=True),\n",
       " DeleteResult({'n': 1, 'ok': 1.0}, acknowledged=True),\n",
       " DeleteResult({'n': 1, 'ok': 1.0}, acknowledged=True),\n",
       " DeleteResult({'n': 1, 'ok': 1.0}, acknowledged=True),\n",
       " DeleteResult({'n': 1, 'ok': 1.0}, acknowledged=True),\n",
       " DeleteResult({'n': 1, 'ok': 1.0}, acknowledged=True),\n",
       " DeleteResult({'n': 1, 'ok': 1.0}, acknowledged=True),\n",
       " DeleteResult({'n': 1, 'ok': 1.0}, acknowledged=True),\n",
       " DeleteResult({'n': 1, 'ok': 1.0}, acknowledged=True),\n",
       " DeleteResult({'n': 1, 'ok': 1.0}, acknowledged=True),\n",
       " DeleteResult({'n': 1, 'ok': 1.0}, acknowledged=True),\n",
       " DeleteResult({'n': 1, 'ok': 1.0}, acknowledged=True),\n",
       " DeleteResult({'n': 1, 'ok': 1.0}, acknowledged=True),\n",
       " DeleteResult({'n': 1, 'ok': 1.0}, acknowledged=True),\n",
       " DeleteResult({'n': 1, 'ok': 1.0}, acknowledged=True),\n",
       " DeleteResult({'n': 1, 'ok': 1.0}, acknowledged=True),\n",
       " DeleteResult({'n': 1, 'ok': 1.0}, acknowledged=True),\n",
       " DeleteResult({'n': 1, 'ok': 1.0}, acknowledged=True),\n",
       " DeleteResult({'n': 1, 'ok': 1.0}, acknowledged=True),\n",
       " DeleteResult({'n': 1, 'ok': 1.0}, acknowledged=True),\n",
       " DeleteResult({'n': 1, 'ok': 1.0}, acknowledged=True),\n",
       " DeleteResult({'n': 1, 'ok': 1.0}, acknowledged=True),\n",
       " DeleteResult({'n': 1, 'ok': 1.0}, acknowledged=True),\n",
       " DeleteResult({'n': 1, 'ok': 1.0}, acknowledged=True),\n",
       " DeleteResult({'n': 1, 'ok': 1.0}, acknowledged=True),\n",
       " DeleteResult({'n': 1, 'ok': 1.0}, acknowledged=True),\n",
       " DeleteResult({'n': 1, 'ok': 1.0}, acknowledged=True),\n",
       " DeleteResult({'n': 1, 'ok': 1.0}, acknowledged=True),\n",
       " DeleteResult({'n': 1, 'ok': 1.0}, acknowledged=True),\n",
       " DeleteResult({'n': 1, 'ok': 1.0}, acknowledged=True),\n",
       " DeleteResult({'n': 1, 'ok': 1.0}, acknowledged=True),\n",
       " DeleteResult({'n': 1, 'ok': 1.0}, acknowledged=True),\n",
       " DeleteResult({'n': 1, 'ok': 1.0}, acknowledged=True),\n",
       " DeleteResult({'n': 1, 'ok': 1.0}, acknowledged=True),\n",
       " DeleteResult({'n': 1, 'ok': 1.0}, acknowledged=True),\n",
       " DeleteResult({'n': 1, 'ok': 1.0}, acknowledged=True),\n",
       " DeleteResult({'n': 1, 'ok': 1.0}, acknowledged=True),\n",
       " DeleteResult({'n': 1, 'ok': 1.0}, acknowledged=True),\n",
       " DeleteResult({'n': 1, 'ok': 1.0}, acknowledged=True),\n",
       " DeleteResult({'n': 1, 'ok': 1.0}, acknowledged=True),\n",
       " DeleteResult({'n': 1, 'ok': 1.0}, acknowledged=True),\n",
       " DeleteResult({'n': 1, 'ok': 1.0}, acknowledged=True),\n",
       " DeleteResult({'n': 1, 'ok': 1.0}, acknowledged=True),\n",
       " DeleteResult({'n': 1, 'ok': 1.0}, acknowledged=True),\n",
       " DeleteResult({'n': 1, 'ok': 1.0}, acknowledged=True),\n",
       " DeleteResult({'n': 1, 'ok': 1.0}, acknowledged=True),\n",
       " DeleteResult({'n': 1, 'ok': 1.0}, acknowledged=True),\n",
       " DeleteResult({'n': 1, 'ok': 1.0}, acknowledged=True),\n",
       " DeleteResult({'n': 1, 'ok': 1.0}, acknowledged=True)]"
      ]
     },
     "execution_count": 26,
     "metadata": {},
     "output_type": "execute_result"
    }
   ],
   "source": [
    "[coll.delete_many(c) for c in coll.find()]"
   ]
  },
  {
   "cell_type": "code",
   "execution_count": 27,
   "id": "4344798b-f6d8-48ba-8d1f-6982d6102ca4",
   "metadata": {},
   "outputs": [],
   "source": [
    "client.close()"
   ]
  },
  {
   "cell_type": "code",
   "execution_count": null,
   "id": "fc706ea6-2d62-428f-acb8-5d81a44e6e16",
   "metadata": {},
   "outputs": [],
   "source": []
  },
  {
   "cell_type": "code",
   "execution_count": null,
   "id": "0695cd4f-d305-454d-9354-b6b1ef43a6d1",
   "metadata": {},
   "outputs": [],
   "source": []
  }
 ],
 "metadata": {
  "kernelspec": {
   "display_name": "Python 3 (ipykernel)",
   "language": "python",
   "name": "python3"
  },
  "language_info": {
   "codemirror_mode": {
    "name": "ipython",
    "version": 3
   },
   "file_extension": ".py",
   "mimetype": "text/x-python",
   "name": "python",
   "nbconvert_exporter": "python",
   "pygments_lexer": "ipython3",
   "version": "3.8.3"
  }
 },
 "nbformat": 4,
 "nbformat_minor": 5
}
