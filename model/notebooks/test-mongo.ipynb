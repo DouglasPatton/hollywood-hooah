{
 "cells": [
  {
   "cell_type": "code",
   "execution_count": 1,
   "id": "0d51f741-8b65-42ec-b070-c1699e2c8b0d",
   "metadata": {},
   "outputs": [],
   "source": [
    "from ragchat.pdf_reader import PdfReader"
   ]
  },
  {
   "cell_type": "code",
   "execution_count": 2,
   "id": "dfe2678d-3918-459f-a582-3a271304f61d",
   "metadata": {},
   "outputs": [],
   "source": [
    "from pymongo import MongoClient\n"
   ]
  },
  {
   "cell_type": "code",
   "execution_count": 5,
   "id": "848a4f11-1eab-4fd5-b103-be70c8fbfa44",
   "metadata": {},
   "outputs": [],
   "source": [
    "# client = MongoClient('localhost', 27017)Mon\n",
    "client = MongoClient('172.18.0.2:27017')"
   ]
  },
  {
   "cell_type": "code",
   "execution_count": 6,
   "id": "6982bc0b-53a7-4bda-807a-ec8a46488cdf",
   "metadata": {},
   "outputs": [
    {
     "data": {
      "text/plain": [
       "['admin',\n",
       " 'answers-to-synthetic-questions',\n",
       " 'config',\n",
       " 'docs',\n",
       " 'local',\n",
       " 'synthetic-questions']"
      ]
     },
     "execution_count": 6,
     "metadata": {},
     "output_type": "execute_result"
    }
   ],
   "source": [
    "client.list_database_names()"
   ]
  },
  {
   "cell_type": "code",
   "execution_count": 7,
   "id": "624f1663-5dda-41c3-a251-d1ddda5b6598",
   "metadata": {},
   "outputs": [],
   "source": [
    "db=client['docs']"
   ]
  },
  {
   "cell_type": "code",
   "execution_count": 8,
   "id": "7fc436f4-691e-416b-b9f9-ebf19d2f44fb",
   "metadata": {},
   "outputs": [
    {
     "data": {
      "text/plain": [
       "['pdf']"
      ]
     },
     "execution_count": 8,
     "metadata": {},
     "output_type": "execute_result"
    }
   ],
   "source": [
    "db.list_collection_names()"
   ]
  },
  {
   "cell_type": "code",
   "execution_count": 9,
   "id": "f6887c5e-6347-423c-b78c-a93b751b1b8f",
   "metadata": {},
   "outputs": [],
   "source": [
    "coll=db['pdf']"
   ]
  },
  {
   "cell_type": "code",
   "execution_count": 8,
   "id": "e9cbc661-84c8-4dea-b62e-d10abe29e6ed",
   "metadata": {},
   "outputs": [],
   "source": [
    "# coll.insert_many([{'folder':'ref/test','text':'abcdefghijklkmono'},{'folder':'ref/test','text':'alsdjf;alsdkjf'}])"
   ]
  },
  {
   "cell_type": "code",
   "execution_count": 10,
   "id": "01639b89-4025-4bfc-8eb6-97eb3178ac63",
   "metadata": {},
   "outputs": [
    {
     "data": {
      "text/plain": [
       "7356"
      ]
     },
     "execution_count": 10,
     "metadata": {},
     "output_type": "execute_result"
    }
   ],
   "source": [
    "coll.count_documents({})"
   ]
  },
  {
   "cell_type": "code",
   "execution_count": 11,
   "id": "be9a959c-219a-46d0-885d-263d77eeab5d",
   "metadata": {},
   "outputs": [],
   "source": [
    "pg=[];pg_num=[]\n",
    "for c in coll.find():\n",
    "    if 'page' in c:\n",
    "        pg.append(c)\n",
    "    else:\n",
    "        pg_num.append(c)\n",
    "    \n",
    "    "
   ]
  },
  {
   "cell_type": "code",
   "execution_count": 15,
   "id": "e874bc05-527c-4362-8ed8-1b526faec8de",
   "metadata": {},
   "outputs": [
    {
     "data": {
      "text/plain": [
       "True"
      ]
     },
     "execution_count": 15,
     "metadata": {},
     "output_type": "execute_result"
    }
   ],
   "source": [
    "'page_number' in pg_num[0]"
   ]
  },
  {
   "cell_type": "code",
   "execution_count": 14,
   "id": "4c2c84f8-83b9-42f9-9997-c84281183734",
   "metadata": {},
   "outputs": [],
   "source": [
    "# [coll.delete_many(c) for c in coll.find()]"
   ]
  },
  {
   "cell_type": "code",
   "execution_count": 27,
   "id": "4344798b-f6d8-48ba-8d1f-6982d6102ca4",
   "metadata": {},
   "outputs": [],
   "source": [
    "client.close()"
   ]
  },
  {
   "cell_type": "code",
   "execution_count": null,
   "id": "fc706ea6-2d62-428f-acb8-5d81a44e6e16",
   "metadata": {},
   "outputs": [],
   "source": []
  },
  {
   "cell_type": "code",
   "execution_count": null,
   "id": "0695cd4f-d305-454d-9354-b6b1ef43a6d1",
   "metadata": {},
   "outputs": [],
   "source": []
  }
 ],
 "metadata": {
  "kernelspec": {
   "display_name": "Python 3 (ipykernel)",
   "language": "python",
   "name": "python3"
  },
  "language_info": {
   "codemirror_mode": {
    "name": "ipython",
    "version": 3
   },
   "file_extension": ".py",
   "mimetype": "text/x-python",
   "name": "python",
   "nbconvert_exporter": "python",
   "pygments_lexer": "ipython3",
   "version": "3.8.3"
  }
 },
 "nbformat": 4,
 "nbformat_minor": 5
}
