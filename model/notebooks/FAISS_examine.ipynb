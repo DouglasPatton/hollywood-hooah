{
 "cells": [
  {
   "cell_type": "code",
   "execution_count": 1,
   "id": "3cf975b8-ddb6-43e6-aa1b-3bb024787f65",
   "metadata": {},
   "outputs": [
    {
     "name": "stdout",
     "output_type": "stream",
     "text": [
      "/home/dp/hdd/gits/hollywood-hooah/model\n"
     ]
    }
   ],
   "source": [
    "%cd ..\n",
    "from langchain.chains.combine_documents import collapse_docs, split_list_of_docs\n",
    "from langchain_openai import ChatOpenAI\n",
    "from langchain_openai import OpenAIEmbeddings\n",
    "\n",
    "# from langchain.chat_models import ChatAnthropic\n",
    "from langchain.prompts import ChatPromptTemplate, PromptTemplate\n",
    "from langchain.schema import Document, StrOutputParser\n",
    "from langchain_community.vectorstores import FAISS\n",
    "import faiss\n",
    "from langchain_core.prompts import format_document\n",
    "from langchain_core.runnables import RunnableParallel, RunnablePassthrough\n",
    "import json\n",
    "import re\n",
    "from random import seed,shuffle\n",
    "from time import sleep"
   ]
  },
  {
   "cell_type": "code",
   "execution_count": 2,
   "id": "4735c15e-716a-4a5a-abe8-431320caceb8",
   "metadata": {},
   "outputs": [],
   "source": [
    "import pandas as pd\n"
   ]
  },
  {
   "cell_type": "code",
   "execution_count": 3,
   "id": "aa99f7b0-c12f-4970-95a3-8cb7a4f20724",
   "metadata": {},
   "outputs": [],
   "source": [
    "from ragchat.doc_store import DocStore\n",
    "from ragchat.configs import (DEBUG, REFERENCE_FOLDER, DB_NAME, QUESTIONS_VECTOR_STORE_SAVE_PATH,\n",
    "COLLECTION_NAME, Q_DB_NAME, Q_COLLECTION_NAME, TOKENS_PER_SYNTH_QUESTION)\n",
    "from ragchat.text_embedder import TextEmbedder\n"
   ]
  },
  {
   "cell_type": "code",
   "execution_count": 4,
   "id": "3c516491-de0d-46fc-bcf1-6d9dd6541850",
   "metadata": {},
   "outputs": [],
   "source": [
    "llm = ChatOpenAI(model=\"gpt-3.5-turbo-1106\", temperature=0)\n"
   ]
  },
  {
   "cell_type": "code",
   "execution_count": 5,
   "id": "98c76c34-274f-40aa-b836-06b071503b79",
   "metadata": {},
   "outputs": [],
   "source": [
    "vs = FAISS.load_local('vector_stores/faiss_index_0c7394a1b7ff35a035b5adbc4dbb8fae',OpenAIEmbeddings(model=\"text-embedding-ada-002\"))\n"
   ]
  },
  {
   "cell_type": "code",
   "execution_count": 6,
   "id": "a698fce6-6d1f-45aa-8609-23ffb74554f0",
   "metadata": {},
   "outputs": [
    {
     "data": {
      "text/plain": [
       "dict_keys(['embedding_function', 'index', 'docstore', 'index_to_docstore_id', 'distance_strategy', 'override_relevance_score_fn', '_normalize_L2'])"
      ]
     },
     "execution_count": 6,
     "metadata": {},
     "output_type": "execute_result"
    }
   ],
   "source": [
    "vs.__dict__.keys()"
   ]
  },
  {
   "cell_type": "code",
   "execution_count": 7,
   "id": "d8f0b49a-5741-4231-8bcf-226c6ef7130e",
   "metadata": {},
   "outputs": [
    {
     "data": {
      "text/plain": [
       "(14712, 1536)"
      ]
     },
     "execution_count": 7,
     "metadata": {},
     "output_type": "execute_result"
    }
   ],
   "source": [
    "num_docs = vs.index.ntotal\n",
    "# Get the dimension of your embeddings\n",
    "embedding_dimension = vs.index.d\n",
    "\n",
    "embedding_arr = faiss.rev_swig_ptr(vs.index.get_xb(), num_docs*embedding_dimension).reshape(num_docs, embedding_dimension)\n",
    "embedding_arr.shape"
   ]
  },
  {
   "cell_type": "code",
   "execution_count": 16,
   "id": "6a83f85c-9ef2-42f0-a5aa-fe4450c254c8",
   "metadata": {
    "scrolled": true
   },
   "outputs": [],
   "source": [
    "\n",
    "pg=[];pg_num=[];neither=[]\n",
    "for key,c in vs.docstore.__dict__['_dict'].items():\n",
    "    if 'page' in c.metadata:\n",
    "        pg.append(c)\n",
    "    elif 'page_number' in c.metadata:\n",
    "        pg_num.append(c)\n",
    "    else:\n",
    "        neither.append(c)\n",
    "    \n",
    "    \n"
   ]
  },
  {
   "cell_type": "code",
   "execution_count": null,
   "id": "96dac5fe-7700-4efe-86f3-685533195132",
   "metadata": {},
   "outputs": [],
   "source": []
  },
  {
   "cell_type": "code",
   "execution_count": 17,
   "id": "7b853209-a694-44b1-8b6f-56af45b29a73",
   "metadata": {},
   "outputs": [
    {
     "name": "stdout",
     "output_type": "stream",
     "text": [
      "7356 7356 0\n"
     ]
    }
   ],
   "source": [
    "print(len(pg),len(pg_num),len(neither))"
   ]
  },
  {
   "cell_type": "code",
   "execution_count": null,
   "id": "14a6a429-29e7-450d-b4ee-78599e5edfa0",
   "metadata": {},
   "outputs": [],
   "source": []
  }
 ],
 "metadata": {
  "kernelspec": {
   "display_name": "Python 3 (ipykernel)",
   "language": "python",
   "name": "python3"
  },
  "language_info": {
   "codemirror_mode": {
    "name": "ipython",
    "version": 3
   },
   "file_extension": ".py",
   "mimetype": "text/x-python",
   "name": "python",
   "nbconvert_exporter": "python",
   "pygments_lexer": "ipython3",
   "version": "3.8.3"
  }
 },
 "nbformat": 4,
 "nbformat_minor": 5
}
