{
 "cells": [
  {
   "cell_type": "code",
   "execution_count": 2,
   "id": "d61c7ca2-2118-4386-b6f0-59420aac3e54",
   "metadata": {
    "editable": true,
    "slideshow": {
     "slide_type": ""
    },
    "tags": []
   },
   "outputs": [
    {
     "name": "stdout",
     "output_type": "stream",
     "text": [
      "/home/dp/hdd/gits/hollywood-hooah\n"
     ]
    }
   ],
   "source": [
    "%cd ..\n",
    "from ragchat.doc_store import DocStore\n",
    "from ragchat.chatbots import RagChatbot\n",
    "from ragchat.configs import TEST_QUERIES,VECTOR_STORE_SAVE_PATH, DB_NAME, COLLECTION_NAME, Q_DB_NAME, Q_COLLECTION_NAME\n",
    "import json\n",
    "from random import seed,shuffle\n",
    "from time import sleep"
   ]
  },
  {
   "cell_type": "code",
   "execution_count": 13,
   "id": "1e02af9d-6e65-4c2a-9781-9159bbf0c844",
   "metadata": {},
   "outputs": [
    {
     "data": {
      "text/plain": [
       "[]"
      ]
     },
     "execution_count": 13,
     "metadata": {},
     "output_type": "execute_result"
    }
   ],
   "source": [
    "q_ds = DocStore(db_name=Q_DB_NAME, collection_name=Q_COLLECTION_NAME,)\n",
    "synthetic_test_queries = [q for record in q_ds.retrieve_random(n=5) for q in record['questions']]\n",
    "synthetic_test_queries"
   ]
  },
  {
   "cell_type": "code",
   "execution_count": 3,
   "id": "9f93f42c-1dab-4998-a608-734fed6741b9",
   "metadata": {
    "editable": true,
    "slideshow": {
     "slide_type": ""
    },
    "tags": []
   },
   "outputs": [
    {
     "name": "stderr",
     "output_type": "stream",
     "text": [
      "/home/dp/hdd/gits/EncyclopediaChat/env/lib/python3.8/site-packages/langchain_core/_api/deprecation.py:117: LangChainDeprecationWarning: The class `langchain_community.chat_models.openai.ChatOpenAI` was deprecated in langchain-community 0.1.0 and will be removed in 0.2.0. Use langchain_openai.ChatOpenAI instead.\n",
      "  warn_deprecated(\n",
      "/home/dp/hdd/gits/EncyclopediaChat/env/lib/python3.8/site-packages/langchain_core/_api/deprecation.py:117: LangChainDeprecationWarning: The class `langchain_community.embeddings.openai.OpenAIEmbeddings` was deprecated in langchain-community 0.1.0 and will be removed in 0.2.0. Use langchain_openai.OpenAIEmbeddings instead.\n",
      "  warn_deprecated(\n"
     ]
    },
    {
     "name": "stdout",
     "output_type": "stream",
     "text": [
      "What does Fusion 360 do?\n",
      "Fusion 360 is an integrated cloud-based CAD, CAM, CAE, and PCB software platform that allows for 3D design and modeling, manufacturing, electronics design, simulation, generative design, data management, collaboration, additive manufacturing, and more. It aims to streamline product development, unify teams, save time and costs, and optimize designs for efficient manufacturing.\n",
      "['adsk-3d042d9f07ee4dd5aa4755c654f9f920.html', 'adsk-f39a97a447964f88a9a7defbf688278f.html', 'adsk-fee742eb8c9a40169042858fc65fdde1.html', 'adsk-df8e01fe04834d839e11ed48ed40ca18.html', 'adsk-4d7c1de4b68744449141dd51c0065a07.html']\n",
      "\n",
      "What's the difference between AutoCAD and Revit?\n",
      "AutoCAD is a 2D CAD software for drafting, drawing, and documentation, while Revit is a 3D BIM tool for producing 3D architectural designs and documentation. Revit also includes features for architectural modeling, structural modeling, MEP modeling, construction modeling, advanced modeling, collaboration, simulation and analysis, presentation and visualization, support and stability, user interface, documentation, interoperability, data management, APIs and automation, and system requirements.\n",
      "['adsk-51ec7ac42a02423bbf3f3425e4e95ce7.html', 'adsk-b78963ab2b70429fa537101bc633c129.html', 'adsk-a74fa2737c8d4d1fa49cede8098293d7.html', 'adsk-8233bc4c58f9404fbbb43df978a15b3e.html', 'adsk-d023069980fb453cb9115a3388af46fb.html']\n",
      "\n",
      "Does AutoCAD LT do 3d?\n",
      "Yes, AutoCAD LT does 3D modeling, design, and rendering.\n",
      "['adsk-b78963ab2b70429fa537101bc633c129.html', 'adsk-03f933424c0b413984e7b7651b5d1c0f.html', 'adsk-3cdf294ee7fc4fd393fce3f8ea23ce6c.html', 'adsk-24cf18ef9a4d4f49a10587c4a9fdfdf1.html', 'adsk-51eca25ee4ca45789e4686eff6151d7d.html']\n",
      "\n",
      "What's the latest release for Maya?\n",
      "The latest release for Maya is not explicitly mentioned in the provided documents.\n",
      "['adsk-5270a4e8ead14478aa715a2f97136d9b.html', 'adsk-7bff0d2dee7c414bba3a023f6b1091b9.html', 'adsk-350f07e72fb141f0b41e9f88bca88128.html', 'adsk-b339490c74eb4a46b6fe223d94a109af.html', 'adsk-1e68f80bcf1d4077a0c0f9a2f98c4451.html']\n",
      "\n",
      "Can I use fusion 360 on a Mac?,\n",
      "Yes, Fusion 360 can be used on a Mac.\n",
      "['adsk-f39a97a447964f88a9a7defbf688278f.html', 'adsk-814ee2ff29564b578a6c8c62f3ed1a9e.html', 'adsk-505627ba142a4e29be62f01ba9a1be21.html', 'adsk-4d7c1de4b68744449141dd51c0065a07.html', 'adsk-4916e161c19e4a549c742e76ea79ad1e.html']\n",
      "\n"
     ]
    }
   ],
   "source": [
    "src_keys=['file_name','page_number']\n",
    "bots = []\n",
    "answers = []\n",
    "for q in synthetic_test_queries:\n",
    "    rag_chatbot = RagChatbot(vector_store_save_path=VECTOR_STORE_SAVE_PATH)\n",
    "    bots.append(rag_chatbot)\n",
    "    answers.append(rag_chatbot.run_rag_chat(q))\n",
    "    print(f\"Question: {q}\", f\"Answer: {answers[-1]}\", f\"Sources: {[[src_dict[k] for k in src_keys] for src_dict in bots[-1].get_sources()]}\", sep=\"\\n\", end=\"\\n\\n\")\n",
    "    sleep(3)"
   ]
  },
  {
   "cell_type": "code",
   "execution_count": 4,
   "id": "f39ba4c6-4162-4e6e-9da7-5c1c26484a85",
   "metadata": {
    "editable": true,
    "slideshow": {
     "slide_type": ""
    },
    "tags": []
   },
   "outputs": [
    {
     "name": "stdout",
     "output_type": "stream",
     "text": [
      "On which operating systems can Moldflow Adviser run?\n",
      "Moldflow Adviser can run on Microsoft® Windows®.\n",
      "['adsk-e70fc0266311424c9063238c3afce252.html', 'adsk-bf7a13c66d5b478f8b692bb79294c552.html', 'adsk-d5e57376e57e407eaea8bbc9e259d51c.html', 'adsk-c6e5441341124eba969b12abd8bba1d9.html', 'adsk-c1a7657f5f80477c9c2b8c40bc5c9e71.html']\n",
      "\n",
      "How can Fusion 360 help increase manufacturing throughput?\n",
      "Fusion 360 can help increase manufacturing throughput by providing automation, collaboration, and software interoperability to reduce non-value add processes from design inception through production. It also allows for improved collaboration with design and engineering teams, as well as internal or external fabricators, to ensure production goals are met and minimize design versioning confusion. Additionally, Fusion 360 enables users to optimize prototyping and fabrication processes to increase productivity while reducing material costs, engineering costs, and fixed overhead costs.\n",
      "['adsk-3d042d9f07ee4dd5aa4755c654f9f920.html', 'adsk-492a9bfd67314eea8d874a9dbeac29f0.html', 'adsk-2b1767cda3c14a849525056956797921.html', 'adsk-ab415a2568714487ad789bc31ef61865.html', 'adsk-df8e01fe04834d839e11ed48ed40ca18.html']\n",
      "\n",
      "How does Smart Blocks work in AutoCAD 2024?\n",
      "Smart Blocks in AutoCAD 2024 automatically place blocks based on previous placements or quickly find and replace existing blocks.\n",
      "['adsk-34e71ffdff08466789e39e0e0712e678.html', 'adsk-10a591035447413c8fc0df096395ce20.html', 'adsk-380f9f4f8ef34126bfa053bfe2d572f8.html', 'adsk-c45e295e31df4711a268a401c2092dba.html', 'adsk-9797cd3321ab44898dc66c64def74570.html']\n",
      "\n",
      "What are the system requirements for running FBX Review on a Mac?\n",
      "The system requirements for running FBX Review on a Mac are not provided in the given text.\n",
      "['adsk-eaa2bef626684515926caf52403ca042.html', 'adsk-fc932c6b2ca54747a12740f1d3e48a90.html', 'adsk-21255a82049e45d9b11768d2543f31d0.html', 'adsk-5ce9de3dfa61465fa097c6d90e31b34b.html', 'adsk-94ac07cbe08744e29790bac21ca91026.html']\n",
      "\n",
      "Can a package license file be used for multiple releases of the same product in Autodesk software?\n",
      "Yes, a package license file can be used for multiple releases of the same product in Autodesk software.\n",
      "['adsk-1e21fb130b8346fca82a5f6297d5ee23.html', 'adsk-2f95d381740245dd9a003327cb5e23a3.html', 'adsk-ae5e6d11212e431fa1b7130c34e6f6a9.html', 'adsk-5b21574975fc4955b03d4e1138d1b3bd.html', 'adsk-f76f51715f794a10a91cfa2782f0e0f0.html']\n",
      "\n",
      "How does Maya Creative software support 3D modeling?\n",
      "Maya Creative software includes powerful modeling tools to create complex characters, props, and worlds with sophisticated 3D modeling tools. It also offers features such as UV editor, sculpting tools, NURBS modeling, polygon modeling, and OpenSubdiv support to work with accuracy and speed with a high-fidelity representation of the model.\n",
      "['adsk-5875eaeb1b5a49abb6f001fe929870a6.html', 'adsk-0b1e6f641b8d4014a2a3330cfaed53e0.html', 'adsk-55ca6383d55146cf8d6d4f67dcd06906.html', 'adsk-46f7b60da9904b8e9ba079fe59e247e3.html', 'adsk-350f07e72fb141f0b41e9f88bca88128.html']\n",
      "\n",
      "What are the features of the project management software offered by Autodesk?\n",
      "The features of the project management software offered by Autodesk include:\n",
      "1. Document and Storage Management\n",
      "2. Field Workflows - Issue Management, Forms, Photos\n",
      "3. Project Management - RFIs, Submittals, Schedules, Meeting Minutes\n",
      "4. Asset Management\n",
      "5. Cost Management - Project Budgets and Costs, Change Order Management, Forecasting\n",
      "['adsk-cbb377573c1144af87a7132542bb6e39.html', 'adsk-f60474ee551b469eaa142dd7753b7805.html', 'adsk-8dc1ffb48f944380a19d9c429ea42dbe.html', 'adsk-8b8400685f164aa3aaeb2c6ba8f26931.html', 'adsk-38958fc4db2d4470ba2d369b7879ef8b.html']\n",
      "\n",
      "How can I refer a friend to Fusion 360 and earn money?\n",
      "You can earn money by referring a friend to Fusion 360 who subscribes to an annual subscription.\n",
      "['adsk-814ee2ff29564b578a6c8c62f3ed1a9e.html', 'adsk-a3327b6cbc244459be76f896dfc71e3a.html', 'adsk-505627ba142a4e29be62f01ba9a1be21.html', 'adsk-4d7c1de4b68744449141dd51c0065a07.html', 'adsk-4916e161c19e4a549c742e76ea79ad1e.html']\n",
      "\n",
      "How does the Strategic Foresight team explore future scenarios?\n",
      "The Strategic Foresight team explores future scenarios in a STEEP (Social, Technological, Economic, Environmental, and Political) framework to identify drivers of emerging themes and patterns, and how those will impact the company, customers, and customers’ customers. Their goal is to anticipate and prepare for change while examining how current factors might signal what’s to come.\n",
      "['adsk-8ead6d6dd56f42cdbdc1eeb2b0f0f58e.html', 'adsk-1ad73e420e1b408aa9a2907bae0691f3.html', 'adsk-ad1024f1d75a450ead75e88569d4d3f3.html', 'adsk-85b78ba6068f4c5daf9d5c27f2fc6067.html', 'adsk-985f9a6c97a541548861338cf94cc4d4.html']\n",
      "\n",
      "What is the significance of volumetric video in the future of 3D content creation?\n",
      "The provided documents do not contain information about the significance of volumetric video in the future of 3D content creation. Therefore, I am unable to answer the question based on the given documents.\n",
      "['adsk-5e300c68aa1e4a568d582ce3e5b37ad5.html', 'adsk-44077d3c569b44e9b0a681f812939542.html', 'adsk-beaf70cfd5c841e2bdd0566e0dbcdc0c.html', 'adsk-34f0319fec4c49d69821767b8c38e8ce.html', 'adsk-29697a5ba1be4ce88b88dbd4f44155a5.html']\n",
      "\n"
     ]
    }
   ],
   "source": [
    "bots = []\n",
    "answers = []\n",
    "for q in synthetic_test_queries:\n",
    "    rag_chatbot = RagChatbot(vector_store_save_path=VECTOR_STORE_SAVE_PATH)\n",
    "    bots.append(rag_chatbot)\n",
    "    answers.append(rag_chatbot.run_rag_chat(q))\n",
    "    print(q, answers[-1], bots[-1].get_sources(), sep=\"\\n\", end=\"\\n\\n\")\n",
    "    sleep(4)\n"
   ]
  },
  {
   "cell_type": "code",
   "execution_count": null,
   "id": "9e8ceb40-4055-4d35-8a49-b59882541f22",
   "metadata": {},
   "outputs": [],
   "source": []
  }
 ],
 "metadata": {
  "kernelspec": {
   "display_name": "Python 3 (ipykernel)",
   "language": "python",
   "name": "python3"
  },
  "language_info": {
   "codemirror_mode": {
    "name": "ipython",
    "version": 3
   },
   "file_extension": ".py",
   "mimetype": "text/x-python",
   "name": "python",
   "nbconvert_exporter": "python",
   "pygments_lexer": "ipython3",
   "version": "3.8.3"
  }
 },
 "nbformat": 4,
 "nbformat_minor": 5
}
