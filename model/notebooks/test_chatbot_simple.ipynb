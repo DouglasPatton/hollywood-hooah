{
 "cells": [
  {
   "cell_type": "code",
   "execution_count": 1,
   "id": "d61c7ca2-2118-4386-b6f0-59420aac3e54",
   "metadata": {
    "editable": true,
    "slideshow": {
     "slide_type": ""
    },
    "tags": []
   },
   "outputs": [
    {
     "name": "stdout",
     "output_type": "stream",
     "text": [
      "/home/dp/hdd/gits/hollywood-hooah/model\n"
     ]
    }
   ],
   "source": [
    "%cd ..\n",
    "from ragchat.doc_store import DocStore\n",
    "from ragchat.chatbots import RagChatbot\n",
    "from ragchat.configs import TEST_QUERIES,VECTOR_STORE_SAVE_PATH, DB_NAME, COLLECTION_NAME, Q_DB_NAME, Q_COLLECTION_NAME\n",
    "import json\n",
    "from random import seed,shuffle\n",
    "from time import sleep"
   ]
  },
  {
   "cell_type": "code",
   "execution_count": 2,
   "id": "1e02af9d-6e65-4c2a-9781-9159bbf0c844",
   "metadata": {},
   "outputs": [
    {
     "data": {
      "text/plain": [
       "['How does the refusal of network executives to sign the Department of Defense standard Production Assistance Agreement (PAA) impact the portrayal of the US Army in entertainment media?',\n",
       " 'What is the nature of the interaction between the US Army and the production company of the independent film \"Fury\" during their visit to Fort Irwin, CA?',\n",
       " 'In what ways does the US Army collaborate with production companies for non-military portrayal projects, such as the donation of toys used as set dressing for the Lifetime TV movie \"Christmas in the City\"?',\n",
       " 'How has the US Army collaborated with the entertainment industry in the production of documentaries and docu-series related to military themes and historical events?',\n",
       " 'What specific requests have been made by entertainment production companies to film on military bases or with military personnel, and how have these requests been handled by the US Army?',\n",
       " 'What impact has the collaboration between the US Army and the entertainment industry had on public perception and understanding of military operations and history?',\n",
       " 'How does the entertainment industry collaborate with the armed forces to produce documentaries and docu-series that highlight the experiences and challenges faced by service members?',\n",
       " 'What role does the Department of Defense play in supporting and approving entertainment projects that involve the armed forces, such as the \"Future Fight\" documentary series?',\n",
       " 'In what ways do entertainment productions, such as \"Strike Group\" on Lifetime, aim to showcase the personnel and operations of military units like the 15th MEU during deployments?',\n",
       " 'How do entertainment projects, like \"American Couples\" on HBO/BBC, seek to portray the personal lives and relationships of service members and their families?',\n",
       " 'What documentaries or series have been filmed aboard US Navy ships or bases between 2012-2017?',\n",
       " 'How many PAA (Production Assistance Agreement) requests were signed by the US Navy for entertainment industry projects during this time period?',\n",
       " 'What types of entertainment projects did the US Navy provide research-only support for during this time period?',\n",
       " 'Were there any specific Navy personnel or units featured in the entertainment projects filmed during this time period?',\n",
       " 'What was the nature of the support provided by the US Navy for the filming of the Science Channel\\'s \"New Race for Space\" series?',\n",
       " 'How many different entertainment channels or production companies did the US Navy work with during this time period?',\n",
       " 'What was the purpose of the \"HOLLYWOOD TO THE NAVY\" event scheduled for 08Feb, and which Navy units were confirmed to participate?',\n",
       " 'How does the entertainment industry depict the involvement of the US Navy in criminal investigations and national security threats?',\n",
       " 'What types of historical events and military operations are being portrayed in documentary-style television shows and docu-series, and how is the US Navy involved in supporting these productions?',\n",
       " 'In what ways does the US Navy provide assistance and resources to film and television productions that feature military-related content?']"
      ]
     },
     "execution_count": 2,
     "metadata": {},
     "output_type": "execute_result"
    }
   ],
   "source": [
    "q_ds = DocStore(db_name=Q_DB_NAME, collection_name=Q_COLLECTION_NAME,)\n",
    "synthetic_test_queries = [q for record in q_ds.retrieve_random(n=5) for q in record['questions']]\n",
    "synthetic_test_queries"
   ]
  },
  {
   "cell_type": "code",
   "execution_count": 3,
   "id": "9f93f42c-1dab-4998-a608-734fed6741b9",
   "metadata": {
    "editable": true,
    "slideshow": {
     "slide_type": ""
    },
    "tags": []
   },
   "outputs": [
    {
     "ename": "KeyError",
     "evalue": "'page_number'",
     "output_type": "error",
     "traceback": [
      "\u001b[0;31m---------------------------------------------------------------------------\u001b[0m",
      "\u001b[0;31mKeyError\u001b[0m                                  Traceback (most recent call last)",
      "Cell \u001b[0;32mIn[3], line 8\u001b[0m\n\u001b[1;32m      6\u001b[0m bots\u001b[38;5;241m.\u001b[39mappend(rag_chatbot)\n\u001b[1;32m      7\u001b[0m answers\u001b[38;5;241m.\u001b[39mappend(rag_chatbot\u001b[38;5;241m.\u001b[39mrun_rag_chat(q))\n\u001b[0;32m----> 8\u001b[0m \u001b[38;5;28mprint\u001b[39m(\u001b[38;5;124mf\u001b[39m\u001b[38;5;124m\"\u001b[39m\u001b[38;5;124mQuestion: \u001b[39m\u001b[38;5;132;01m{\u001b[39;00mq\u001b[38;5;132;01m}\u001b[39;00m\u001b[38;5;124m\"\u001b[39m, \u001b[38;5;124mf\u001b[39m\u001b[38;5;124m\"\u001b[39m\u001b[38;5;124mAnswer: \u001b[39m\u001b[38;5;132;01m{\u001b[39;00manswers[\u001b[38;5;241m-\u001b[39m\u001b[38;5;241m1\u001b[39m]\u001b[38;5;132;01m}\u001b[39;00m\u001b[38;5;124m\"\u001b[39m, \u001b[38;5;124mf\u001b[39m\u001b[38;5;124m\"\u001b[39m\u001b[38;5;124mSources: \u001b[39m\u001b[38;5;132;01m{\u001b[39;00m[[src_dict[k]\u001b[38;5;250m \u001b[39m\u001b[38;5;28;01mfor\u001b[39;00m\u001b[38;5;250m \u001b[39mk\u001b[38;5;250m \u001b[39m\u001b[38;5;129;01min\u001b[39;00m\u001b[38;5;250m \u001b[39msrc_keys]\u001b[38;5;250m \u001b[39m\u001b[38;5;28;01mfor\u001b[39;00m\u001b[38;5;250m \u001b[39msrc_dict\u001b[38;5;250m \u001b[39m\u001b[38;5;129;01min\u001b[39;00m\u001b[38;5;250m \u001b[39mbots[\u001b[38;5;241m-\u001b[39m\u001b[38;5;241m1\u001b[39m]\u001b[38;5;241m.\u001b[39mget_sources()]\u001b[38;5;132;01m}\u001b[39;00m\u001b[38;5;124m\"\u001b[39m, sep\u001b[38;5;241m=\u001b[39m\u001b[38;5;124m\"\u001b[39m\u001b[38;5;130;01m\\n\u001b[39;00m\u001b[38;5;124m\"\u001b[39m, end\u001b[38;5;241m=\u001b[39m\u001b[38;5;124m\"\u001b[39m\u001b[38;5;130;01m\\n\u001b[39;00m\u001b[38;5;130;01m\\n\u001b[39;00m\u001b[38;5;124m\"\u001b[39m)\n\u001b[1;32m      9\u001b[0m sleep(\u001b[38;5;241m3\u001b[39m)\n",
      "Cell \u001b[0;32mIn[3], line 8\u001b[0m, in \u001b[0;36m<listcomp>\u001b[0;34m(.0)\u001b[0m\n\u001b[1;32m      6\u001b[0m bots\u001b[38;5;241m.\u001b[39mappend(rag_chatbot)\n\u001b[1;32m      7\u001b[0m answers\u001b[38;5;241m.\u001b[39mappend(rag_chatbot\u001b[38;5;241m.\u001b[39mrun_rag_chat(q))\n\u001b[0;32m----> 8\u001b[0m \u001b[38;5;28mprint\u001b[39m(\u001b[38;5;124mf\u001b[39m\u001b[38;5;124m\"\u001b[39m\u001b[38;5;124mQuestion: \u001b[39m\u001b[38;5;132;01m{\u001b[39;00mq\u001b[38;5;132;01m}\u001b[39;00m\u001b[38;5;124m\"\u001b[39m, \u001b[38;5;124mf\u001b[39m\u001b[38;5;124m\"\u001b[39m\u001b[38;5;124mAnswer: \u001b[39m\u001b[38;5;132;01m{\u001b[39;00manswers[\u001b[38;5;241m-\u001b[39m\u001b[38;5;241m1\u001b[39m]\u001b[38;5;132;01m}\u001b[39;00m\u001b[38;5;124m\"\u001b[39m, \u001b[38;5;124mf\u001b[39m\u001b[38;5;124m\"\u001b[39m\u001b[38;5;124mSources: \u001b[39m\u001b[38;5;132;01m{\u001b[39;00m[[src_dict[k]\u001b[38;5;250m \u001b[39m\u001b[38;5;28;01mfor\u001b[39;00m\u001b[38;5;250m \u001b[39mk\u001b[38;5;250m \u001b[39m\u001b[38;5;129;01min\u001b[39;00m\u001b[38;5;250m \u001b[39msrc_keys]\u001b[38;5;250m \u001b[39m\u001b[38;5;28;01mfor\u001b[39;00m\u001b[38;5;250m \u001b[39msrc_dict\u001b[38;5;250m \u001b[39m\u001b[38;5;129;01min\u001b[39;00m\u001b[38;5;250m \u001b[39mbots[\u001b[38;5;241m-\u001b[39m\u001b[38;5;241m1\u001b[39m]\u001b[38;5;241m.\u001b[39mget_sources()]\u001b[38;5;132;01m}\u001b[39;00m\u001b[38;5;124m\"\u001b[39m, sep\u001b[38;5;241m=\u001b[39m\u001b[38;5;124m\"\u001b[39m\u001b[38;5;130;01m\\n\u001b[39;00m\u001b[38;5;124m\"\u001b[39m, end\u001b[38;5;241m=\u001b[39m\u001b[38;5;124m\"\u001b[39m\u001b[38;5;130;01m\\n\u001b[39;00m\u001b[38;5;130;01m\\n\u001b[39;00m\u001b[38;5;124m\"\u001b[39m)\n\u001b[1;32m      9\u001b[0m sleep(\u001b[38;5;241m3\u001b[39m)\n",
      "Cell \u001b[0;32mIn[3], line 8\u001b[0m, in \u001b[0;36m<listcomp>\u001b[0;34m(.0)\u001b[0m\n\u001b[1;32m      6\u001b[0m bots\u001b[38;5;241m.\u001b[39mappend(rag_chatbot)\n\u001b[1;32m      7\u001b[0m answers\u001b[38;5;241m.\u001b[39mappend(rag_chatbot\u001b[38;5;241m.\u001b[39mrun_rag_chat(q))\n\u001b[0;32m----> 8\u001b[0m \u001b[38;5;28mprint\u001b[39m(\u001b[38;5;124mf\u001b[39m\u001b[38;5;124m\"\u001b[39m\u001b[38;5;124mQuestion: \u001b[39m\u001b[38;5;132;01m{\u001b[39;00mq\u001b[38;5;132;01m}\u001b[39;00m\u001b[38;5;124m\"\u001b[39m, \u001b[38;5;124mf\u001b[39m\u001b[38;5;124m\"\u001b[39m\u001b[38;5;124mAnswer: \u001b[39m\u001b[38;5;132;01m{\u001b[39;00manswers[\u001b[38;5;241m-\u001b[39m\u001b[38;5;241m1\u001b[39m]\u001b[38;5;132;01m}\u001b[39;00m\u001b[38;5;124m\"\u001b[39m, \u001b[38;5;124mf\u001b[39m\u001b[38;5;124m\"\u001b[39m\u001b[38;5;124mSources: \u001b[39m\u001b[38;5;132;01m{\u001b[39;00m[[src_dict[k]\u001b[38;5;250m \u001b[39m\u001b[38;5;28;01mfor\u001b[39;00m\u001b[38;5;250m \u001b[39mk\u001b[38;5;250m \u001b[39m\u001b[38;5;129;01min\u001b[39;00m\u001b[38;5;250m \u001b[39msrc_keys]\u001b[38;5;250m \u001b[39m\u001b[38;5;28;01mfor\u001b[39;00m\u001b[38;5;250m \u001b[39msrc_dict\u001b[38;5;250m \u001b[39m\u001b[38;5;129;01min\u001b[39;00m\u001b[38;5;250m \u001b[39mbots[\u001b[38;5;241m-\u001b[39m\u001b[38;5;241m1\u001b[39m]\u001b[38;5;241m.\u001b[39mget_sources()]\u001b[38;5;132;01m}\u001b[39;00m\u001b[38;5;124m\"\u001b[39m, sep\u001b[38;5;241m=\u001b[39m\u001b[38;5;124m\"\u001b[39m\u001b[38;5;130;01m\\n\u001b[39;00m\u001b[38;5;124m\"\u001b[39m, end\u001b[38;5;241m=\u001b[39m\u001b[38;5;124m\"\u001b[39m\u001b[38;5;130;01m\\n\u001b[39;00m\u001b[38;5;130;01m\\n\u001b[39;00m\u001b[38;5;124m\"\u001b[39m)\n\u001b[1;32m      9\u001b[0m sleep(\u001b[38;5;241m3\u001b[39m)\n",
      "\u001b[0;31mKeyError\u001b[0m: 'page_number'"
     ]
    }
   ],
   "source": [
    "src_keys=['file_name','page_number']\n",
    "bots = []\n",
    "answers = []\n",
    "for q in synthetic_test_queries:\n",
    "    rag_chatbot = RagChatbot(vector_store_save_path=VECTOR_STORE_SAVE_PATH)\n",
    "    bots.append(rag_chatbot)\n",
    "    answers.append(rag_chatbot.run_rag_chat(q))\n",
    "    print(f\"Question: {q}\", f\"Answer: {answers[-1]}\", f\"Sources: {[[src_dict[k] for k in src_keys] for src_dict in bots[-1].get_sources()]}\", sep=\"\\n\", end=\"\\n\\n\")\n",
    "    sleep(3)"
   ]
  }
 ],
 "metadata": {
  "kernelspec": {
   "display_name": "Python 3 (ipykernel)",
   "language": "python",
   "name": "python3"
  },
  "language_info": {
   "codemirror_mode": {
    "name": "ipython",
    "version": 3
   },
   "file_extension": ".py",
   "mimetype": "text/x-python",
   "name": "python",
   "nbconvert_exporter": "python",
   "pygments_lexer": "ipython3",
   "version": "3.8.3"
  }
 },
 "nbformat": 4,
 "nbformat_minor": 5
}
