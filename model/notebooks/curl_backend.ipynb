{
 "cells": [
  {
   "cell_type": "code",
   "execution_count": 1,
   "id": "8f5ed4d7-52d6-4c7c-988a-ef8d4354455f",
   "metadata": {},
   "outputs": [],
   "source": [
    "import requests"
   ]
  },
  {
   "cell_type": "code",
   "execution_count": 2,
   "id": "cc882518-3650-4791-9769-965d3ecc35e5",
   "metadata": {},
   "outputs": [],
   "source": [
    "base=\"http://127.0.0.1:8081\""
   ]
  },
  {
   "cell_type": "code",
   "execution_count": 3,
   "id": "43e0b400-3e46-445e-8d71-d1c16dbd247f",
   "metadata": {},
   "outputs": [],
   "source": [
    "headers = {'accept': 'application/json'}"
   ]
  },
  {
   "cell_type": "code",
   "execution_count": 4,
   "id": "a642011e-cd6f-4548-a235-875126f3281a",
   "metadata": {},
   "outputs": [
    {
     "data": {
      "text/plain": [
       "<Response [200]>"
      ]
     },
     "execution_count": 4,
     "metadata": {},
     "output_type": "execute_result"
    }
   ],
   "source": [
    "response=requests.post(base+'/api/predict',\n",
    "                       json='what is the military most concerned about?',\n",
    "                       # json={'query':'test_query'},\n",
    "                       headers=headers, )\n",
    "response"
   ]
  },
  {
   "cell_type": "code",
   "execution_count": 5,
   "id": "b1daf75d-bc6a-43af-9dff-c0d84fa88f7d",
   "metadata": {},
   "outputs": [
    {
     "data": {
      "text/plain": [
       "{'_content': b\"The military is most concerned about maintaining operational security and respect for service members' rights and privacy while still educating the public about military operations. They prioritize denying requests that could compromise security or violate regulations, such as filming sensitive operations or violating privacy rights of service members. Additionally, they are concerned about the portrayal of military personnel and operations in entertainment media, including accuracy, potential OPSEC violations, and the impact on public perception of the military.\",\n",
       " '_content_consumed': True,\n",
       " '_next': None,\n",
       " 'status_code': 200,\n",
       " 'headers': {'Server': 'Werkzeug/3.0.1 Python/3.9.5', 'Date': 'Wed, 31 Jan 2024 20:15:11 GMT', 'Content-Type': 'text/html; charset=utf-8', 'Content-Length': '569', 'Access-Control-Allow-Origin': '*', 'Connection': 'close'},\n",
       " 'raw': <urllib3.response.HTTPResponse at 0x7f6b38280af0>,\n",
       " 'url': 'http://127.0.0.1:8081/api/predict',\n",
       " 'encoding': 'utf-8',\n",
       " 'history': [],\n",
       " 'reason': 'OK',\n",
       " 'cookies': <RequestsCookieJar[]>,\n",
       " 'elapsed': datetime.timedelta(seconds=25, microseconds=852145),\n",
       " 'request': <PreparedRequest [POST]>,\n",
       " 'connection': <requests.adapters.HTTPAdapter at 0x7f6b3801ea00>}"
      ]
     },
     "execution_count": 5,
     "metadata": {},
     "output_type": "execute_result"
    }
   ],
   "source": [
    "response.__dict__"
   ]
  },
  {
   "cell_type": "code",
   "execution_count": null,
   "id": "b7ac2672-f684-4149-b90c-90549a2e148a",
   "metadata": {},
   "outputs": [],
   "source": []
  }
 ],
 "metadata": {
  "kernelspec": {
   "display_name": "Python 3 (ipykernel)",
   "language": "python",
   "name": "python3"
  },
  "language_info": {
   "codemirror_mode": {
    "name": "ipython",
    "version": 3
   },
   "file_extension": ".py",
   "mimetype": "text/x-python",
   "name": "python",
   "nbconvert_exporter": "python",
   "pygments_lexer": "ipython3",
   "version": "3.8.3"
  }
 },
 "nbformat": 4,
 "nbformat_minor": 5
}
