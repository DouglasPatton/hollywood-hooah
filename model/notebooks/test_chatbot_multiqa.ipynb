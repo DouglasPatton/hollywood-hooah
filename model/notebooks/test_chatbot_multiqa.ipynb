{
 "cells": [
  {
   "cell_type": "code",
   "execution_count": 1,
   "id": "d61c7ca2-2118-4386-b6f0-59420aac3e54",
   "metadata": {
    "editable": true,
    "slideshow": {
     "slide_type": ""
    },
    "tags": []
   },
   "outputs": [
    {
     "name": "stdout",
     "output_type": "stream",
     "text": [
      "/home/dp/hdd/gits/hollywood-hooah/model\n"
     ]
    }
   ],
   "source": [
    "%cd ..\n",
    "from ragchat.chatbots import RagChatbotMultiQA\n",
    "from ragchat.configs import TEST_QUERIES,VECTOR_STORE_SAVE_PATH, DB_NAME, COLLECTION_NAME, Q_DB_NAME, Q_COLLECTION_NAME\n",
    "from ragchat.doc_store import DocStore\n",
    "import json\n",
    "from random import seed,shuffle\n",
    "from time import sleep"
   ]
  },
  {
   "cell_type": "code",
   "execution_count": 2,
   "id": "6c4d456c-96a6-49a4-a9b9-a1f98be72dc2",
   "metadata": {},
   "outputs": [
    {
     "data": {
      "text/plain": [
       "['What specific requests have entertainment companies made to the armed forces for support in their projects?',\n",
       " 'How has the entertainment industry collaborated with the armed forces in the production of films and video games?',\n",
       " \"What are the goals and objectives of the US Army's Entertainment Liaison Office in facilitating collaborations with entertainment companies for documentary and TV show productions?\",\n",
       " 'In what ways has the US Navy collaborated with entertainment productions such as \"Jack Ryan\" and \"Drain the Oceans\" to accurately depict naval history and operations?',\n",
       " 'How has the US Army collaborated with entertainment production companies to portray the experiences of soldiers and veterans in documentaries and feature films?',\n",
       " 'In what ways has the US Army worked with filmmakers to ensure authenticity and accuracy in the portrayal of military experiences in entertainment media?',\n",
       " 'What impact has sequestration had on the production of entertainment content related to the US Navy?',\n",
       " \"What types of support and approval processes are involved in the US Army's collaboration with entertainment industry projects related to military themes?\",\n",
       " 'What impact does featuring naval history and heritage on popular TV shows like \"American Pickers\" and \"Cake Boss\" have on public perception and awareness of the armed forces?',\n",
       " 'How has the entertainment industry helped to communicate the mission of the US Navy to the public?',\n",
       " 'What is the impact of military-themed documentaries and TV shows on public perception and understanding of the armed forces?',\n",
       " 'How does the entertainment industry work with the US Navy to showcase the daily lives and morale of sailors, as seen in the episode of \"Curiosity: with Jeff Goldblum\" featuring an ice cream social aboard a ship?',\n",
       " 'In what ways does the US Army support and participate in the production of documentaries and TV shows that focus on historical events such as 9/11 and military working dogs?',\n",
       " 'How has the armed forces responded to requests for support from the entertainment industry, and what criteria do they use to evaluate these requests?',\n",
       " 'In what ways has the US Navy collaborated with the entertainment industry to produce content related to historical events such as the Pearl Harbor attack?']"
      ]
     },
     "execution_count": 2,
     "metadata": {},
     "output_type": "execute_result"
    }
   ],
   "source": [
    "n=15\n",
    "q_ds = DocStore(db_name=Q_DB_NAME, collection_name=Q_COLLECTION_NAME,)\n",
    "retrieved_synthetic_test_queries = [q for record in q_ds.retrieve_random(n=n*5) for q in record['questions']]\n",
    "seed(42)\n",
    "shuffle(retrieved_synthetic_test_queries)\n",
    "synthetic_test_queries=retrieved_synthetic_test_queries[:n]\n",
    "synthetic_test_queries"
   ]
  },
  {
   "cell_type": "code",
   "execution_count": 3,
   "id": "ba5d6f78-56dc-4592-acc5-0e3947ceb263",
   "metadata": {},
   "outputs": [
    {
     "ename": "KeyError",
     "evalue": "'page_number'",
     "output_type": "error",
     "traceback": [
      "\u001b[0;31m---------------------------------------------------------------------------\u001b[0m",
      "\u001b[0;31mKeyError\u001b[0m                                  Traceback (most recent call last)",
      "Cell \u001b[0;32mIn[3], line 11\u001b[0m\n\u001b[1;32m      9\u001b[0m bots\u001b[38;5;241m.\u001b[39mappend(rag_chatbot)\n\u001b[1;32m     10\u001b[0m answers\u001b[38;5;241m.\u001b[39mappend(rag_chatbot\u001b[38;5;241m.\u001b[39mrun_rag_chat(q))\n\u001b[0;32m---> 11\u001b[0m \u001b[38;5;28mprint\u001b[39m(\u001b[38;5;124mf\u001b[39m\u001b[38;5;124m\"\u001b[39m\u001b[38;5;124mQuestion: \u001b[39m\u001b[38;5;132;01m{\u001b[39;00mq\u001b[38;5;132;01m}\u001b[39;00m\u001b[38;5;124m\"\u001b[39m, \u001b[38;5;124mf\u001b[39m\u001b[38;5;124m\"\u001b[39m\u001b[38;5;124mAnswer: \u001b[39m\u001b[38;5;132;01m{\u001b[39;00manswers[\u001b[38;5;241m-\u001b[39m\u001b[38;5;241m1\u001b[39m]\u001b[38;5;132;01m}\u001b[39;00m\u001b[38;5;124m\"\u001b[39m, \u001b[38;5;124mf\u001b[39m\u001b[38;5;124m\"\u001b[39m\u001b[38;5;124mSources: \u001b[39m\u001b[38;5;132;01m{\u001b[39;00m[[src_dict[k]\u001b[38;5;250m \u001b[39m\u001b[38;5;28;01mfor\u001b[39;00m\u001b[38;5;250m \u001b[39mk\u001b[38;5;250m \u001b[39m\u001b[38;5;129;01min\u001b[39;00m\u001b[38;5;250m \u001b[39msrc_keys]\u001b[38;5;250m \u001b[39m\u001b[38;5;28;01mfor\u001b[39;00m\u001b[38;5;250m \u001b[39msrc_dict\u001b[38;5;250m \u001b[39m\u001b[38;5;129;01min\u001b[39;00m\u001b[38;5;250m \u001b[39mbots[\u001b[38;5;241m-\u001b[39m\u001b[38;5;241m1\u001b[39m]\u001b[38;5;241m.\u001b[39mget_sources()]\u001b[38;5;132;01m}\u001b[39;00m\u001b[38;5;124m\"\u001b[39m, sep\u001b[38;5;241m=\u001b[39m\u001b[38;5;124m\"\u001b[39m\u001b[38;5;130;01m\\n\u001b[39;00m\u001b[38;5;124m\"\u001b[39m, end\u001b[38;5;241m=\u001b[39m\u001b[38;5;124m\"\u001b[39m\u001b[38;5;130;01m\\n\u001b[39;00m\u001b[38;5;130;01m\\n\u001b[39;00m\u001b[38;5;124m\"\u001b[39m)\n\u001b[1;32m     12\u001b[0m sleep(\u001b[38;5;241m3\u001b[39m)\n",
      "Cell \u001b[0;32mIn[3], line 11\u001b[0m, in \u001b[0;36m<listcomp>\u001b[0;34m(.0)\u001b[0m\n\u001b[1;32m      9\u001b[0m bots\u001b[38;5;241m.\u001b[39mappend(rag_chatbot)\n\u001b[1;32m     10\u001b[0m answers\u001b[38;5;241m.\u001b[39mappend(rag_chatbot\u001b[38;5;241m.\u001b[39mrun_rag_chat(q))\n\u001b[0;32m---> 11\u001b[0m \u001b[38;5;28mprint\u001b[39m(\u001b[38;5;124mf\u001b[39m\u001b[38;5;124m\"\u001b[39m\u001b[38;5;124mQuestion: \u001b[39m\u001b[38;5;132;01m{\u001b[39;00mq\u001b[38;5;132;01m}\u001b[39;00m\u001b[38;5;124m\"\u001b[39m, \u001b[38;5;124mf\u001b[39m\u001b[38;5;124m\"\u001b[39m\u001b[38;5;124mAnswer: \u001b[39m\u001b[38;5;132;01m{\u001b[39;00manswers[\u001b[38;5;241m-\u001b[39m\u001b[38;5;241m1\u001b[39m]\u001b[38;5;132;01m}\u001b[39;00m\u001b[38;5;124m\"\u001b[39m, \u001b[38;5;124mf\u001b[39m\u001b[38;5;124m\"\u001b[39m\u001b[38;5;124mSources: \u001b[39m\u001b[38;5;132;01m{\u001b[39;00m[[src_dict[k]\u001b[38;5;250m \u001b[39m\u001b[38;5;28;01mfor\u001b[39;00m\u001b[38;5;250m \u001b[39mk\u001b[38;5;250m \u001b[39m\u001b[38;5;129;01min\u001b[39;00m\u001b[38;5;250m \u001b[39msrc_keys]\u001b[38;5;250m \u001b[39m\u001b[38;5;28;01mfor\u001b[39;00m\u001b[38;5;250m \u001b[39msrc_dict\u001b[38;5;250m \u001b[39m\u001b[38;5;129;01min\u001b[39;00m\u001b[38;5;250m \u001b[39mbots[\u001b[38;5;241m-\u001b[39m\u001b[38;5;241m1\u001b[39m]\u001b[38;5;241m.\u001b[39mget_sources()]\u001b[38;5;132;01m}\u001b[39;00m\u001b[38;5;124m\"\u001b[39m, sep\u001b[38;5;241m=\u001b[39m\u001b[38;5;124m\"\u001b[39m\u001b[38;5;130;01m\\n\u001b[39;00m\u001b[38;5;124m\"\u001b[39m, end\u001b[38;5;241m=\u001b[39m\u001b[38;5;124m\"\u001b[39m\u001b[38;5;130;01m\\n\u001b[39;00m\u001b[38;5;130;01m\\n\u001b[39;00m\u001b[38;5;124m\"\u001b[39m)\n\u001b[1;32m     12\u001b[0m sleep(\u001b[38;5;241m3\u001b[39m)\n",
      "Cell \u001b[0;32mIn[3], line 11\u001b[0m, in \u001b[0;36m<listcomp>\u001b[0;34m(.0)\u001b[0m\n\u001b[1;32m      9\u001b[0m bots\u001b[38;5;241m.\u001b[39mappend(rag_chatbot)\n\u001b[1;32m     10\u001b[0m answers\u001b[38;5;241m.\u001b[39mappend(rag_chatbot\u001b[38;5;241m.\u001b[39mrun_rag_chat(q))\n\u001b[0;32m---> 11\u001b[0m \u001b[38;5;28mprint\u001b[39m(\u001b[38;5;124mf\u001b[39m\u001b[38;5;124m\"\u001b[39m\u001b[38;5;124mQuestion: \u001b[39m\u001b[38;5;132;01m{\u001b[39;00mq\u001b[38;5;132;01m}\u001b[39;00m\u001b[38;5;124m\"\u001b[39m, \u001b[38;5;124mf\u001b[39m\u001b[38;5;124m\"\u001b[39m\u001b[38;5;124mAnswer: \u001b[39m\u001b[38;5;132;01m{\u001b[39;00manswers[\u001b[38;5;241m-\u001b[39m\u001b[38;5;241m1\u001b[39m]\u001b[38;5;132;01m}\u001b[39;00m\u001b[38;5;124m\"\u001b[39m, \u001b[38;5;124mf\u001b[39m\u001b[38;5;124m\"\u001b[39m\u001b[38;5;124mSources: \u001b[39m\u001b[38;5;132;01m{\u001b[39;00m[[src_dict[k]\u001b[38;5;250m \u001b[39m\u001b[38;5;28;01mfor\u001b[39;00m\u001b[38;5;250m \u001b[39mk\u001b[38;5;250m \u001b[39m\u001b[38;5;129;01min\u001b[39;00m\u001b[38;5;250m \u001b[39msrc_keys]\u001b[38;5;250m \u001b[39m\u001b[38;5;28;01mfor\u001b[39;00m\u001b[38;5;250m \u001b[39msrc_dict\u001b[38;5;250m \u001b[39m\u001b[38;5;129;01min\u001b[39;00m\u001b[38;5;250m \u001b[39mbots[\u001b[38;5;241m-\u001b[39m\u001b[38;5;241m1\u001b[39m]\u001b[38;5;241m.\u001b[39mget_sources()]\u001b[38;5;132;01m}\u001b[39;00m\u001b[38;5;124m\"\u001b[39m, sep\u001b[38;5;241m=\u001b[39m\u001b[38;5;124m\"\u001b[39m\u001b[38;5;130;01m\\n\u001b[39;00m\u001b[38;5;124m\"\u001b[39m, end\u001b[38;5;241m=\u001b[39m\u001b[38;5;124m\"\u001b[39m\u001b[38;5;130;01m\\n\u001b[39;00m\u001b[38;5;130;01m\\n\u001b[39;00m\u001b[38;5;124m\"\u001b[39m)\n\u001b[1;32m     12\u001b[0m sleep(\u001b[38;5;241m3\u001b[39m)\n",
      "\u001b[0;31mKeyError\u001b[0m: 'page_number'"
     ]
    }
   ],
   "source": [
    "src_keys=['file_name','page_number']\n",
    "bots = []\n",
    "answers = []\n",
    "for q in synthetic_test_queries:\n",
    "    rag_chatbot = RagChatbotMultiQA(\n",
    "        max_docs=10,\n",
    "        answer_select_strategy={\"strategy_name\": \"merge_answers\", \"max_answers\": 5},\n",
    "    )\n",
    "    bots.append(rag_chatbot)\n",
    "    answers.append(rag_chatbot.run_rag_chat(q))\n",
    "    print(f\"Question: {q}\", f\"Answer: {answers[-1]}\", f\"Sources: {[[src_dict[k] for k in src_keys] for src_dict in bots[-1].get_sources()]}\", sep=\"\\n\", end=\"\\n\\n\")\n",
    "    sleep(3)\n"
   ]
  },
  {
   "cell_type": "code",
   "execution_count": 4,
   "id": "f7938aee-5488-475e-a473-f0a8919112c3",
   "metadata": {},
   "outputs": [],
   "source": [
    "src = bots[-1].get_sources()"
   ]
  },
  {
   "cell_type": "code",
   "execution_count": 5,
   "id": "9d991820-ff2d-4923-8f04-5bc34fdb4197",
   "metadata": {},
   "outputs": [
    {
     "data": {
      "text/plain": [
       "[{'_id': ObjectId('65b287e63d93ee5a2216c4d2'),\n",
       "  'page_number': 119,\n",
       "  'folder': 'references/Weekly Reports',\n",
       "  'file_name': 'ArmyEntertainmentReports_2005-06.pdf',\n",
       "  'path': 'references/Weekly Reports/ArmyEntertainmentReports_2005-06.pdf',\n",
       "  'split_idx': 0,\n",
       "  'n_splits': 1,\n",
       "  'similarity_score': 0.2778642,\n",
       "  'answer': 'The specific requests made by entertainment companies to the armed forces for support in their projects include coordinating with the military for a feature length project involving Army and Air Force aircraft, conducting a mini-basic training/familiarization course for actors, discussing military support for a film and making changes to the script, coordinating with writers for a project in Iraq, and requesting support for various TV shows and specials featuring the military.',\n",
       "  'is_good': True},\n",
       " {'_id': ObjectId('65b173c893ee7900bc6be2b3'),\n",
       "  'page': 119,\n",
       "  'folder': 'references/Weekly Reports',\n",
       "  'file_name': 'ArmyEntertainmentReports_2005-06.pdf',\n",
       "  'path': 'references/Weekly Reports/ArmyEntertainmentReports_2005-06.pdf',\n",
       "  'split_idx': 0,\n",
       "  'n_splits': 1,\n",
       "  'similarity_score': 0.27794322,\n",
       "  'answer': 'The specific requests made by entertainment companies to the armed forces for support in their projects include coordinating with the military for a feature length project involving Army and Air Force aircraft, discussing military support for a film to ensure it is not offensive, coordinating with writers for a project in Iraq and requesting military support, and requesting support for a Country Music Television special featuring the Dallas Cowboys Cheerleaders greeting the troops.',\n",
       "  'is_good': True},\n",
       " {'_id': ObjectId('65b287e63d93ee5a2216c4b1'),\n",
       "  'page_number': 86,\n",
       "  'folder': 'references/Weekly Reports',\n",
       "  'file_name': 'ArmyEntertainmentReports_2005-06.pdf',\n",
       "  'path': 'references/Weekly Reports/ArmyEntertainmentReports_2005-06.pdf',\n",
       "  'split_idx': 0,\n",
       "  'n_splits': 1,\n",
       "  'similarity_score': 0.28647527,\n",
       "  'answer': 'The specific requests made by entertainment companies to the armed forces for support in their projects include coordination and support for television series filming, preparations for presentations at meetings, and requests for script approval and project support.',\n",
       "  'is_good': True},\n",
       " {'_id': ObjectId('65b173c893ee7900bc6be292'),\n",
       "  'page': 86,\n",
       "  'folder': 'references/Weekly Reports',\n",
       "  'file_name': 'ArmyEntertainmentReports_2005-06.pdf',\n",
       "  'path': 'references/Weekly Reports/ArmyEntertainmentReports_2005-06.pdf',\n",
       "  'split_idx': 0,\n",
       "  'n_splits': 1,\n",
       "  'similarity_score': 0.28649306,\n",
       "  'answer': 'Entertainment companies have made requests for coordination and support for television series filming, preparations for presentations at meetings, and approval for specific projects such as \"Home of the Brave.\"',\n",
       "  'is_good': True},\n",
       " {'_id': ObjectId('65b1737f48d8fd5d5c6be1e4'),\n",
       "  'page': 132,\n",
       "  'folder': 'references/Weekly Reports',\n",
       "  'file_name': 'DOD-Entertainment-Weekly-Full-Release.pdf',\n",
       "  'path': 'references/Weekly Reports/DOD-Entertainment-Weekly-Full-Release.pdf',\n",
       "  'split_idx': 0,\n",
       "  'n_splits': 1,\n",
       "  'similarity_score': 0.28786707,\n",
       "  'answer': 'The entertainment companies have requested moderate military support for the TV show \"Homeland\" and support for an episodic reboot of \"The Right Stuff\" from the Army and Air Force, respectively. Additionally, the production teams of \"NCIS,\" \"NCIS New Orleans,\" and \"Hawaii 5-0\" have sent scripts for the 2019/20 season for review.',\n",
       "  'is_good': True},\n",
       " {'_id': ObjectId('65b287c9a9c66392a016c4c8'),\n",
       "  'page_number': 132,\n",
       "  'folder': 'references/Weekly Reports',\n",
       "  'file_name': 'DOD-Entertainment-Weekly-Full-Release.pdf',\n",
       "  'path': 'references/Weekly Reports/DOD-Entertainment-Weekly-Full-Release.pdf',\n",
       "  'split_idx': 0,\n",
       "  'n_splits': 1,\n",
       "  'similarity_score': 0.2878944,\n",
       "  'answer': 'The entertainment companies have requested moderate military support for the TV show \"Homeland\" and support for an episodic reboot of \"The Right Stuff\" from the Army and Air Force, respectively. Additionally, the production teams of \"NCIS,\" \"NCIS New Orleans,\" and \"Hawaii 5-0\" have sent scripts for the 2019/20 season for review.',\n",
       "  'is_good': True}]"
      ]
     },
     "execution_count": 5,
     "metadata": {},
     "output_type": "execute_result"
    }
   ],
   "source": [
    "src"
   ]
  },
  {
   "cell_type": "code",
   "execution_count": null,
   "id": "8ae660a5-00bd-4ff7-b51c-4f72f7df346c",
   "metadata": {},
   "outputs": [],
   "source": []
  }
 ],
 "metadata": {
  "kernelspec": {
   "display_name": "Python 3 (ipykernel)",
   "language": "python",
   "name": "python3"
  },
  "language_info": {
   "codemirror_mode": {
    "name": "ipython",
    "version": 3
   },
   "file_extension": ".py",
   "mimetype": "text/x-python",
   "name": "python",
   "nbconvert_exporter": "python",
   "pygments_lexer": "ipython3",
   "version": "3.8.3"
  }
 },
 "nbformat": 4,
 "nbformat_minor": 5
}
