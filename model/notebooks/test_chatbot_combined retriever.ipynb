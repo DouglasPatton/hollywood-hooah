{
 "cells": [
  {
   "cell_type": "code",
   "execution_count": 1,
   "id": "d61c7ca2-2118-4386-b6f0-59420aac3e54",
   "metadata": {},
   "outputs": [
    {
     "name": "stdout",
     "output_type": "stream",
     "text": [
      "/home/dp/hdd/gits/EncyclopediaChat\n"
     ]
    }
   ],
   "source": [
    "%cd ..\n",
    "from ragchat.chatbots import RagChatbotMultiRetrieverCombiner\n",
    "from ragchat.configs import (\n",
    "    MAX_DOCS_RETRIEVER,\n",
    "    MAX_TOKENS_CONTEXT,\n",
    "    TEST_QUERIES,\n",
    "    VECTOR_STORE_SAVE_PATH,\n",
    ")\n",
    "import json\n",
    "from random import seed,shuffle\n",
    "from time import sleep"
   ]
  },
  {
   "cell_type": "code",
   "execution_count": 2,
   "id": "4e91871e-858d-40a6-9616-e9463d4320eb",
   "metadata": {},
   "outputs": [
    {
     "data": {
      "text/plain": [
       "['On which operating systems can Moldflow Adviser run?',\n",
       " 'How can Fusion 360 help increase manufacturing throughput?',\n",
       " 'How does Smart Blocks work in AutoCAD 2024?',\n",
       " 'What are the system requirements for running FBX Review on a Mac?',\n",
       " 'Can a package license file be used for multiple releases of the same product in Autodesk software?',\n",
       " 'How does Maya Creative software support 3D modeling?',\n",
       " 'What are the features of the project management software offered by Autodesk?',\n",
       " 'How can I refer a friend to Fusion 360 and earn money?',\n",
       " 'How does the Strategic Foresight team explore future scenarios?',\n",
       " 'What is the significance of volumetric video in the future of 3D content creation?']"
      ]
     },
     "execution_count": 2,
     "metadata": {},
     "output_type": "execute_result"
    }
   ],
   "source": [
    "# try a handful of synthetic questions\n",
    "n=15\n",
    "q_ds = DocStore(db_name=Q_DB_NAME, collection_name=Q_COLLECTION_NAME,)\n",
    "retrieved_synthetic_test_queries = [q for record in q_ds.retrieve_random(n=n*5) for q in record['questions']]\n",
    "seed(42)\n",
    "shuffle(retrieved_synthetic_test_queries)\n",
    "synthetic_test_queries=retrieved_synthetic_test_queries[:n]\n",
    "synthetic_test_queries"
   ]
  },
  {
   "cell_type": "code",
   "execution_count": 4,
   "id": "f39ba4c6-4162-4e6e-9da7-5c1c26484a85",
   "metadata": {},
   "outputs": [
    {
     "name": "stdout",
     "output_type": "stream",
     "text": [
      "4 documents merged by MultiRetrieverCombiner\n",
      "MultiRetrieverCombiner output num tokens: 5795\n",
      "On which operating systems can Moldflow Adviser run?\n",
      "Moldflow Adviser can run on Microsoft® Windows®.\n",
      "['adsk-e70fc0266311424c9063238c3afce252.html', 'adsk-bf7a13c66d5b478f8b692bb79294c552.html', 'adsk-d5e57376e57e407eaea8bbc9e259d51c.html', 'adsk-c6e5441341124eba969b12abd8bba1d9.html', 'adsk-c1a7657f5f80477c9c2b8c40bc5c9e71.html']\n",
      "\n",
      "4 documents merged by MultiRetrieverCombiner\n",
      "MultiRetrieverCombiner output num tokens: 8449\n",
      "How can Fusion 360 help increase manufacturing throughput?\n",
      "Fusion 360 can help increase manufacturing throughput by providing automation, collaboration, and software interoperability to reduce non-value add processes from design inception through production. It also allows for improved collaboration, iteration, and simulation to enhance product quality and reliability in the early stages of product development. Additionally, Fusion 360 can optimize prototyping and fabrication processes to increase productivity while reducing material costs, engineering costs, and fixed overhead costs.\n",
      "['adsk-3d042d9f07ee4dd5aa4755c654f9f920.html', 'adsk-492a9bfd67314eea8d874a9dbeac29f0.html', 'adsk-2b1767cda3c14a849525056956797921.html', 'adsk-ab415a2568714487ad789bc31ef61865.html', 'adsk-df8e01fe04834d839e11ed48ed40ca18.html']\n",
      "\n",
      "4 documents merged by MultiRetrieverCombiner\n",
      "MultiRetrieverCombiner output num tokens: 10706\n",
      "How does Smart Blocks work in AutoCAD 2024?\n",
      "Smart Blocks in AutoCAD 2024 automatically place blocks based on previous placements or quickly find and replace existing blocks.\n",
      "['adsk-34e71ffdff08466789e39e0e0712e678.html', 'adsk-10a591035447413c8fc0df096395ce20.html', 'adsk-380f9f4f8ef34126bfa053bfe2d572f8.html', 'adsk-c45e295e31df4711a268a401c2092dba.html', 'adsk-9797cd3321ab44898dc66c64def74570.html']\n",
      "\n",
      "4 documents merged by MultiRetrieverCombiner\n",
      "MultiRetrieverCombiner output num tokens: 2472\n",
      "What are the system requirements for running FBX Review on a Mac?\n",
      "The system requirements for running FBX Review on a Mac are:\n",
      "- Processor: Intel® Core i5 or higher, 1.2 GHz minimum\n",
      "- Network interface card: Ethernet network configuration\n",
      "- Operating system: Apple macOS 12.5, Apple macOS 13\n",
      "- FlexNet: 11.19.4.1\n",
      "- Communication protocol: TCP/IP Note: Network License Manager uses TCP packet types\n",
      "['adsk-eaa2bef626684515926caf52403ca042.html', 'adsk-fc932c6b2ca54747a12740f1d3e48a90.html', 'adsk-21255a82049e45d9b11768d2543f31d0.html', 'adsk-5ce9de3dfa61465fa097c6d90e31b34b.html', 'adsk-94ac07cbe08744e29790bac21ca91026.html']\n",
      "\n",
      "4 documents merged by MultiRetrieverCombiner\n",
      "MultiRetrieverCombiner output num tokens: 10276\n",
      "Can a package license file be used for multiple releases of the same product in Autodesk software?\n",
      "Yes, a package license file can be used for multiple releases of the same product in Autodesk software.\n",
      "['adsk-1e21fb130b8346fca82a5f6297d5ee23.html', 'adsk-2f95d381740245dd9a003327cb5e23a3.html', 'adsk-ae5e6d11212e431fa1b7130c34e6f6a9.html', 'adsk-5b21574975fc4955b03d4e1138d1b3bd.html', 'adsk-f76f51715f794a10a91cfa2782f0e0f0.html']\n",
      "\n",
      "4 documents merged by MultiRetrieverCombiner\n",
      "MultiRetrieverCombiner output num tokens: 6074\n",
      "How does Maya Creative software support 3D modeling?\n",
      "Maya Creative software includes powerful modeling tools to create complex characters, props, and worlds with sophisticated 3D modeling tools. It also offers features such as UV editor, sculpting tools, NURBS modeling, polygon modeling, and OpenSubdiv support.\n",
      "['adsk-5875eaeb1b5a49abb6f001fe929870a6.html', 'adsk-0b1e6f641b8d4014a2a3330cfaed53e0.html', 'adsk-55ca6383d55146cf8d6d4f67dcd06906.html', 'adsk-46f7b60da9904b8e9ba079fe59e247e3.html', 'adsk-350f07e72fb141f0b41e9f88bca88128.html']\n",
      "\n",
      "4 documents merged by MultiRetrieverCombiner\n",
      "MultiRetrieverCombiner output num tokens: 5934\n",
      "What are the features of the project management software offered by Autodesk?\n",
      "The features of the project management software offered by Autodesk include:\n",
      "1. Document and Storage Management\n",
      "2. Field Workflows - Issue Management, Forms, Photos\n",
      "3. Project Management - RFIs, Submittals, Schedules, Meeting Minutes\n",
      "4. Asset Management\n",
      "5. Cost Management - Project Budgets and Costs, Change Order Management, Forecasting\n",
      "['adsk-cbb377573c1144af87a7132542bb6e39.html', 'adsk-f60474ee551b469eaa142dd7753b7805.html', 'adsk-8dc1ffb48f944380a19d9c429ea42dbe.html', 'adsk-8b8400685f164aa3aaeb2c6ba8f26931.html', 'adsk-38958fc4db2d4470ba2d369b7879ef8b.html']\n",
      "\n",
      "4 documents merged by MultiRetrieverCombiner\n",
      "MultiRetrieverCombiner output num tokens: 5774\n",
      "How can I refer a friend to Fusion 360 and earn money?\n",
      "You can refer a friend to Fusion 360 and earn $50 by giving $50 to every friend you refer who subscribes to an annual subscription.\n",
      "['adsk-814ee2ff29564b578a6c8c62f3ed1a9e.html', 'adsk-a3327b6cbc244459be76f896dfc71e3a.html', 'adsk-505627ba142a4e29be62f01ba9a1be21.html', 'adsk-4d7c1de4b68744449141dd51c0065a07.html', 'adsk-4916e161c19e4a549c742e76ea79ad1e.html']\n",
      "\n",
      "4 documents merged by MultiRetrieverCombiner\n",
      "MultiRetrieverCombiner output num tokens: 4927\n",
      "How does the Strategic Foresight team explore future scenarios?\n",
      "The Strategic Foresight team explores future scenarios in a STEEP (Social, Technological, Economic, Environmental, and Political) framework to identify drivers of emerging themes and patterns, and how those will impact the company, customers, and customers’ customers.\n",
      "['adsk-8ead6d6dd56f42cdbdc1eeb2b0f0f58e.html', 'adsk-1ad73e420e1b408aa9a2907bae0691f3.html', 'adsk-ad1024f1d75a450ead75e88569d4d3f3.html', 'adsk-85b78ba6068f4c5daf9d5c27f2fc6067.html', 'adsk-985f9a6c97a541548861338cf94cc4d4.html']\n",
      "\n",
      "4 documents merged by MultiRetrieverCombiner\n",
      "MultiRetrieverCombiner output num tokens: 8385\n",
      "What is the significance of volumetric video in the future of 3D content creation?\n",
      "The given document does not contain information about the significance of volumetric video in the future of 3D content creation. Therefore, based on the provided content, it is not possible to answer the question.\n",
      "['adsk-5e300c68aa1e4a568d582ce3e5b37ad5.html', 'adsk-44077d3c569b44e9b0a681f812939542.html', 'adsk-beaf70cfd5c841e2bdd0566e0dbcdc0c.html', 'adsk-34f0319fec4c49d69821767b8c38e8ce.html', 'adsk-29697a5ba1be4ce88b88dbd4f44155a5.html']\n",
      "\n"
     ]
    }
   ],
   "source": [
    "bots = []\n",
    "answers = []\n",
    "for q in synthetic_test_queries:\n",
    "    rag_chatbot = RagChatbotMultiRetrieverCombiner(\n",
    "        vector_store_save_path=VECTOR_STORE_SAVE_PATH\n",
    "    )\n",
    "    bots.append(rag_chatbot)\n",
    "    answers.append(rag_chatbot.run_rag_chat(q))\n",
    "    print(q, answers[-1], bots[-1].get_sources(), sep=\"\\n\", end=\"\\n\\n\")\n",
    "    sleep(3)\n"
   ]
  }
 ],
 "metadata": {
  "kernelspec": {
   "display_name": "Python 3 (ipykernel)",
   "language": "python",
   "name": "python3"
  },
  "language_info": {
   "codemirror_mode": {
    "name": "ipython",
    "version": 3
   },
   "file_extension": ".py",
   "mimetype": "text/x-python",
   "name": "python",
   "nbconvert_exporter": "python",
   "pygments_lexer": "ipython3",
   "version": "3.8.3"
  }
 },
 "nbformat": 4,
 "nbformat_minor": 5
}
