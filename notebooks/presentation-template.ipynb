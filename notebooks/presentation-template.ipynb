{
 "cells": [
  {
   "cell_type": "markdown",
   "id": "b7fb7a2b-fe73-499b-a2ca-dee3717dd20a",
   "metadata": {
    "editable": true,
    "slideshow": {
     "slide_type": ""
    },
    "tags": []
   },
   "source": [
    " 1. Your approach to the problem, data, and architecture\n",
    " 2. Given more time how would you improve the system?\n",
    " 3. In production, how would you evaluate the system?"
   ]
  },
  {
   "cell_type": "markdown",
   "id": "ddbfa475-7384-411e-81b5-f6c089e96433",
   "metadata": {
    "editable": true,
    "raw_mimetype": "",
    "slideshow": {
     "slide_type": "slide"
    },
    "tags": []
   },
   "source": [
    "# Efficient Knowledge Retrieval with RAG Chatbots\n",
    "In this talk, we'll explore how a Retrieval Augmented Generation (RAG) chatbot leverages 1000+ Autodesk website HTML files to answer user queries. We'll delve into the architecture, key variants, and future directions of this project."
   ]
  },
  {
   "cell_type": "markdown",
   "id": "0d0374b5-5a5b-4841-a32e-03378564e2a6",
   "metadata": {
    "editable": true,
    "raw_mimetype": "",
    "slideshow": {
     "slide_type": "slide"
    },
    "tags": []
   },
   "source": []
  },
  {
   "cell_type": "markdown",
   "id": "b1384b03-289e-4f20-b798-6b28f3110415",
   "metadata": {
    "editable": true,
    "raw_mimetype": "",
    "slideshow": {
     "slide_type": "slide"
    },
    "tags": []
   },
   "source": [
    "## RAG Deep Dive (4 minutes)\n",
    "## Retrieval Augmented Generation\n",
    "The basic chatbot combines two components:\n",
    " - Retriever: Locates relevant documents from the knowledge base (HTML files) based on the user query.\n",
    " - Generator: Uses the retrieved documents and the query to generate a natural language response.\n",
    "Using FAISS, we efficiently search the embedded document vectors based on the query vector. ChatGPT 3.5 then crafts a response by integrating information from the retrieved documents and the query."
   ]
  },
  {
   "cell_type": "markdown",
   "id": "680d045d-d510-41e8-b6d0-5ff69fb1375e",
   "metadata": {
    "editable": true,
    "slideshow": {
     "slide_type": "slide"
    },
    "tags": []
   },
   "source": [
    "## Chatbot Architectures & Design Choices (5 minutes)"
   ]
  },
  {
   "cell_type": "markdown",
   "id": "e431cb9a-3327-44a1-9a62-600a84665eac",
   "metadata": {
    "editable": true,
    "slideshow": {
     "slide_type": "subslide"
    },
    "tags": []
   },
   "source": [
    "\n",
    "## Object-Oriented Design\n",
    "The Python package leverages an object-oriented approach for modularity and maintainability.\n",
    "## Archictecture\n",
    " - Classes defined based on functionality\n",
    "   - clean, embed, retrieve, chat\n",
    "   - Individual python modules easily re-used"
   ]
  },
  {
   "cell_type": "markdown",
   "id": "56afd54e-80c6-41a9-a91d-1b384518212d",
   "metadata": {
    "editable": true,
    "slideshow": {
     "slide_type": "subslide"
    },
    "tags": []
   },
   "source": [
    "# Code: (Optional code snippets showcasing key functions and data structures of the dictionary-based architecture)\n",
    "## Chatbot Variants & Performances (4 minutes)\n",
    "## Exploring Chatbot Variants\n",
    "Let's dive into some interesting chatbot variations and their functionalities:\n",
    "RagChatbot: Basic but effective, retrieves a few relevant documents and uses the generator to craft a response.\n",
    "Performance: Works well on most questions, but may face limitations with complex queries.\n",
    "\n",
    "\n",
    "RagChatbotMultiRetrieverCombiner: Combines content from multiple retrieved documents for a more comprehensive answer.\n",
    "Strengths: Handles complex questions better than RagChatbot, but sensitive to token limit.\n",
    "\n",
    "\n",
    "(Optional: Additional noteworthy variants and functionalities briefly)\n",
    "End this section with a call to action: Encourage audience questions and discussion on chatbot designs."
   ]
  },
  {
   "cell_type": "markdown",
   "id": "ede8ea3f-6b6a-4d98-832e-78a8abd822d9",
   "metadata": {
    "editable": true,
    "slideshow": {
     "slide_type": "slide"
    },
    "tags": []
   },
   "source": [
    "## Challenges & Future Work (3 minutes)\n"
   ]
  },
  {
   "cell_type": "markdown",
   "id": "cfa904f9-81de-4060-843c-8c1c7a2ebb6f",
   "metadata": {
    "editable": true,
    "slideshow": {
     "slide_type": "subslide"
    },
    "tags": []
   },
   "source": [
    "## Challenges and Hallucinations\n",
    "Even with its strengths, the chatbot can sometimes generate inaccurate information (hallucinations).\n",
    "Example: Mistakenly claiming AutoCAD LT can do 3D modeling due to confusing text in source document.\n",
    "Solutions: Improve text cleaning accuracy and develop LLM logic to better distinguish product variations.\n",
    "## Future Directions:\n",
    "Utilize additional LLM chains for smart attribution and reduced retrieval overhead.\n",
    "Integrate product awareness within the chatbot.\n",
    "Explore chain-of-thought modeling for complex question answering.\n",
    "Enable fine-tuning and labeling for system expansion."
   ]
  },
  {
   "cell_type": "markdown",
   "id": "c636cf16-2aa5-4c67-9d54-37dedbe7764e",
   "metadata": {
    "editable": true,
    "slideshow": {
     "slide_type": ""
    },
    "tags": []
   },
   "source": [
    "## Conclusion & Closing Thoughts (2 minutes)\n",
    "Briefly summarize the project's achievements and potential.\n",
    "Emphasize the promising nature of RAG-based chatbots for efficient knowledge retrieval.\n",
    "End with a thought-provoking question or future direction for the research."
   ]
  }
 ],
 "metadata": {
  "kernelspec": {
   "display_name": "Python 3 (ipykernel)",
   "language": "python",
   "name": "python3"
  },
  "language_info": {
   "codemirror_mode": {
    "name": "ipython",
    "version": 3
   },
   "file_extension": ".py",
   "mimetype": "text/x-python",
   "name": "python",
   "nbconvert_exporter": "python",
   "pygments_lexer": "ipython3",
   "version": "3.8.3"
  }
 },
 "nbformat": 4,
 "nbformat_minor": 5
}
