{
 "cells": [
  {
   "cell_type": "code",
   "execution_count": 1,
   "id": "28ec7944-9925-4105-86f3-a421076395fe",
   "metadata": {},
   "outputs": [
    {
     "data": {
      "text/plain": [
       "'/home/dp/hdd/gits/hollywood-hooah'"
      ]
     },
     "execution_count": 1,
     "metadata": {},
     "output_type": "execute_result"
    }
   ],
   "source": [
    "%cd ..\n",
    "import os\n",
    "os.getcwd()"
   ]
  },
  {
   "cell_type": "code",
   "execution_count": 2,
   "id": "af2d014b-eb87-4cac-a26a-31dab1e37040",
   "metadata": {},
   "outputs": [],
   "source": [
    "from ragchat.pdf_reader import PdfReader\n",
    "from ragchat.configs import DEBUG, REFERENCE_FOLDER, DB_NAME, COLLECTION_NAME\n",
    "import os"
   ]
  },
  {
   "cell_type": "code",
   "execution_count": 3,
   "id": "9a60d583-1d43-4b89-abad-a40258013c22",
   "metadata": {},
   "outputs": [],
   "source": [
    "# from ragchat.pdf_reader import PdfExtractor \n",
    "# pe=PdfExtractor('references/Weekly Reports','Nat Guard List Film and TV Shows.pdf','references/Weekly Reports/Nat Guard List Film and TV Shows.pdf')\n",
    "# pe.run()\n",
    "# print(pe.result)\n",
    "# print(pe.doc_store.not_new)"
   ]
  },
  {
   "cell_type": "code",
   "execution_count": 4,
   "id": "c5a5fb50-cb2c-4ff6-a731-6490501bf282",
   "metadata": {},
   "outputs": [
    {
     "name": "stdout",
     "output_type": "stream",
     "text": [
      "starting processing of pdf pages\n",
      "[]\n",
      "['US-Navy-PAAs-2013-2017.pdf', 'Nat Guard List Film and TV Shows.pdf', 'US-Army-ELO-Reports-2017-2018.pdf', 'USAF_Entertainment_Weekly_Reports_2006-06.pdf', 'USArmy-ELO-weeklyreports2005-6.pdf', 'US-Army-ELO-2018-2020.pdf', 'USAF-ELO-Reports-2016.pdf', 'USMC-ELOreport-May2011.pdf', 'DOD-Entertainment-Weekly-Full-Release.pdf', 'USArmy-ELO-weeklyreports2004-5.pdf', 'USAirForce-EntertainmentLiaisonOffice-2013reports.pdf', 'USAF-EntertainmentLiaisonOffice-2014reports.pdf', 'USArmy-EntertainmentLiaisonOffice-2010to2015reports.pdf', 'ArmyEntertainmentReports_2005-06.pdf', 'US-Army-ELO-Reports-2015-2017.pdf', 'USMC-Comms-ELO-Slides 2020-21.pdf', 'USAF-ELO-WeeklyReports-2005-2006.pdf', 'USAF-ELO-Reports-2017.pdf', 'USMC-ELOreports-2008to2015.pdf', 'USAF-ELO-Reports-2019.pdf', 'USAF-ELO-2018.pdf', 'Navy ELO Reports 2017-2021.pdf', 'DOD-ELOweekly-June1st-2017.pdf', 'US Navy ELO reports 2012-2017.pdf']\n",
      "US-Navy-PAAs-2013-2017.pdf\n",
      "Nat Guard List Film and TV Shows.pdf\n",
      "US-Army-ELO-Reports-2017-2018.pdf\n",
      "USAF_Entertainment_Weekly_Reports_2006-06.pdf\n",
      "USArmy-ELO-weeklyreports2005-6.pdf\n",
      "US-Army-ELO-2018-2020.pdf\n",
      "USAF-ELO-Reports-2016.pdf\n",
      "USMC-ELOreport-May2011.pdf\n",
      "DOD-Entertainment-Weekly-Full-Release.pdf\n",
      "USArmy-ELO-weeklyreports2004-5.pdf\n",
      "USAirForce-EntertainmentLiaisonOffice-2013reports.pdf\n",
      "USAF-EntertainmentLiaisonOffice-2014reports.pdf\n",
      "USArmy-EntertainmentLiaisonOffice-2010to2015reports.pdf\n",
      "ArmyEntertainmentReports_2005-06.pdf\n",
      "US-Army-ELO-Reports-2015-2017.pdf\n",
      "USMC-Comms-ELO-Slides 2020-21.pdf\n",
      "USAF-ELO-WeeklyReports-2005-2006.pdf\n",
      "USAF-ELO-Reports-2017.pdf\n",
      "USMC-ELOreports-2008to2015.pdf\n",
      "USAF-ELO-Reports-2019.pdf\n",
      "USAF-ELO-2018.pdf\n",
      "Navy ELO Reports 2017-2021.pdf\n",
      "DOD-ELOweekly-June1st-2017.pdf\n",
      "US Navy ELO reports 2012-2017.pdf\n",
      "['USAF-EntertainmentLiaisonOffice-2014reports-checkpoint.pdf', 'USAirForce-EntertainmentLiaisonOffice-2013reports-checkpoint.pdf']\n",
      "USAF-EntertainmentLiaisonOffice-2014reports-checkpoint.pdf\n",
      "USAirForce-EntertainmentLiaisonOffice-2013reports-checkpoint.pdf\n"
     ]
    }
   ],
   "source": [
    "# pg='references/Weekly Reports/Nat Guard List Film and TV Shows.pdf'\n",
    "pg=None\n",
    "reader=PdfReader(page_list=None,\n",
    "                 debug=DEBUG,\n",
    "                 reference_folder=REFERENCE_FOLDER,\n",
    "                 db_name=DB_NAME,\n",
    "                 collection_name=COLLECTION_NAME,\n",
    "                 mp_proc_count=4,\n",
    "                 drop_output=False,\n",
    "                 )\n",
    "print('starting processing of pdf pages')\n",
    "output=reader.process_pdf_pages()"
   ]
  },
  {
   "cell_type": "code",
   "execution_count": 5,
   "id": "34b4d243-2b03-4ea3-984c-b230f3924335",
   "metadata": {},
   "outputs": [
    {
     "name": "stdout",
     "output_type": "stream",
     "text": [
      "[<ragchat.pdf_reader.PdfExtractor object at 0x7f0e90b14880>, <ragchat.pdf_reader.PdfExtractor object at 0x7f0e5a56ebe0>, <ragchat.pdf_reader.PdfExtractor object at 0x7f0e5a50c400>, <ragchat.pdf_reader.PdfExtractor object at 0x7f0e90ccb100>, <ragchat.pdf_reader.PdfExtractor object at 0x7f0e90bd5130>, <ragchat.pdf_reader.PdfExtractor object at 0x7f0e5971e130>, <ragchat.pdf_reader.PdfExtractor object at 0x7f0e90cbb340>, <ragchat.pdf_reader.PdfExtractor object at 0x7f0e90cbbc70>, <ragchat.pdf_reader.PdfExtractor object at 0x7f0e90ccf8b0>, <ragchat.pdf_reader.PdfExtractor object at 0x7f0e90ce5c40>, <ragchat.pdf_reader.PdfExtractor object at 0x7f0e90cf6bb0>, <ragchat.pdf_reader.PdfExtractor object at 0x7f0e90c8ca60>, <ragchat.pdf_reader.PdfExtractor object at 0x7f0e90c9a790>, <ragchat.pdf_reader.PdfExtractor object at 0x7f0e90a3e580>, <ragchat.pdf_reader.PdfExtractor object at 0x7f0e90c475e0>, <ragchat.pdf_reader.PdfExtractor object at 0x7f0e90be8e20>, <ragchat.pdf_reader.PdfExtractor object at 0x7f0e90b923d0>, <ragchat.pdf_reader.PdfExtractor object at 0x7f0e90b9ba60>, <ragchat.pdf_reader.PdfExtractor object at 0x7f0e90b4aaf0>, <ragchat.pdf_reader.PdfExtractor object at 0x7f0e90bada90>, <ragchat.pdf_reader.PdfExtractor object at 0x7f0e90bb3c40>, <ragchat.pdf_reader.PdfExtractor object at 0x7f0e90b3b610>, <ragchat.pdf_reader.PdfExtractor object at 0x7f0e90b4a880>, <ragchat.pdf_reader.PdfExtractor object at 0x7f0e90a1a730>, <ragchat.pdf_reader.PdfExtractor object at 0x7f0eb141cf10>, <ragchat.pdf_reader.PdfExtractor object at 0x7f0e90a53490>]\n"
     ]
    }
   ],
   "source": [
    "print(output)"
   ]
  },
  {
   "cell_type": "code",
   "execution_count": 6,
   "id": "71b215f7-aa49-48ea-8142-d5a046c30b88",
   "metadata": {},
   "outputs": [
    {
     "data": {
      "text/plain": [
       "[('references/Weekly Reports',\n",
       "  'US-Navy-PAAs-2013-2017.pdf',\n",
       "  'references/Weekly Reports/US-Navy-PAAs-2013-2017.pdf'),\n",
       " ('references/Weekly Reports',\n",
       "  'Nat Guard List Film and TV Shows.pdf',\n",
       "  'references/Weekly Reports/Nat Guard List Film and TV Shows.pdf'),\n",
       " ('references/Weekly Reports',\n",
       "  'US-Army-ELO-Reports-2017-2018.pdf',\n",
       "  'references/Weekly Reports/US-Army-ELO-Reports-2017-2018.pdf'),\n",
       " ('references/Weekly Reports',\n",
       "  'USAF_Entertainment_Weekly_Reports_2006-06.pdf',\n",
       "  'references/Weekly Reports/USAF_Entertainment_Weekly_Reports_2006-06.pdf'),\n",
       " ('references/Weekly Reports',\n",
       "  'USArmy-ELO-weeklyreports2005-6.pdf',\n",
       "  'references/Weekly Reports/USArmy-ELO-weeklyreports2005-6.pdf'),\n",
       " ('references/Weekly Reports',\n",
       "  'US-Army-ELO-2018-2020.pdf',\n",
       "  'references/Weekly Reports/US-Army-ELO-2018-2020.pdf'),\n",
       " ('references/Weekly Reports',\n",
       "  'USAF-ELO-Reports-2016.pdf',\n",
       "  'references/Weekly Reports/USAF-ELO-Reports-2016.pdf'),\n",
       " ('references/Weekly Reports',\n",
       "  'USMC-ELOreport-May2011.pdf',\n",
       "  'references/Weekly Reports/USMC-ELOreport-May2011.pdf'),\n",
       " ('references/Weekly Reports',\n",
       "  'DOD-Entertainment-Weekly-Full-Release.pdf',\n",
       "  'references/Weekly Reports/DOD-Entertainment-Weekly-Full-Release.pdf'),\n",
       " ('references/Weekly Reports',\n",
       "  'USArmy-ELO-weeklyreports2004-5.pdf',\n",
       "  'references/Weekly Reports/USArmy-ELO-weeklyreports2004-5.pdf'),\n",
       " ('references/Weekly Reports',\n",
       "  'USAirForce-EntertainmentLiaisonOffice-2013reports.pdf',\n",
       "  'references/Weekly Reports/USAirForce-EntertainmentLiaisonOffice-2013reports.pdf'),\n",
       " ('references/Weekly Reports',\n",
       "  'USAF-EntertainmentLiaisonOffice-2014reports.pdf',\n",
       "  'references/Weekly Reports/USAF-EntertainmentLiaisonOffice-2014reports.pdf'),\n",
       " ('references/Weekly Reports',\n",
       "  'USArmy-EntertainmentLiaisonOffice-2010to2015reports.pdf',\n",
       "  'references/Weekly Reports/USArmy-EntertainmentLiaisonOffice-2010to2015reports.pdf'),\n",
       " ('references/Weekly Reports',\n",
       "  'ArmyEntertainmentReports_2005-06.pdf',\n",
       "  'references/Weekly Reports/ArmyEntertainmentReports_2005-06.pdf'),\n",
       " ('references/Weekly Reports',\n",
       "  'US-Army-ELO-Reports-2015-2017.pdf',\n",
       "  'references/Weekly Reports/US-Army-ELO-Reports-2015-2017.pdf'),\n",
       " ('references/Weekly Reports',\n",
       "  'USMC-Comms-ELO-Slides 2020-21.pdf',\n",
       "  'references/Weekly Reports/USMC-Comms-ELO-Slides 2020-21.pdf'),\n",
       " ('references/Weekly Reports',\n",
       "  'USAF-ELO-WeeklyReports-2005-2006.pdf',\n",
       "  'references/Weekly Reports/USAF-ELO-WeeklyReports-2005-2006.pdf'),\n",
       " ('references/Weekly Reports',\n",
       "  'USAF-ELO-Reports-2017.pdf',\n",
       "  'references/Weekly Reports/USAF-ELO-Reports-2017.pdf'),\n",
       " ('references/Weekly Reports',\n",
       "  'USMC-ELOreports-2008to2015.pdf',\n",
       "  'references/Weekly Reports/USMC-ELOreports-2008to2015.pdf'),\n",
       " ('references/Weekly Reports',\n",
       "  'USAF-ELO-Reports-2019.pdf',\n",
       "  'references/Weekly Reports/USAF-ELO-Reports-2019.pdf'),\n",
       " ('references/Weekly Reports',\n",
       "  'USAF-ELO-2018.pdf',\n",
       "  'references/Weekly Reports/USAF-ELO-2018.pdf'),\n",
       " ('references/Weekly Reports',\n",
       "  'Navy ELO Reports 2017-2021.pdf',\n",
       "  'references/Weekly Reports/Navy ELO Reports 2017-2021.pdf'),\n",
       " ('references/Weekly Reports',\n",
       "  'DOD-ELOweekly-June1st-2017.pdf',\n",
       "  'references/Weekly Reports/DOD-ELOweekly-June1st-2017.pdf'),\n",
       " ('references/Weekly Reports',\n",
       "  'US Navy ELO reports 2012-2017.pdf',\n",
       "  'references/Weekly Reports/US Navy ELO reports 2012-2017.pdf'),\n",
       " ('references/Weekly Reports/.ipynb_checkpoints',\n",
       "  'USAF-EntertainmentLiaisonOffice-2014reports-checkpoint.pdf',\n",
       "  'references/Weekly Reports/.ipynb_checkpoints/USAF-EntertainmentLiaisonOffice-2014reports-checkpoint.pdf'),\n",
       " ('references/Weekly Reports/.ipynb_checkpoints',\n",
       "  'USAirForce-EntertainmentLiaisonOffice-2013reports-checkpoint.pdf',\n",
       "  'references/Weekly Reports/.ipynb_checkpoints/USAirForce-EntertainmentLiaisonOffice-2013reports-checkpoint.pdf')]"
      ]
     },
     "execution_count": 6,
     "metadata": {},
     "output_type": "execute_result"
    }
   ],
   "source": [
    "reader.pdf_paths"
   ]
  },
  {
   "cell_type": "code",
   "execution_count": 7,
   "id": "14103cd7-6b8f-4409-8a52-828d846ee281",
   "metadata": {},
   "outputs": [
    {
     "data": {
      "text/plain": [
       "[('references', ['Weekly Reports'], []),\n",
       " ('references/Weekly Reports',\n",
       "  ['.ipynb_checkpoints'],\n",
       "  ['US-Navy-PAAs-2013-2017.pdf',\n",
       "   'Nat Guard List Film and TV Shows.pdf',\n",
       "   'US-Army-ELO-Reports-2017-2018.pdf',\n",
       "   'USAF_Entertainment_Weekly_Reports_2006-06.pdf',\n",
       "   'USArmy-ELO-weeklyreports2005-6.pdf',\n",
       "   'US-Army-ELO-2018-2020.pdf',\n",
       "   'USAF-ELO-Reports-2016.pdf',\n",
       "   'USMC-ELOreport-May2011.pdf',\n",
       "   'DOD-Entertainment-Weekly-Full-Release.pdf',\n",
       "   'USArmy-ELO-weeklyreports2004-5.pdf',\n",
       "   'USAirForce-EntertainmentLiaisonOffice-2013reports.pdf',\n",
       "   'USAF-EntertainmentLiaisonOffice-2014reports.pdf',\n",
       "   'USArmy-EntertainmentLiaisonOffice-2010to2015reports.pdf',\n",
       "   'ArmyEntertainmentReports_2005-06.pdf',\n",
       "   'US-Army-ELO-Reports-2015-2017.pdf',\n",
       "   'USMC-Comms-ELO-Slides 2020-21.pdf',\n",
       "   'USAF-ELO-WeeklyReports-2005-2006.pdf',\n",
       "   'USAF-ELO-Reports-2017.pdf',\n",
       "   'USMC-ELOreports-2008to2015.pdf',\n",
       "   'USAF-ELO-Reports-2019.pdf',\n",
       "   'USAF-ELO-2018.pdf',\n",
       "   'Navy ELO Reports 2017-2021.pdf',\n",
       "   'DOD-ELOweekly-June1st-2017.pdf',\n",
       "   'US Navy ELO reports 2012-2017.pdf']),\n",
       " ('references/Weekly Reports/.ipynb_checkpoints',\n",
       "  [],\n",
       "  ['USAF-EntertainmentLiaisonOffice-2014reports-checkpoint.pdf',\n",
       "   'USAirForce-EntertainmentLiaisonOffice-2013reports-checkpoint.pdf'])]"
      ]
     },
     "execution_count": 7,
     "metadata": {},
     "output_type": "execute_result"
    }
   ],
   "source": [
    "list(os.walk('references'))"
   ]
  },
  {
   "cell_type": "code",
   "execution_count": 8,
   "id": "ee3fed6f-480d-4254-a648-cfc03f540287",
   "metadata": {},
   "outputs": [
    {
     "ename": "AttributeError",
     "evalue": "'PdfReader' object has no attribute 'data_store'",
     "output_type": "error",
     "traceback": [
      "\u001b[0;31m---------------------------------------------------------------------------\u001b[0m",
      "\u001b[0;31mAttributeError\u001b[0m                            Traceback (most recent call last)",
      "Cell \u001b[0;32mIn[8], line 1\u001b[0m\n\u001b[0;32m----> 1\u001b[0m \u001b[43mreader\u001b[49m\u001b[38;5;241;43m.\u001b[39;49m\u001b[43mdata_store\u001b[49m\n",
      "\u001b[0;31mAttributeError\u001b[0m: 'PdfReader' object has no attribute 'data_store'"
     ]
    }
   ],
   "source": []
  },
  {
   "cell_type": "code",
   "execution_count": null,
   "id": "aef2be66-0224-4b9e-a66c-f3de5c09da0a",
   "metadata": {},
   "outputs": [],
   "source": []
  }
 ],
 "metadata": {
  "kernelspec": {
   "display_name": "Python 3 (ipykernel)",
   "language": "python",
   "name": "python3"
  },
  "language_info": {
   "codemirror_mode": {
    "name": "ipython",
    "version": 3
   },
   "file_extension": ".py",
   "mimetype": "text/x-python",
   "name": "python",
   "nbconvert_exporter": "python",
   "pygments_lexer": "ipython3",
   "version": "3.8.3"
  }
 },
 "nbformat": 4,
 "nbformat_minor": 5
}
