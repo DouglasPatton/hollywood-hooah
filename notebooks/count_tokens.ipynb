{
 "cells": [
  {
   "cell_type": "code",
   "execution_count": 1,
   "id": "3cf975b8-ddb6-43e6-aa1b-3bb024787f65",
   "metadata": {
    "editable": true,
    "slideshow": {
     "slide_type": ""
    },
    "tags": []
   },
   "outputs": [],
   "source": [
    "from langchain_community.chat_models import ChatOpenAI\n",
    "import json\n"
   ]
  },
  {
   "cell_type": "code",
   "execution_count": 2,
   "id": "4735c15e-716a-4a5a-abe8-431320caceb8",
   "metadata": {},
   "outputs": [],
   "source": [
    "import pandas as pd\n",
    "import matplotlib.pyplot as plt"
   ]
  },
  {
   "cell_type": "code",
   "execution_count": 3,
   "id": "aa99f7b0-c12f-4970-95a3-8cb7a4f20724",
   "metadata": {
    "editable": true,
    "slideshow": {
     "slide_type": ""
    },
    "tags": []
   },
   "outputs": [
    {
     "name": "stdout",
     "output_type": "stream",
     "text": [
      "/home/dp/hdd/gits/autochat\n"
     ]
    }
   ],
   "source": [
    "%cd ..\n",
    "from ragchat.html_cleaner import HtmlCleaner\n",
    "from ragchat.html_patterns import HtmlPatterns\n"
   ]
  },
  {
   "cell_type": "code",
   "execution_count": 4,
   "id": "98c76c34-274f-40aa-b836-06b071503b79",
   "metadata": {
    "editable": true,
    "slideshow": {
     "slide_type": ""
    },
    "tags": []
   },
   "outputs": [],
   "source": [
    "cleaner = HtmlCleaner(parser=\"inscriptis\", debug=True, max_pages=None)\n",
    "clean_text_dict = cleaner.get_clean_text_dict()\n"
   ]
  },
  {
   "cell_type": "code",
   "execution_count": 5,
   "id": "c73609e9-b022-458a-ae81-6720587403d5",
   "metadata": {
    "editable": true,
    "slideshow": {
     "slide_type": ""
    },
    "tags": []
   },
   "outputs": [],
   "source": [
    "l_lens = []\n",
    "c_lens = []\n",
    "for fname in list(clean_text_dict.keys()):\n",
    "    cleaned = clean_text_dict[fname][\"cleaned\"]\n",
    "    c_lens.append((len(cleaned), fname))\n",
    "    l_lens.append((len(cleaned.splitlines()), fname))\n",
    "\n",
    "c_lens.sort()\n",
    "l_lens.sort()\n"
   ]
  },
  {
   "cell_type": "code",
   "execution_count": 10,
   "id": "ffc76849-6b02-42e0-816e-1e43d2bbe8b7",
   "metadata": {},
   "outputs": [
    {
     "data": {
      "text/plain": [
       "874"
      ]
     },
     "execution_count": 10,
     "metadata": {},
     "output_type": "execute_result"
    }
   ],
   "source": [
    "len(clean_text_dict)"
   ]
  },
  {
   "cell_type": "code",
   "execution_count": 6,
   "id": "80797e97-1af3-4b7d-9fb6-234645a26f0f",
   "metadata": {
    "editable": true,
    "slideshow": {
     "slide_type": ""
    },
    "tags": []
   },
   "outputs": [
    {
     "name": "stderr",
     "output_type": "stream",
     "text": [
      "/home/dp/hdd/gits/autochat/env/lib/python3.8/site-packages/langchain_core/_api/deprecation.py:117: LangChainDeprecationWarning: The class `langchain_community.chat_models.openai.ChatOpenAI` was deprecated in langchain-community 0.0.10 and will be removed in 0.2.0. An updated version of the class exists in the langchain-openai package and should be used instead. To use it run `pip install -U langchain-openai` and import as `from langchain_openai import ChatOpenAI`.\n",
      "  warn_deprecated(\n"
     ]
    }
   ],
   "source": [
    "llm = ChatOpenAI(model=\"gpt-3.5-turbo-1106\", temperature=0)\n"
   ]
  },
  {
   "cell_type": "code",
   "execution_count": 7,
   "id": "66eb10b7-7e18-42df-98ae-a0b528dc667d",
   "metadata": {},
   "outputs": [],
   "source": [
    "result = {}\n",
    "N = len(c_lens)\n",
    "for idx in range(N):\n",
    "    pg = c_lens[idx][1]\n",
    "    text = clean_text_dict[pg][\"cleaned\"]\n",
    "    title = clean_text_dict[pg][\"title\"]\n",
    "    result[pg] = llm.get_num_tokens(text)\n",
    "    # if idx>100:break\n"
   ]
  },
  {
   "cell_type": "code",
   "execution_count": 9,
   "id": "dd09b4d0-bd25-4d48-a099-e20265b998f1",
   "metadata": {
    "editable": true,
    "slideshow": {
     "slide_type": ""
    },
    "tags": []
   },
   "outputs": [
    {
     "data": {
      "image/png": "[encoded data removed]",
      "text/plain": [
       "<Figure size 640x480 with 1 Axes>"
      ]
     },
     "metadata": {},
     "output_type": "display_data"
    }
   ],
   "source": [
    "fig = plt.figure()\n",
    "ax = fig.add_subplot(1,1,1)\n",
    "pd.Series(list(result.values())).hist(bins=50,ax=ax)\n",
    "ax.set_xlabel(\"# of tokens\")\n",
    "ax.set_ylabel(\"# of pages\")\n",
    "# ax.set_title('page-level')\n",
    "# ax.set_title('tokens per page')\n",
    "fig.savefig('notebooks/images/' + 'tokens per page'.replace(' ','_') + '.png')"
   ]
  },
  {
   "cell_type": "code",
   "execution_count": null,
   "id": "83830b2c-152a-476f-9956-26136b40a1a1",
   "metadata": {},
   "outputs": [],
   "source": []
  },
  {
   "cell_type": "code",
   "execution_count": null,
   "id": "486defbe-5d66-4404-82ab-d6afbd7a7c67",
   "metadata": {
    "editable": true,
    "slideshow": {
     "slide_type": ""
    },
    "tags": []
   },
   "outputs": [],
   "source": []
  }
 ],
 "metadata": {
  "kernelspec": {
   "display_name": "Python 3 (ipykernel)",
   "language": "python",
   "name": "python3"
  },
  "language_info": {
   "codemirror_mode": {
    "name": "ipython",
    "version": 3
   },
   "file_extension": ".py",
   "mimetype": "text/x-python",
   "name": "python",
   "nbconvert_exporter": "python",
   "pygments_lexer": "ipython3",
   "version": "3.8.3"
  }
 },
 "nbformat": 4,
 "nbformat_minor": 5
}
