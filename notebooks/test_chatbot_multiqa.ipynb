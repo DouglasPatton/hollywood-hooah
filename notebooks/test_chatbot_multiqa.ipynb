{
 "cells": [
  {
   "cell_type": "code",
   "execution_count": 1,
   "id": "d61c7ca2-2118-4386-b6f0-59420aac3e54",
   "metadata": {
    "editable": true,
    "slideshow": {
     "slide_type": ""
    },
    "tags": []
   },
   "outputs": [
    {
     "name": "stdout",
     "output_type": "stream",
     "text": [
      "/home/dp/hdd/gits/EncyclopediaChat\n"
     ]
    }
   ],
   "source": [
    "%cd ..\n",
    "from ragchat.chatbots import RagChatbotMultiQA\n",
    "from ragchat.configs import TEST_QUERIES\n",
    "\n",
    "import json\n",
    "from random import seed,shuffle\n",
    "from time import sleep"
   ]
  },
  {
   "cell_type": "code",
   "execution_count": 2,
   "id": "6c4d456c-96a6-49a4-a9b9-a1f98be72dc2",
   "metadata": {},
   "outputs": [
    {
     "data": {
      "text/plain": [
       "['On which operating systems can Moldflow Adviser run?',\n",
       " 'How can Fusion 360 help increase manufacturing throughput?',\n",
       " 'How does Smart Blocks work in AutoCAD 2024?',\n",
       " 'What are the system requirements for running FBX Review on a Mac?',\n",
       " 'Can a package license file be used for multiple releases of the same product in Autodesk software?',\n",
       " 'How does Maya Creative software support 3D modeling?',\n",
       " 'What are the features of the project management software offered by Autodesk?',\n",
       " 'How can I refer a friend to Fusion 360 and earn money?',\n",
       " 'How does the Strategic Foresight team explore future scenarios?',\n",
       " 'What is the significance of volumetric video in the future of 3D content creation?']"
      ]
     },
     "execution_count": 2,
     "metadata": {},
     "output_type": "execute_result"
    }
   ],
   "source": [
    "# try a handful of synthetic questions\n",
    "n_synth_questions = 10\n",
    "with open(\"questions/synthetic_questions.json\", \"r\") as f:\n",
    "    page_questions = json.load(f)\n",
    "questions = list(\n",
    "    dict.fromkeys([q for q_list in page_questions.values() for q in q_list])\n",
    ")\n",
    "seed(42)\n",
    "shuffle(questions)\n",
    "synthetic_test_queries = questions[:n_synth_questions]\n",
    "synthetic_test_queries\n"
   ]
  },
  {
   "cell_type": "code",
   "execution_count": 3,
   "id": "80eb4de8-5a7c-4fa7-8837-7056ff5cbbe1",
   "metadata": {
    "editable": true,
    "slideshow": {
     "slide_type": ""
    },
    "tags": []
   },
   "outputs": [
    {
     "name": "stderr",
     "output_type": "stream",
     "text": [
      "/home/dp/hdd/gits/EncyclopediaChat/env/lib/python3.8/site-packages/langchain_core/_api/deprecation.py:117: LangChainDeprecationWarning: The class `langchain_community.chat_models.openai.ChatOpenAI` was deprecated in langchain-community 0.1.0 and will be removed in 0.2.0. Use langchain_openai.ChatOpenAI instead.\n",
      "  warn_deprecated(\n",
      "/home/dp/hdd/gits/EncyclopediaChat/env/lib/python3.8/site-packages/langchain_core/_api/deprecation.py:117: LangChainDeprecationWarning: The class `langchain_community.embeddings.openai.OpenAIEmbeddings` was deprecated in langchain-community 0.1.0 and will be removed in 0.2.0. Use langchain_openai.OpenAIEmbeddings instead.\n",
      "  warn_deprecated(\n"
     ]
    },
    {
     "name": "stdout",
     "output_type": "stream",
     "text": [
      "What does Fusion 360 do?\n",
      "Fusion 360 is a software platform that offers a wide range of features for 3D design and modeling, manufacturing, electronics, data management, collaboration, additive manufacturing, generative design, simulation, and documentation. It allows users to bring products to market faster and impact their bottom line through a connected product development process.\n",
      "['adsk-3d042d9f07ee4dd5aa4755c654f9f920.html', 'adsk-f39a97a447964f88a9a7defbf688278f.html', 'adsk-fee742eb8c9a40169042858fc65fdde1.html', 'adsk-df8e01fe04834d839e11ed48ed40ca18.html', 'adsk-4d7c1de4b68744449141dd51c0065a07.html', 'adsk-4916e161c19e4a549c742e76ea79ad1e.html']\n",
      "\n",
      "What's the difference between AutoCAD and Revit?\n",
      "Based on the provided document, the difference between AutoCAD and Revit is that AutoCAD is a general-purpose CAD software used for 2D and 3D design and drafting, while Revit is specifically designed for Building Information Modeling (BIM) and is focused on architectural, structural, MEP (mechanical, electrical, and plumbing) design and construction.\n",
      "['adsk-51ec7ac42a02423bbf3f3425e4e95ce7.html', 'adsk-b78963ab2b70429fa537101bc633c129.html', 'adsk-a74fa2737c8d4d1fa49cede8098293d7.html', 'adsk-8233bc4c58f9404fbbb43df978a15b3e.html', 'adsk-d023069980fb453cb9115a3388af46fb.html', 'adsk-fa6b108b3ae14e429a6ea47171785708.html']\n",
      "\n",
      "Does AutoCAD LT do 3d?\n",
      "Yes, AutoCAD LT does 3D modeling, design, and rendering.\n",
      "['adsk-b78963ab2b70429fa537101bc633c129.html', 'adsk-03f933424c0b413984e7b7651b5d1c0f.html', 'adsk-3cdf294ee7fc4fd393fce3f8ea23ce6c.html', 'adsk-24cf18ef9a4d4f49a10587c4a9fdfdf1.html', 'adsk-51eca25ee4ca45789e4686eff6151d7d.html', 'adsk-eb6265bcc4ae442faebf4478d857a857.html']\n",
      "\n",
      "What's the latest release for Maya?\n",
      "The latest release for Maya is Maya 2024.2, which includes various featured enhancements such as Time Slider Redesign, New Graph Editor Sculpting Tools, and Mac M1 Architecture Support.\n",
      "['adsk-5270a4e8ead14478aa715a2f97136d9b.html', 'adsk-7bff0d2dee7c414bba3a023f6b1091b9.html', 'adsk-350f07e72fb141f0b41e9f88bca88128.html', 'adsk-b339490c74eb4a46b6fe223d94a109af.html', 'adsk-1e68f80bcf1d4077a0c0f9a2f98c4451.html', 'adsk-0b1e6f641b8d4014a2a3330cfaed53e0.html', 'adsk-55ca6383d55146cf8d6d4f67dcd06906.html', 'adsk-5875eaeb1b5a49abb6f001fe929870a6.html', 'adsk-8cff71f7e8a844c7bacf6268b535b37b.html', 'adsk-993b247e44744b938c7d984936102ec8.html', 'adsk-9a85e5c6b5114a2388d4d60f9092c696.html', 'adsk-71203d4e58e94ccda9622b0fe00de5fd.html']\n",
      "\n",
      "Can I use fusion 360 on a Mac?,\n",
      "Yes, Fusion 360 can be used on a Mac.\n",
      "['adsk-f39a97a447964f88a9a7defbf688278f.html', 'adsk-814ee2ff29564b578a6c8c62f3ed1a9e.html', 'adsk-505627ba142a4e29be62f01ba9a1be21.html', 'adsk-4d7c1de4b68744449141dd51c0065a07.html', 'adsk-4916e161c19e4a549c742e76ea79ad1e.html', 'adsk-c72f8540ee2e47eea6c62e663462b3f2.html']\n",
      "\n"
     ]
    }
   ],
   "source": [
    "bots = []\n",
    "answers = []\n",
    "for q in TEST_QUERIES:\n",
    "    rag_chatbot = RagChatbotMultiQA(\n",
    "        max_docs=15,\n",
    "        answer_select_strategy={\"strategy_name\": \"merge_answers\", \"max_answers\": 5},\n",
    "    )\n",
    "    bots.append(rag_chatbot)\n",
    "    answers.append(rag_chatbot.run_rag_chat(q))\n",
    "    print(q, answers[-1], bots[-1].get_sources(), sep=\"\\n\", end=\"\\n\\n\")\n"
   ]
  },
  {
   "cell_type": "code",
   "execution_count": 4,
   "id": "aff81bb6-71fb-42ab-a734-887969fb570c",
   "metadata": {
    "editable": true,
    "slideshow": {
     "slide_type": ""
    },
    "tags": []
   },
   "outputs": [
    {
     "name": "stdout",
     "output_type": "stream",
     "text": [
      "On which operating systems can Moldflow Adviser run?\n",
      "Moldflow Adviser can run on Microsoft® Windows®.\n",
      "['adsk-e70fc0266311424c9063238c3afce252.html', 'adsk-bf7a13c66d5b478f8b692bb79294c552.html', 'adsk-d5e57376e57e407eaea8bbc9e259d51c.html', 'adsk-c6e5441341124eba969b12abd8bba1d9.html', 'adsk-c1a7657f5f80477c9c2b8c40bc5c9e71.html', 'adsk-bbf894e55bca4c24a67f2d1660622587.html']\n",
      "\n",
      "How can Fusion 360 help increase manufacturing throughput?\n",
      "Fusion 360 can help increase manufacturing throughput by providing automation, collaboration, and software interoperability to reduce non-value add processes from design inception through production. It also offers advanced CAM capabilities, built-in change management, and enhanced tools and automation, as well as specialized tools for product design, manufacturing, and data management. Additionally, Fusion 360 incorporates Design for Manufacturing (DFM) principles into the design process, reducing errors, production time, and costs, and automates manufacturing workflows to remove repetitive tasks, reduce errors, and shorten the time to go from design to manufactured parts.\n",
      "['adsk-3d042d9f07ee4dd5aa4755c654f9f920.html', 'adsk-492a9bfd67314eea8d874a9dbeac29f0.html', 'adsk-2b1767cda3c14a849525056956797921.html', 'adsk-ab415a2568714487ad789bc31ef61865.html', 'adsk-df8e01fe04834d839e11ed48ed40ca18.html', 'adsk-cd0fd3b07a1f489eb2ad6f8ca267a033.html']\n",
      "\n",
      "How does Smart Blocks work in AutoCAD 2024?\n",
      "Smart Blocks in AutoCAD 2024 work by allowing users to automate tasks such as comparing drawings, replacing blocks, counting objects, creating schedules, and more.\n",
      "['adsk-34e71ffdff08466789e39e0e0712e678.html', 'adsk-10a591035447413c8fc0df096395ce20.html', 'adsk-380f9f4f8ef34126bfa053bfe2d572f8.html', 'adsk-c45e295e31df4711a268a401c2092dba.html', 'adsk-9797cd3321ab44898dc66c64def74570.html', 'adsk-46f95404afa545248d65c817dcf3ffbf.html']\n",
      "\n",
      "What are the system requirements for running FBX Review on a Mac?\n",
      "The system requirements for running FBX Review on a Mac are:\n",
      "- Processor: Intel® Core i5 or higher, 1.2 GHz minimum\n",
      "- Network interface card: Ethernet network configuration\n",
      "- Operating system: Apple macOS 12.5 or Apple macOS 13\n",
      "- FlexNet: 11.19.4.1\n",
      "- Communication protocol: TCP/IP Note: Network License Manager uses TCP packet types\n",
      "['adsk-eaa2bef626684515926caf52403ca042.html', 'adsk-fc932c6b2ca54747a12740f1d3e48a90.html', 'adsk-21255a82049e45d9b11768d2543f31d0.html', 'adsk-5ce9de3dfa61465fa097c6d90e31b34b.html', 'adsk-94ac07cbe08744e29790bac21ca91026.html', 'adsk-1c35886202774b9db572d976954240a4.html']\n",
      "\n",
      "Can a package license file be used for multiple releases of the same product in Autodesk software?\n",
      "Yes, a package license file can be used for multiple releases of the same product in Autodesk software.\n",
      "['adsk-1e21fb130b8346fca82a5f6297d5ee23.html', 'adsk-2f95d381740245dd9a003327cb5e23a3.html', 'adsk-ae5e6d11212e431fa1b7130c34e6f6a9.html', 'adsk-5b21574975fc4955b03d4e1138d1b3bd.html', 'adsk-f76f51715f794a10a91cfa2782f0e0f0.html', 'adsk-1696df73c78047fc86f1effe20469bad.html']\n",
      "\n",
      "How does Maya Creative software support 3D modeling?\n",
      "Maya Creative software supports 3D modeling by providing tools for creating complex characters, props, and worlds with sophisticated 3D modeling tools. It also includes features such as UV editor, sculpting tools, NURBS modeling, polygon modeling, and OpenSubdiv support.\n",
      "['adsk-5875eaeb1b5a49abb6f001fe929870a6.html', 'adsk-0b1e6f641b8d4014a2a3330cfaed53e0.html', 'adsk-55ca6383d55146cf8d6d4f67dcd06906.html', 'adsk-46f7b60da9904b8e9ba079fe59e247e3.html', 'adsk-350f07e72fb141f0b41e9f88bca88128.html', 'adsk-b339490c74eb4a46b6fe223d94a109af.html']\n",
      "\n",
      "What are the features of the project management software offered by Autodesk?\n",
      "The features of the project management software offered by Autodesk include document and storage management, field workflows (issue management, forms, photos), project management (RFIs, submittals, schedules, meeting minutes), asset management, and cost management (project budgets and costs, change order management, forecasting).\n",
      "['adsk-cbb377573c1144af87a7132542bb6e39.html', 'adsk-f60474ee551b469eaa142dd7753b7805.html', 'adsk-8dc1ffb48f944380a19d9c429ea42dbe.html', 'adsk-8b8400685f164aa3aaeb2c6ba8f26931.html', 'adsk-38958fc4db2d4470ba2d369b7879ef8b.html', 'adsk-cca836e8dbdf48078060b318a68db328.html']\n",
      "\n",
      "How can I refer a friend to Fusion 360 and earn money?\n",
      "Based on the provided document, there is no information about referring a friend to Fusion 360 and earning money.\n",
      "['adsk-814ee2ff29564b578a6c8c62f3ed1a9e.html', 'adsk-a3327b6cbc244459be76f896dfc71e3a.html', 'adsk-505627ba142a4e29be62f01ba9a1be21.html', 'adsk-4d7c1de4b68744449141dd51c0065a07.html', 'adsk-4916e161c19e4a549c742e76ea79ad1e.html', 'adsk-c72f8540ee2e47eea6c62e663462b3f2.html']\n",
      "\n",
      "How does the Strategic Foresight team explore future scenarios?\n",
      "The Strategic Foresight team explores future scenarios by identifying and articulating long-term forces of change to uncover critical future insights for Autodesk and their customers.\n",
      "['adsk-8ead6d6dd56f42cdbdc1eeb2b0f0f58e.html', 'adsk-1ad73e420e1b408aa9a2907bae0691f3.html', 'adsk-ad1024f1d75a450ead75e88569d4d3f3.html', 'adsk-85b78ba6068f4c5daf9d5c27f2fc6067.html', 'adsk-985f9a6c97a541548861338cf94cc4d4.html', 'adsk-d615427b91424395a206312360b768b8.html']\n",
      "\n",
      "What is the significance of volumetric video in the future of 3D content creation?\n",
      "The given document does not contain information about the significance of volumetric video in the future of 3D content creation. Therefore, I cannot answer the question based on the provided content.\n",
      "['adsk-5e300c68aa1e4a568d582ce3e5b37ad5.html', 'adsk-44077d3c569b44e9b0a681f812939542.html', 'adsk-beaf70cfd5c841e2bdd0566e0dbcdc0c.html', 'adsk-34f0319fec4c49d69821767b8c38e8ce.html', 'adsk-29697a5ba1be4ce88b88dbd4f44155a5.html', 'adsk-0e2237dba05448528cead1c49369bfec.html']\n",
      "\n"
     ]
    }
   ],
   "source": [
    "bots = []\n",
    "answers = []\n",
    "for q in synthetic_test_queries:\n",
    "    rag_chatbot = RagChatbotMultiQA(\n",
    "        max_docs=15,\n",
    "        answer_select_strategy={\"strategy_name\": \"merge_answers\", \"max_answers\": 5},\n",
    "    )\n",
    "    bots.append(rag_chatbot)\n",
    "    answers.append(rag_chatbot.run_rag_chat(q))\n",
    "    print(q, answers[-1], bots[-1].get_sources(), sep=\"\\n\", end=\"\\n\\n\")\n",
    "    sleep(3)\n"
   ]
  },
  {
   "cell_type": "code",
   "execution_count": null,
   "id": "f7938aee-5488-475e-a473-f0a8919112c3",
   "metadata": {},
   "outputs": [],
   "source": []
  }
 ],
 "metadata": {
  "kernelspec": {
   "display_name": "Python 3 (ipykernel)",
   "language": "python",
   "name": "python3"
  },
  "language_info": {
   "codemirror_mode": {
    "name": "ipython",
    "version": 3
   },
   "file_extension": ".py",
   "mimetype": "text/x-python",
   "name": "python",
   "nbconvert_exporter": "python",
   "pygments_lexer": "ipython3",
   "version": "3.8.3"
  }
 },
 "nbformat": 4,
 "nbformat_minor": 5
}
