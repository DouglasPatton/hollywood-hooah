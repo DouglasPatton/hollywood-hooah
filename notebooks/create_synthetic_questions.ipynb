{
 "cells": [
  {
   "cell_type": "code",
   "execution_count": 1,
   "id": "3cf975b8-ddb6-43e6-aa1b-3bb024787f65",
   "metadata": {},
   "outputs": [
    {
     "name": "stdout",
     "output_type": "stream",
     "text": [
      "/home/dp/hdd/gits/hollywood-hooah\n"
     ]
    }
   ],
   "source": [
    "%cd ..\n",
    "from langchain.chains.combine_documents import collapse_docs, split_list_of_docs\n",
    "from langchain_openai import ChatOpenAI\n",
    "from langchain_openai import OpenAIEmbeddings\n",
    "\n",
    "# from langchain.chat_models import ChatAnthropic\n",
    "from langchain.prompts import ChatPromptTemplate, PromptTemplate\n",
    "from langchain.schema import Document, StrOutputParser\n",
    "from langchain_community.vectorstores import FAISS\n",
    "from langchain_core.prompts import format_document\n",
    "from langchain_core.runnables import RunnableParallel, RunnablePassthrough\n",
    "import json\n",
    "import re\n",
    "from random import seed,shuffle\n",
    "from time import sleep"
   ]
  },
  {
   "cell_type": "code",
   "execution_count": 2,
   "id": "4735c15e-716a-4a5a-abe8-431320caceb8",
   "metadata": {},
   "outputs": [],
   "source": [
    "import pandas as pd\n"
   ]
  },
  {
   "cell_type": "code",
   "execution_count": 3,
   "id": "aa99f7b0-c12f-4970-95a3-8cb7a4f20724",
   "metadata": {},
   "outputs": [],
   "source": [
    "from ragchat.doc_store import DocStore\n",
    "from ragchat.configs import (DEBUG, REFERENCE_FOLDER, DB_NAME, QUESTIONS_VECTOR_STORE_SAVE_PATH,\n",
    "COLLECTION_NAME, Q_DB_NAME, Q_COLLECTION_NAME, TOKENS_PER_SYNTH_QUESTION)\n",
    "from ragchat.text_embedder import TextEmbedder\n"
   ]
  },
  {
   "cell_type": "code",
   "execution_count": 4,
   "id": "3c516491-de0d-46fc-bcf1-6d9dd6541850",
   "metadata": {},
   "outputs": [],
   "source": [
    "llm = ChatOpenAI(model=\"gpt-3.5-turbo-1106\", temperature=0)\n"
   ]
  },
  {
   "cell_type": "code",
   "execution_count": 5,
   "id": "98c76c34-274f-40aa-b836-06b071503b79",
   "metadata": {},
   "outputs": [],
   "source": [
    "ds=DocStore(db_name=DB_NAME, collection_name=COLLECTION_NAME,)\n",
    "q_ds=DocStore(db_name=Q_DB_NAME, collection_name=Q_COLLECTION_NAME,)"
   ]
  },
  {
   "cell_type": "code",
   "execution_count": null,
   "id": "6eaf58cc-cd5f-4ed0-bb98-66641a0a9a10",
   "metadata": {},
   "outputs": [
    {
     "name": "stdout",
     "output_type": "stream",
     "text": [
      "random q: What is the extent of the National Guard's involvement in the entertainment industry, specifically in terms of the number of films and TV shows they have been involved with?\n",
      "random q: How did the US Army's Office of the Chief of Public Affairs in Los Angeles (OCPA-LA) and the Office of the Secretary of Defense for Public Affairs (OSD-PA) interact with a specific production company in 2017-2018, and what type of support was offered or requested?\n",
      "random q: How does the entertainment industry collaborate with the US Army and Army National Guard for events and productions?\n",
      "random q: How does OCPA-West work with the entertainment industry to coordinate media projects and events that involve the armed forces?\n",
      "random q: - How has the US Army collaborated with the entertainment industry, specifically in relation to the Oscars and ongoing media projects, between 2015 and 2017?\n",
      "random q: How does the entertainment industry portray the United States Air Force in films and television shows?\n",
      "random q: What types of entertainment productions have been approved to film at various US Air Force bases?\n",
      "random q: What specific projects or collaborations between the USAF and the entertainment industry were documented in the USAF-Entertainment Liaison Office reports from 2014?\n",
      "\n",
      "random q: How does the US Army work with the entertainment industry to promote and recognize actors who portray soldiers in movies?\n",
      "random q: How has the US Army collaborated with the entertainment industry to educate the public about the history and significance of remote military testing sites?\n",
      "random q: How does the US Army Entertainment Liaison Office support the armed forces in acquiring rights to entertainment content for use in speeches and events?\n",
      "random q: How has the entertainment industry collaborated with the US Army and other armed forces to create content that showcases military personnel and assets in a positive light?\n",
      "random q: How does the US Army collaborate with entertainment production companies to showcase the development of weapons and equipment for U.S. forces in documentary series?\n",
      "random q: What are the potential recruitment benefits of the US Army's involvement in entertainment projects?\n",
      "random q: How has the US Army Entertainment Liaison Office collaborated with English-speaking networks to tell the Army's story to millions of viewers?\n",
      "random q: How does the US Army work with entertainment producers to create documentaries and films that showcase military training and operations?\n",
      "random q: How does the entertainment industry contribute to showcasing military events and competitions, such as the International Sniper Competition at Fort Benning?\n",
      "random q: How does the US Army collaborate with entertainment production companies, such as NBC Peacock Productions, to feature Army Basic Training in docu-series and other projects?\n",
      "random q: How does the entertainment industry collaborate with the US Army to feature soldiers in television programs and events?\n",
      "random q: How does the US Army coordinate with the entertainment industry for events such as the ALMA Awards and \"A Hero's Welcome\" program?\n",
      "random q: - How has the US Army's Entertainment Liaison Office collaborated with production companies and entertainment industry professionals to portray the military in a positive light and promote a certain image of the armed forces?\n",
      "random q: How does the USAirForce-Entertainment Liaison Office use entertainment to boost morale among personnel?\n",
      "random q: What major motion pictures have been supported by the USAirForce-Entertainment Liaison Office in 2013 and what was the level of involvement of the Air Force in these productions?\n",
      "random q: What impact did the closure of the Walt Disney \"DisneyToons\" Studio have on the U.S. Air Force Entertainment Liaison Office's activities and engagements in 2018?\n",
      "random q: What are the specific interactions and meetings between the US Air Force and entertainment industry representatives, such as Warner Brothers, National Academy of Sciences & Entertainment Exchange, and Ample Entertainment?\n",
      "random q: How have the entertainment industry and armed forces collaborated or influenced each other between 2017 and 2021, specifically in relation to the Navy?\n",
      "random q: How has the entertainment industry portrayed the activities and operations of the Navy from 2017 to 2021, and what impact has this portrayal had on public perception and recruitment efforts?\n",
      "random q: How have the entertainment industry and armed forces collaborated or influenced each other from 2017 to 2021, as evidenced by the Navy ELO reports?\n",
      "random q: How does the military decide which entertainment projects to support and provide assistance to, and what are the criteria for such decisions?\n",
      "random q: How does the US Air Force support and collaborate with the entertainment industry in the production of films and television shows?\n",
      "random q: - How did the US Air Force Entertainment Liaison Office (ELO) interact with the entertainment industry in the years 2005-2006?\n",
      "random q: How does the US Marine Corps collaborate with the entertainment industry to support TV programs and feature films?\n",
      "random q: How does the US Marine Corps determine which entertainment media projects qualify for Department of the Navy and Department of Defense support?\n",
      "random q: How does the entertainment industry collaborate with the US Marine Corps in creating and distributing content related to military training and operations?\n",
      "random q: How does the entertainment industry collaborate with the US Marine Corps in terms of providing authenticity for film and television productions?\n",
      "random q: How does the US Marine Corps collaborate with documentary filmmakers to provide historical footage and materials for their projects?\n",
      "random q: How has the US Marine Corps collaborated with entertainment companies to provide access for filming and production of military-related content?\n",
      "random q: What types of documentaries and film projects have the US Marine Corps been involved in from 2008 to 2015?\n",
      "random q: How has the entertainment industry collaborated with the USMC and other armed forces to produce documentaries and series featuring military training schools and covert units?\n",
      "random q: How does the entertainment industry collaborate with the US Marine Corps for television series and documentaries?\n"
     ]
    }
   ],
   "source": [
    "questions = []\n",
    "# prompt = ChatPromptTemplate.from_template(\n",
    "#     \"Generate a list of 10 hypothetical questions that the below document could be used to answer:\\n\\n{doc}\"\n",
    "# )\n",
    "# chain = {\"doc\": RunnablePassthrough()} | prompt | llm | StrOutputParser()\n",
    "i = 0\n",
    "\n",
    "for doc_chunk in ds.yield_from_db(query={}, chunk_size=100):\n",
    "    for text_result in doc_chunk:\n",
    "        n_tok=llm.get_num_tokens(text_result['cleaned'])\n",
    "        \n",
    "        n_q= n_tok//TOKENS_PER_SYNTH_QUESTION\n",
    "        prompt = ChatPromptTemplate.from_template(\n",
    "            f\"The year is 2024, and you are a helpful academic researcher curious about \"\n",
    "            f\"the interactions between the entertainment industry and armed forces. \"\n",
    "            f\"\\nGenerate a list of {n_q + 1}\" + \" questions that the below document could be used to answer:\\n\\n{doc}\"\n",
    "        )\n",
    "        chain = {\"doc\": RunnablePassthrough()} | prompt | llm | StrOutputParser()\n",
    "        q = chain.invoke(TextEmbedder.add_title(text_result))\n",
    "        q_list = re.split(r\"\\n[0-9]+\\.\\s\", q)\n",
    "        if q_list[0][:3] == \"1. \":\n",
    "            q_list[0] = q_list[0][3:]\n",
    "        questions.append({'questions':q_list,**{k:v for k,v in text_result.items() if k!='cleaned'}})\n",
    "        \n",
    "        if i%100==0:print(f'random q: {q_list[0]}')\n",
    "        i += 1\n",
    "        sleep(0.1)\n",
    "        \n",
    "        \n"
   ]
  },
  {
   "cell_type": "code",
   "execution_count": null,
   "id": "df30c6c6-22f1-4339-8ba1-d04153dba9c4",
   "metadata": {},
   "outputs": [],
   "source": [
    "# if not os.path.exists(\"questions\"):\n",
    "#     os.makedirs(\"questions\")\n",
    "#     with open(\"questions/synthetic_questions.json\", \"w\") as f:\n",
    "#         json.dump(questions, f)\n",
    "q_ds.add_to_db(questions)"
   ]
  },
  {
   "cell_type": "code",
   "execution_count": null,
   "id": "7e810931-9fe9-483c-800e-50e9c1eaac8f",
   "metadata": {},
   "outputs": [],
   "source": [
    "question_sources = {}\n",
    "for q_dict in questions:\n",
    "    q_list=q_dict['questions']\n",
    "    for i,q in enumerate(q_list):\n",
    "        if q not in question_sources:\n",
    "            question_sources[q] = []\n",
    "        q_info={k:v for k,v in q_dict.items() if k!='questions'}\n",
    "        q_info['question_number']=i\n",
    "        question_sources[q].append(q_info)\n"
   ]
  },
  {
   "cell_type": "code",
   "execution_count": null,
   "id": "d4de7614-148a-4393-af17-4dd1e9285563",
   "metadata": {},
   "outputs": [],
   "source": [
    "embeddings = OpenAIEmbeddings(model=\"text-embedding-ada-002\")\n"
   ]
  },
  {
   "cell_type": "code",
   "execution_count": null,
   "id": "68d21d61-dab5-484d-9604-6fa3bab95e32",
   "metadata": {},
   "outputs": [],
   "source": [
    "docs = []\n",
    "for q in question_sources.keys():\n",
    "    docs.append(\n",
    "        Document(\n",
    "            page_content=q,\n",
    "            metadata={\n",
    "                \"doc_list\": question_sources[q],\n",
    "            },\n",
    "        )\n",
    "    )\n"
   ]
  },
  {
   "cell_type": "code",
   "execution_count": null,
   "id": "4f9ea715-ec74-4399-b1dc-96523d435c14",
   "metadata": {},
   "outputs": [],
   "source": [
    "vector_store = None\n",
    "n = len(docs)\n",
    "ch_sz = 100\n",
    "for ch_i in range(-(-n // ch_sz)):\n",
    "    start = ch_i * ch_sz\n",
    "    stop = start + ch_sz\n",
    "    if vector_store is None:\n",
    "        vector_store = FAISS.from_documents(docs[start:stop], embeddings)\n",
    "    else:\n",
    "        sleep(0.5)\n",
    "        vector_store.add_documents(docs[start:stop])\n"
   ]
  },
  {
   "cell_type": "code",
   "execution_count": null,
   "id": "05868739-bb8a-4026-a895-ad261373f35a",
   "metadata": {},
   "outputs": [],
   "source": [
    "vector_store.save_local(QUESTIONS_VECTOR_STORE_SAVE_PATH)\n"
   ]
  },
  {
   "cell_type": "code",
   "execution_count": null,
   "id": "227d73a7-3c91-42db-bc37-a2ede1b3691c",
   "metadata": {},
   "outputs": [],
   "source": []
  }
 ],
 "metadata": {
  "kernelspec": {
   "display_name": "Python 3 (ipykernel)",
   "language": "python",
   "name": "python3"
  },
  "language_info": {
   "codemirror_mode": {
    "name": "ipython",
    "version": 3
   },
   "file_extension": ".py",
   "mimetype": "text/x-python",
   "name": "python",
   "nbconvert_exporter": "python",
   "pygments_lexer": "ipython3",
   "version": "3.8.3"
  }
 },
 "nbformat": 4,
 "nbformat_minor": 5
}
