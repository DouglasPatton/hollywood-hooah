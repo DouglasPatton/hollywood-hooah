{
 "cells": [
  {
   "cell_type": "code",
   "execution_count": null,
   "id": "3cf975b8-ddb6-43e6-aa1b-3bb024787f65",
   "metadata": {},
   "outputs": [],
   "source": [
    "\n",
    "from langchain.chains.combine_documents import collapse_docs, split_list_of_docs\n",
    "from langchain_community.chat_models import ChatOpenAI\n",
    "from langchain.embeddings.openai import OpenAIEmbeddings\n",
    "\n",
    "# from langchain.chat_models import ChatAnthropic\n",
    "from langchain.prompts import ChatPromptTemplate, PromptTemplate\n",
    "from langchain.schema import Document, StrOutputParser\n",
    "from langchain_community.vectorstores import FAISS\n",
    "from langchain_core.prompts import format_document\n",
    "from langchain_core.runnables import RunnableParallel, RunnablePassthrough\n",
    "import json\n",
    "from random import seed,shuffle\n",
    "from time import sleep"
   ]
  },
  {
   "cell_type": "code",
   "execution_count": null,
   "id": "4735c15e-716a-4a5a-abe8-431320caceb8",
   "metadata": {},
   "outputs": [],
   "source": [
    "import pandas as pd\n"
   ]
  },
  {
   "cell_type": "code",
   "execution_count": null,
   "id": "aa99f7b0-c12f-4970-95a3-8cb7a4f20724",
   "metadata": {},
   "outputs": [],
   "source": [
    "from ragchat.html_cleaner import HtmlCleaner\n",
    "from ragchat.html_patterns import HtmlPatterns\n",
    "from ragchat.text_embedder import TextEmbedder\n"
   ]
  },
  {
   "cell_type": "code",
   "execution_count": null,
   "id": "3c516491-de0d-46fc-bcf1-6d9dd6541850",
   "metadata": {},
   "outputs": [],
   "source": [
    "llm = ChatOpenAI(model=\"gpt-3.5-turbo-1106\", temperature=0)\n"
   ]
  },
  {
   "cell_type": "code",
   "execution_count": null,
   "id": "98c76c34-274f-40aa-b836-06b071503b79",
   "metadata": {},
   "outputs": [],
   "source": [
    "cleaner = HtmlCleaner(parser=\"inscriptis\", debug=True, max_pages=None)\n",
    "clean_text_dict = cleaner.get_clean_text_dict()\n"
   ]
  },
  {
   "cell_type": "code",
   "execution_count": null,
   "id": "6eaf58cc-cd5f-4ed0-bb98-66641a0a9a10",
   "metadata": {},
   "outputs": [],
   "source": [
    "questions = {}\n",
    "prompt = ChatPromptTemplate.from_template(\n",
    "    \"Generate a list of 10 hypothetical questions that the below document could be used to answer:\\n\\n{doc}\"\n",
    ")\n",
    "chain = {\"doc\": RunnablePassthrough()} | prompt | llm | StrOutputParser()\n",
    "i = 0\n",
    "print(\"# of docs: \", len(clean_text_dict), \". progress: \", end=\"\")\n",
    "for pg, text_result in clean_text_dict.items():\n",
    "    q = chain.invoke(TextEmbedder.add_title(text_result))\n",
    "    q_list = re.split(r\"\\n[0-9]+\\.\\s\", q)\n",
    "    if q_list[0][:3] == \"1. \":\n",
    "        q_list[0] = q_list[0][3:]\n",
    "    questions[pg] = q_list\n",
    "    i += 1\n",
    "    if len(clean_text_dict) % i == 20:\n",
    "        print(i, end=\", \")\n"
   ]
  },
  {
   "cell_type": "code",
   "execution_count": null,
   "id": "df30c6c6-22f1-4339-8ba1-d04153dba9c4",
   "metadata": {},
   "outputs": [],
   "source": [
    "if not os.path.exists(\"questions\"):\n",
    "    os.makedirs(\"questions\")\n",
    "    with open(\"questions/synthetic_questions.json\", \"w\") as f:\n",
    "        json.dump(questions, f)\n"
   ]
  },
  {
   "cell_type": "code",
   "execution_count": null,
   "id": "7e810931-9fe9-483c-800e-50e9c1eaac8f",
   "metadata": {},
   "outputs": [],
   "source": [
    "question_sources = {}\n",
    "for pg, q_list in questions.items():\n",
    "    for q in q_list:\n",
    "        if q not in question_sources:\n",
    "            question_sources[q] = []\n",
    "        question_sources[q].append(pg)\n"
   ]
  },
  {
   "cell_type": "code",
   "execution_count": null,
   "id": "1463388c-60a4-4b3e-b050-d82d539485f1",
   "metadata": {},
   "outputs": [],
   "source": [
    "# look for duplicate questions\n",
    "(len(question_sources), len([q for q_list in questions.values() for q in q_list]))\n"
   ]
  },
  {
   "cell_type": "code",
   "execution_count": null,
   "id": "d4de7614-148a-4393-af17-4dd1e9285563",
   "metadata": {},
   "outputs": [],
   "source": [
    "embeddings = OpenAIEmbeddings(model=\"text-embedding-ada-002\")\n"
   ]
  },
  {
   "cell_type": "code",
   "execution_count": null,
   "id": "68d21d61-dab5-484d-9604-6fa3bab95e32",
   "metadata": {},
   "outputs": [],
   "source": [
    "docs = []\n",
    "for q in question_sources.keys():\n",
    "    docs.append(\n",
    "        Document(\n",
    "            page_content=q,\n",
    "            metadata={\n",
    "                \"page_list\": question_sources[q],\n",
    "            },\n",
    "        )\n",
    "    )\n"
   ]
  },
  {
   "cell_type": "code",
   "execution_count": null,
   "id": "4f9ea715-ec74-4399-b1dc-96523d435c14",
   "metadata": {},
   "outputs": [],
   "source": [
    "vector_store = None\n",
    "n = len(docs)\n",
    "ch_sz = 100\n",
    "for ch_i in range(-(-n // ch_sz)):\n",
    "    start = ch_i * ch_sz\n",
    "    stop = start + ch_sz\n",
    "    if vector_store is None:\n",
    "        vector_store = FAISS.from_documents(docs[start:stop], embeddings)\n",
    "    else:\n",
    "        sleep(0.5)\n",
    "        vector_store.add_documents(docs[start:stop])\n"
   ]
  },
  {
   "cell_type": "code",
   "execution_count": null,
   "id": "05868739-bb8a-4026-a895-ad261373f35a",
   "metadata": {},
   "outputs": [],
   "source": [
    "vector_store.save_local(\"questions/questions_FAISS_index\")\n"
   ]
  },
  {
   "cell_type": "code",
   "execution_count": null,
   "id": "227d73a7-3c91-42db-bc37-a2ede1b3691c",
   "metadata": {},
   "outputs": [],
   "source": []
  }
 ],
 "metadata": {
  "kernelspec": {
   "display_name": "Python 3 (ipykernel)",
   "language": "python",
   "name": "python3"
  },
  "language_info": {
   "codemirror_mode": {
    "name": "ipython",
    "version": 3
   },
   "file_extension": ".py",
   "mimetype": "text/x-python",
   "name": "python",
   "nbconvert_exporter": "python",
   "pygments_lexer": "ipython3",
   "version": "3.8.3"
  }
 },
 "nbformat": 4,
 "nbformat_minor": 5
}
