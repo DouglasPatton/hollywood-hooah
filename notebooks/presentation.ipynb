{
 "cells": [
  {
   "cell_type": "markdown",
   "id": "b7fb7a2b-fe73-499b-a2ca-dee3717dd20a",
   "metadata": {
    "editable": true,
    "slideshow": {
     "slide_type": "notes"
    },
    "tags": []
   },
   "source": [
    " 1. Your approach to the problem, data, and architecture\n",
    " 2. Given more time how would you improve the system?\n",
    " 3. In production, how would you evaluate the system?"
   ]
  },
  {
   "cell_type": "markdown",
   "id": "ddbfa475-7384-411e-81b5-f6c089e96433",
   "metadata": {
    "editable": true,
    "raw_mimetype": "",
    "slideshow": {
     "slide_type": "slide"
    },
    "tags": []
   },
   "source": [
    "## Efficient Knowledge Retrieval with RAG Chatbots\n",
    "By Douglas Patton\n",
    " ### Agenda\n",
    "- #### Problem\n",
    "- #### Data\n",
    "- #### Solutions\n",
    "- #### Evaluation\n",
    "- #### Extensions"
   ]
  },
  {
   "cell_type": "markdown",
   "id": "6781f8aa-13ef-4f55-b66d-28481b94aad7",
   "metadata": {
    "editable": true,
    "slideshow": {
     "slide_type": "slide"
    },
    "tags": []
   },
   "source": [
    "### Problem Statement"
   ]
  },
  {
   "cell_type": "markdown",
   "id": "96dafae3-1d63-44d4-b136-d9e1e073b425",
   "metadata": {
    "editable": true,
    "slideshow": {
     "slide_type": "fragment"
    },
    "tags": []
   },
   "source": [
    "#### Requirements\n",
    " - build a RAG chatbot\n",
    " - that answers customer queries\n",
    " - using existing html files"
   ]
  },
  {
   "cell_type": "markdown",
   "id": "235eac76-a8d1-44ca-aa64-3e7f0df8a48f",
   "metadata": {
    "editable": true,
    "slideshow": {
     "slide_type": "fragment"
    },
    "tags": []
   },
   "source": [
    "#### Additional Desireable Features\n",
    "  - allow conversation\n",
    "  - show reference information\n",
    "  - avoid confabulations/hallucinations\n",
    "  - handle irrelevant or unanswerable questions"
   ]
  },
  {
   "cell_type": "markdown",
   "id": "3832872b-b18c-40f4-985b-bbb99e8a6a07",
   "metadata": {
    "editable": true,
    "slideshow": {
     "slide_type": "slide"
    },
    "tags": []
   },
   "source": [
    "### Data\n",
    "#### Reference documents: collection of ~1200 dense `.html` files\n",
    "#### 874 pages remaining after cleaning and filtering "
   ]
  },
  {
   "cell_type": "markdown",
   "id": "342832ab-4bc8-49cb-98f0-05030c067cee",
   "metadata": {
    "editable": true,
    "slideshow": {
     "slide_type": "subslide"
    },
    "tags": []
   },
   "source": [
    "#### `HtmlCleaner` creates dictionary of clean text for each page\n",
    " 1. Inscriptis get_text() yields markdown for page menus, white space for content structure\n",
    " 1. Beautiful Soup used to extract page title\n",
    " 1. Filters applied:\n",
    "    - `HtmlPatterns` to remove text associated with page menus, copyright, selected page titles (e.g., \"Terms of Use\"), etc.\n",
    "    - minimum length: `min_chars_ref_text=10`,\n",
    "    - English language: `min_engl_share_ref_text=90`,"
   ]
  },
  {
   "cell_type": "markdown",
   "id": "423c07d5-b84e-4853-8853-3b68d78b1334",
   "metadata": {
    "editable": true,
    "slideshow": {
     "slide_type": "subslide"
    },
    "tags": []
   },
   "source": [
    "|tokens per page|\n",
    "|-|\n",
    "|![alt](images/tokens_per_page.png)|\n"
   ]
  },
  {
   "cell_type": "markdown",
   "id": "c98874f2-90cf-4696-b295-e7563deb698d",
   "metadata": {
    "editable": true,
    "slideshow": {
     "slide_type": "subslide"
    },
    "tags": []
   },
   "source": [
    "|pages per title|tokens per title|\n",
    "|-|-|\n",
    "|![alt](images/pages_per_title.png)|  ![alt](images/tokens_per_title.png)|  "
   ]
  },
  {
   "cell_type": "markdown",
   "id": "ae7c0634-b0f9-4df9-bcea-acfe597b02cd",
   "metadata": {
    "editable": true,
    "slideshow": {
     "slide_type": "subslide"
    },
    "tags": []
   },
   "source": [
    "#### `TextEmbedder` processes text into list of langchain documents \n",
    " 1. create documents from clean text\n",
    "    - split text if longer than `max_tokens_ref_text=4000`\n",
    " 1. create embeddings and add to FAISS vector store"
   ]
  },
  {
   "cell_type": "markdown",
   "id": "ee1ae61d-de1a-4d83-b0c6-141d1bdaa838",
   "metadata": {
    "editable": true,
    "slideshow": {
     "slide_type": "slide"
    },
    "tags": []
   },
   "source": [
    "### Solutions"
   ]
  },
  {
   "cell_type": "markdown",
   "id": "9c9460e5-090d-4b00-9daa-11d830ce3532",
   "metadata": {
    "editable": true,
    "slideshow": {
     "slide_type": "subslide"
    },
    "tags": []
   },
   "source": [
    "#### Four variants from `chatbots.py`\n",
    " 1. simple `RagChatbot` using langchain *defaults*\n",
    "\n",
    " 1. more flexible `RagChatbotMultiRetrieverCombiner` uses *custom retriever*, `MultiRetrieverCombiner`\n",
    " 1. `RagChatbotMultiQA` *queries documents individually* and merges the answers\n",
    " 1. `RagChatSyntheticQ` retrieves *similar synthetic queries* and merges the answers"
   ]
  },
  {
   "cell_type": "markdown",
   "id": "02f42e23-cd42-451a-af3b-230fe8079683",
   "metadata": {
    "editable": true,
    "slideshow": {
     "slide_type": "subslide"
    },
    "tags": []
   },
   "source": [
    "#### Relative performance examples\n",
    " Query: What's the latest release for Maya?\n",
    " \n",
    " Responses:\n",
    " - `RagChatBot`: The latest release for Maya is **not explicitly mentioned** in the provided documents.\n",
    "   \n",
    " - `RagChatbotMultiRetrieverCombiner`: The latest release for Maya is **not specified** in the provided document.\n",
    " - `RagChatMultiQA`: The latest release for Maya is **Maya 2024.2**, which includes various featured enhancements such as Time Slider Redesign, New Graph Editor Sculpting Tools, and Mac M1 Architecture Support.\n",
    " - `RagChatSyntheticQ`: The latest release for **Maya is 2024.2**, which includes various enhancements such as Time Slider Redesign, New Graph Editor Sculpting Tools, and Mac M1 Architecture Support."
   ]
  },
  {
   "cell_type": "markdown",
   "id": "a453c2f3-9c8e-4551-8ea5-cebb8612db24",
   "metadata": {
    "editable": true,
    "slideshow": {
     "slide_type": "subslide"
    },
    "tags": []
   },
   "source": [
    "#### Relative performance examples\n",
    " Query: How does Smart Blocks work in AutoCAD 2024?\n",
    "\n",
    " Responses:\n",
    " - `RagChatBot`: Smart Blocks in AutoCAD 2024 **automatically place blocks** based on previous placements or quickly find and replace existing blocks.\n",
    "   \n",
    " - `RagChatbotMultiRetrieverCombiner`: Smart Blocks in AutoCAD 2024 **automatically place blocks** based on previous placements or quickly find and replace existing blocks.\n",
    " - `RagChatMultiQA`: Smart Blocks in AutoCAD 2024 work by allowing users to **automate tasks** such as comparing drawings, replacing blocks, counting objects, creating schedules, and more.\n",
    " - `RagChatSyntheticQ`: Smart Blocks in AutoCAD 2024 work by allowing users to create and customize reusable content, such as blocks, to streamline their workflows and **automate common tasks**. This feature helps to improve productivity and efficiency in drafting and design processes."
   ]
  },
  {
   "cell_type": "markdown",
   "id": "e4945897-a054-453e-be04-e87afc2f20f1",
   "metadata": {
    "editable": true,
    "slideshow": {
     "slide_type": "slide"
    },
    "tags": []
   },
   "source": [
    "### Evaluation"
   ]
  },
  {
   "cell_type": "markdown",
   "id": "8a1993fd-d5a7-4c8a-ac0b-62b5e4176c9b",
   "metadata": {
    "editable": true,
    "slideshow": {
     "slide_type": "subslide"
    },
    "tags": []
   },
   "source": [
    " - Labeling system for evaluating performance\n",
    "    - Explicit: elicit feedback from chatbot users\n",
    "    - Implicit: \n",
    "      - ad-hoc & business outcomes\n",
    "        - short-term:\n",
    "          - software usage metrics\n",
    "          - subsequent questions highly similar to initial question.\n",
    "        - long-term:\n",
    "          - conversions and churn\n",
    "          - UX surveys\n",
    "      - predict labels, probabilities using data from explicit labels\n",
    "      - AI as judge\n",
    "        - augment with reference docs\n",
    "        - more advanced LLMs\n",
    "        - few-shot with high quality examples "
   ]
  },
  {
   "cell_type": "markdown",
   "id": "ba77e3c3-25a2-4ab1-9cc8-c27b3f0687bc",
   "metadata": {
    "editable": true,
    "slideshow": {
     "slide_type": "notes"
    },
    "tags": []
   },
   "source": [
    " - Applications for labels\n",
    "   - A/B testing\n",
    "   - refining chat responses\n",
    "     - identifying and fixing errors\n",
    "   - relate labels to similarity measures from vector store queries"
   ]
  },
  {
   "cell_type": "markdown",
   "id": "47578f1b-8384-4667-b254-d1d6f54a6f20",
   "metadata": {
    "editable": true,
    "slideshow": {
     "slide_type": "slide"
    },
    "tags": []
   },
   "source": [
    "### Extensions"
   ]
  },
  {
   "cell_type": "markdown",
   "id": "04603507-c1a5-4c59-adcd-e5d8ba81e803",
   "metadata": {
    "editable": true,
    "slideshow": {
     "slide_type": "subslide"
    },
    "tags": []
   },
   "source": [
    " - improve retention of html structure\n",
    " - enhance source attribution\n",
    "   - ask LLM to include % attribution along with answer\n",
    "   - use separate LLM for attribution\n",
    " - create question and answer database for caching answers\n",
    "   - track performance to predict answer quality\n",
    "   - use for smarter retrieval\n",
    "   - identify bugs\n",
    " - memory class for dynamic chat\n",
    " - enhance retrieval\n",
    "   - leverage retrieval similarity scores\n",
    "   - compress long docs, clusters of similar docs\n",
    "   - rank retrieved docs based on the question/context\n",
    " - logic for distinguishing between subproducts, e.g., LT and Full\n",
    "   - few-shot high quality examples in prompt when relevant\n",
    "   - instructions for distinction in prompt \n",
    " "
   ]
  },
  {
   "cell_type": "markdown",
   "id": "503eda9b-30b1-4117-bb28-5ffbd376fc6e",
   "metadata": {
    "editable": true,
    "slideshow": {
     "slide_type": "subslide"
    },
    "tags": []
   },
   "source": [
    " - intercept problematic answers\n",
    " - tune chatbot for the user and/or the query\n",
    "   - length, tone, level of technical detail\n",
    " - performance:cost can be optimized for the user and/or query\n",
    "   - skip the LLM and just retrieve existing Q:A pairs\n",
    "   - use cheaper LLM depending on the user or query\n",
    "   - compress and store reference docs for fewer LLM input tokens\n",
    "   - flexible prompts asking for short or detailed answers to control LLM output tokens\n",
    " - create agents for CoT for more sophisticated queries\n",
    " - create token budget class for flexibly managing the construction of complex, multi-stage queries"
   ]
  },
  {
   "cell_type": "code",
   "execution_count": null,
   "id": "0d534321-ae29-48db-bb03-555f76e54c79",
   "metadata": {
    "editable": true,
    "slideshow": {
     "slide_type": ""
    },
    "tags": []
   },
   "outputs": [],
   "source": []
  }
 ],
 "metadata": {
  "kernelspec": {
   "display_name": "Python 3 (ipykernel)",
   "language": "python",
   "name": "python3"
  },
  "language_info": {
   "codemirror_mode": {
    "name": "ipython",
    "version": 3
   },
   "file_extension": ".py",
   "mimetype": "text/x-python",
   "name": "python",
   "nbconvert_exporter": "python",
   "pygments_lexer": "ipython3",
   "version": "3.8.3"
  }
 },
 "nbformat": 4,
 "nbformat_minor": 5
}
