{
 "cells": [
  {
   "cell_type": "code",
   "execution_count": 1,
   "id": "d61c7ca2-2118-4386-b6f0-59420aac3e54",
   "metadata": {
    "editable": true,
    "slideshow": {
     "slide_type": ""
    },
    "tags": []
   },
   "outputs": [
    {
     "name": "stdout",
     "output_type": "stream",
     "text": [
      "/home/dp/hdd/gits/hollywood-hooah\n"
     ]
    }
   ],
   "source": [
    "%cd ..\n",
    "from ragchat.chatbots import RagChatbotMultiRetrieverCombiner\n",
    "from ragchat.chatbots import RagChatbot\n",
    "from ragchat.configs import TEST_QUERIES,VECTOR_STORE_SAVE_PATH, MAX_TOKENS_CONTEXT, MAX_DOCS_RETRIEVER\n",
    "import json\n",
    "from random import seed,shuffle\n",
    "from time import sleep"
   ]
  },
  {
   "cell_type": "code",
   "execution_count": 2,
   "id": "4e91871e-858d-40a6-9616-e9463d4320eb",
   "metadata": {
    "editable": true,
    "slideshow": {
     "slide_type": ""
    },
    "tags": []
   },
   "outputs": [],
   "source": [
    "# # try a handful of synthetic questions\n",
    "# n_synth_questions = 10\n",
    "# with open(\"questions/synthetic_questions.json\", \"r\") as f:\n",
    "#     page_questions = json.load(f)\n",
    "# questions = list(\n",
    "#     dict.fromkeys([q for q_list in page_questions.values() for q in q_list])\n",
    "# )\n",
    "# seed(42)\n",
    "# shuffle(questions)\n",
    "# synthetic_test_queries = questions[:n_synth_questions]\n",
    "# synthetic_test_queries\n"
   ]
  },
  {
   "cell_type": "code",
   "execution_count": 3,
   "id": "9f93f42c-1dab-4998-a608-734fed6741b9",
   "metadata": {
    "editable": true,
    "scrolled": true,
    "slideshow": {
     "slide_type": ""
    },
    "tags": []
   },
   "outputs": [
    {
     "name": "stdout",
     "output_type": "stream",
     "text": [
      "What kinds of obligations does a production company have?\n",
      "The production company has obligations such as indemnifying and holding harmless the U.S. Department of Defense (DoD) against any claims arising from the production company's possession or use of DoD property, providing proof of liability insurance, not carrying certain substances or items onto DoD property without prior approval, allowing DoD public affairs personnel access to the production site, identifying re-enactments, screening the roughly edited version of the production for the DoD project officer, and complying with established DoD safety and conduct standards.\n",
      "[{'_id': ObjectId('65b173feb0616eaff46be1f1'), 'page': 436, 'folder': 'references/Weekly Reports', 'file_name': 'US-Navy-PAAs-2013-2017.pdf', 'path': 'references/Weekly Reports/US-Navy-PAAs-2013-2017.pdf', 'split_idx': 0, 'n_splits': 1, 'similarity_score': 0.33400434}, {'_id': ObjectId('65b28848d7e7e3601516c5f8'), 'page_number': 436, 'folder': 'references/Weekly Reports', 'file_name': 'US-Navy-PAAs-2013-2017.pdf', 'path': 'references/Weekly Reports/US-Navy-PAAs-2013-2017.pdf', 'split_idx': 0, 'n_splits': 1, 'similarity_score': 0.33400434}, {'_id': ObjectId('65b173feb0616eaff46be0d2'), 'page': 149, 'folder': 'references/Weekly Reports', 'file_name': 'US-Navy-PAAs-2013-2017.pdf', 'path': 'references/Weekly Reports/US-Navy-PAAs-2013-2017.pdf', 'split_idx': 0, 'n_splits': 1, 'similarity_score': 0.3399502}, {'_id': ObjectId('65b28848d7e7e3601516c4d9'), 'page_number': 149, 'folder': 'references/Weekly Reports', 'file_name': 'US-Navy-PAAs-2013-2017.pdf', 'path': 'references/Weekly Reports/US-Navy-PAAs-2013-2017.pdf', 'split_idx': 0, 'n_splits': 1, 'similarity_score': 0.3399502}, {'_id': ObjectId('65b28848d7e7e3601516c52f'), 'page_number': 235, 'folder': 'references/Weekly Reports', 'file_name': 'US-Navy-PAAs-2013-2017.pdf', 'path': 'references/Weekly Reports/US-Navy-PAAs-2013-2017.pdf', 'split_idx': 0, 'n_splits': 1, 'similarity_score': 0.34253526}]\n",
      "\n",
      "Have movies related to sexual identity of members of the armed forces been part of the project?\n",
      "No, the movies mentioned in the documents are related to military support for feature length projects, a BBC series about conspiracies with the U.S. and British governments, and a makeover show featuring a local Soldier couple. There is no mention of movies related to the sexual identity of members of the armed forces.\n",
      "[{'_id': ObjectId('65b287e63d93ee5a2216c4d2'), 'page_number': 119, 'folder': 'references/Weekly Reports', 'file_name': 'ArmyEntertainmentReports_2005-06.pdf', 'path': 'references/Weekly Reports/ArmyEntertainmentReports_2005-06.pdf', 'split_idx': 0, 'n_splits': 1, 'similarity_score': 0.30529112}, {'_id': ObjectId('65b173c893ee7900bc6be2b3'), 'page': 119, 'folder': 'references/Weekly Reports', 'file_name': 'ArmyEntertainmentReports_2005-06.pdf', 'path': 'references/Weekly Reports/ArmyEntertainmentReports_2005-06.pdf', 'split_idx': 0, 'n_splits': 1, 'similarity_score': 0.30532104}, {'_id': ObjectId('65b1739748d8fd5d5c6be43f'), 'page': 480, 'folder': 'references/Weekly Reports', 'file_name': 'USArmy-EntertainmentLiaisonOffice-2010to2015reports.pdf', 'path': 'references/Weekly Reports/USArmy-EntertainmentLiaisonOffice-2010to2015reports.pdf', 'split_idx': 0, 'n_splits': 1, 'similarity_score': 0.31553394}, {'_id': ObjectId('65b287c00f3ad948d716c6a4'), 'page_number': 480, 'folder': 'references/Weekly Reports', 'file_name': 'USArmy-EntertainmentLiaisonOffice-2010to2015reports.pdf', 'path': 'references/Weekly Reports/USArmy-EntertainmentLiaisonOffice-2010to2015reports.pdf', 'split_idx': 0, 'n_splits': 1, 'similarity_score': 0.31553394}, {'_id': ObjectId('65b1739959405ce5f16be0b0'), 'page': 114, 'folder': 'references/Weekly Reports', 'file_name': 'USArmy-ELO-weeklyreports2005-6.pdf', 'path': 'references/Weekly Reports/USArmy-ELO-weeklyreports2005-6.pdf', 'split_idx': 0, 'n_splits': 1, 'similarity_score': 0.3185683}]\n",
      "\n",
      "What movies have used aircraft carriers?\n",
      "The movies \"IMAX: Legends of the Sky\" and \"No True Glory: Battle for Fallujah\" have used aircraft carriers.\n",
      "[{'_id': ObjectId('65b173ad59405ce5f16be3df'), 'page': 334, 'folder': 'references/Weekly Reports', 'file_name': 'USMC-ELOreports-2008to2015.pdf', 'path': 'references/Weekly Reports/USMC-ELOreports-2008to2015.pdf', 'split_idx': 0, 'n_splits': 1, 'similarity_score': 0.35056466}, {'_id': ObjectId('65b287cc0f3ad948d716cb76'), 'page_number': 334, 'folder': 'references/Weekly Reports', 'file_name': 'USMC-ELOreports-2008to2015.pdf', 'path': 'references/Weekly Reports/USMC-ELOreports-2008to2015.pdf', 'split_idx': 0, 'n_splits': 1, 'similarity_score': 0.35056466}, {'_id': ObjectId('65b287cc0f3ad948d716cb18'), 'page_number': 240, 'folder': 'references/Weekly Reports', 'file_name': 'USMC-ELOreports-2008to2015.pdf', 'path': 'references/Weekly Reports/USMC-ELOreports-2008to2015.pdf', 'split_idx': 0, 'n_splits': 1, 'similarity_score': 0.3506099}, {'_id': ObjectId('65b173ad59405ce5f16be381'), 'page': 240, 'folder': 'references/Weekly Reports', 'file_name': 'USMC-ELOreports-2008to2015.pdf', 'path': 'references/Weekly Reports/USMC-ELOreports-2008to2015.pdf', 'split_idx': 0, 'n_splits': 1, 'similarity_score': 0.35063088}, {'_id': ObjectId('65b287cc0f3ad948d716ca7b'), 'page_number': 83, 'folder': 'references/Weekly Reports', 'file_name': 'USMC-ELOreports-2008to2015.pdf', 'path': 'references/Weekly Reports/USMC-ELOreports-2008to2015.pdf', 'split_idx': 0, 'n_splits': 1, 'similarity_score': 0.35678932}]\n",
      "\n",
      "What movies have used fighter jets?\n",
      "\"IMAX: Legends of the Sky\" and \"No True Glory: Battle for Fallujah\" have used fighter jets in their filming.\n",
      "[{'_id': ObjectId('65b173ad59405ce5f16be3df'), 'page': 334, 'folder': 'references/Weekly Reports', 'file_name': 'USMC-ELOreports-2008to2015.pdf', 'path': 'references/Weekly Reports/USMC-ELOreports-2008to2015.pdf', 'split_idx': 0, 'n_splits': 1, 'similarity_score': 0.37194842}, {'_id': ObjectId('65b287cc0f3ad948d716cb76'), 'page_number': 334, 'folder': 'references/Weekly Reports', 'file_name': 'USMC-ELOreports-2008to2015.pdf', 'path': 'references/Weekly Reports/USMC-ELOreports-2008to2015.pdf', 'split_idx': 0, 'n_splits': 1, 'similarity_score': 0.37194842}, {'_id': ObjectId('65b1737293ee7900bc6be05e'), 'page': 33, 'folder': 'references/Weekly Reports', 'file_name': 'USAF_Entertainment_Weekly_Reports_2006-06.pdf', 'path': 'references/Weekly Reports/USAF_Entertainment_Weekly_Reports_2006-06.pdf', 'split_idx': 0, 'n_splits': 1, 'similarity_score': 0.37348485}, {'_id': ObjectId('65b287bd390f2efd3716c465'), 'page_number': 33, 'folder': 'references/Weekly Reports', 'file_name': 'USAF_Entertainment_Weekly_Reports_2006-06.pdf', 'path': 'references/Weekly Reports/USAF_Entertainment_Weekly_Reports_2006-06.pdf', 'split_idx': 0, 'n_splits': 1, 'similarity_score': 0.37367082}, {'_id': ObjectId('65b287ca390f2efd3716c51d'), 'page_number': 30, 'folder': 'references/Weekly Reports', 'file_name': 'USAF-ELO-WeeklyReports-2005-2006.pdf', 'path': 'references/Weekly Reports/USAF-ELO-WeeklyReports-2005-2006.pdf', 'split_idx': 0, 'n_splits': 1, 'similarity_score': 0.38010746}]\n",
      "\n",
      "Tell me detailed information about how aircraft carriers have been used.\n",
      "The document provides detailed information about how aircraft carriers have been used, including their importance in naval strategy during World War II and the Korean War. It discusses the impact of Pearl Harbor and the Battle of Midway on naval strategy, the roles of aircraft carriers and aviation at the end of World War II, the number of aircraft carriers and planes built for the Navy during World War II, and the various missions that planes were needed for. Additionally, it covers important technological developments such as the angled deck, steam catapult, inflight refueling, and the ejection seat, as well as the general fighter development in the immediate post-war years.\n",
      "[{'_id': ObjectId('65b173feb0616eaff46be1f5'), 'page': 440, 'folder': 'references/Weekly Reports', 'file_name': 'US-Navy-PAAs-2013-2017.pdf', 'path': 'references/Weekly Reports/US-Navy-PAAs-2013-2017.pdf', 'split_idx': 0, 'n_splits': 1, 'similarity_score': 0.31455368}, {'_id': ObjectId('65b28848d7e7e3601516c5fc'), 'page_number': 440, 'folder': 'references/Weekly Reports', 'file_name': 'US-Navy-PAAs-2013-2017.pdf', 'path': 'references/Weekly Reports/US-Navy-PAAs-2013-2017.pdf', 'split_idx': 0, 'n_splits': 1, 'similarity_score': 0.31455368}, {'_id': ObjectId('65b173feb0616eaff46be1fa'), 'page': 445, 'folder': 'references/Weekly Reports', 'file_name': 'US-Navy-PAAs-2013-2017.pdf', 'path': 'references/Weekly Reports/US-Navy-PAAs-2013-2017.pdf', 'split_idx': 0, 'n_splits': 1, 'similarity_score': 0.33101287}, {'_id': ObjectId('65b28848d7e7e3601516c601'), 'page_number': 445, 'folder': 'references/Weekly Reports', 'file_name': 'US-Navy-PAAs-2013-2017.pdf', 'path': 'references/Weekly Reports/US-Navy-PAAs-2013-2017.pdf', 'split_idx': 0, 'n_splits': 1, 'similarity_score': 0.33101287}, {'_id': ObjectId('65b173feb0616eaff46be1f8'), 'page': 443, 'folder': 'references/Weekly Reports', 'file_name': 'US-Navy-PAAs-2013-2017.pdf', 'path': 'references/Weekly Reports/US-Navy-PAAs-2013-2017.pdf', 'split_idx': 0, 'n_splits': 1, 'similarity_score': 0.34333012}]\n",
      "\n",
      "What kinds of military equipment appear in movies in the project?\n",
      "The military equipment that appears in movies in the project includes unmanned vehicle systems (land/sea/air), CH-47 Chinook helicopters, and related rescue operations.\n",
      "[{'_id': ObjectId('65b287cd4803d58a4716c44c'), 'page_number': 8, 'folder': 'references/Weekly Reports', 'file_name': 'USArmy-ELO-weeklyreports2004-5.pdf', 'path': 'references/Weekly Reports/USArmy-ELO-weeklyreports2004-5.pdf', 'split_idx': 0, 'n_splits': 1, 'similarity_score': 0.34306788}, {'_id': ObjectId('65b1738a93ee7900bc6be100'), 'page': 8, 'folder': 'references/Weekly Reports', 'file_name': 'USArmy-ELO-weeklyreports2004-5.pdf', 'path': 'references/Weekly Reports/USArmy-ELO-weeklyreports2004-5.pdf', 'split_idx': 0, 'n_splits': 1, 'similarity_score': 0.3434332}, {'_id': ObjectId('65b1738a93ee7900bc6be170'), 'page': 120, 'folder': 'references/Weekly Reports', 'file_name': 'USArmy-ELO-weeklyreports2004-5.pdf', 'path': 'references/Weekly Reports/USArmy-ELO-weeklyreports2004-5.pdf', 'split_idx': 0, 'n_splits': 1, 'similarity_score': 0.34378824}, {'_id': ObjectId('65b287cd4803d58a4716c4bc'), 'page_number': 120, 'folder': 'references/Weekly Reports', 'file_name': 'USArmy-ELO-weeklyreports2004-5.pdf', 'path': 'references/Weekly Reports/USArmy-ELO-weeklyreports2004-5.pdf', 'split_idx': 0, 'n_splits': 1, 'similarity_score': 0.34398705}, {'_id': ObjectId('65b1739748d8fd5d5c6be325'), 'page': 198, 'folder': 'references/Weekly Reports', 'file_name': 'USArmy-EntertainmentLiaisonOffice-2010to2015reports.pdf', 'path': 'references/Weekly Reports/USArmy-EntertainmentLiaisonOffice-2010to2015reports.pdf', 'split_idx': 0, 'n_splits': 1, 'similarity_score': 0.34880936}]\n",
      "\n"
     ]
    }
   ],
   "source": [
    "bots = []\n",
    "answers = []\n",
    "for q in TEST_QUERIES:\n",
    "    rag_chatbot = RagChatbot(vector_store_save_path=VECTOR_STORE_SAVE_PATH)\n",
    "    bots.append(rag_chatbot)\n",
    "    answers.append(rag_chatbot.run_rag_chat(q))\n",
    "    print(q, answers[-1], bots[-1].get_sources(), sep=\"\\n\", end=\"\\n\\n\")\n",
    "    sleep(2)\n"
   ]
  },
  {
   "cell_type": "code",
   "execution_count": 4,
   "id": "cb41cf69-1341-46aa-8d4b-1f82c6352ab2",
   "metadata": {},
   "outputs": [
    {
     "data": {
      "text/plain": [
       "[{'_id': ObjectId('65b173feb0616eaff46be1f1'),\n",
       "  'page': 436,\n",
       "  'folder': 'references/Weekly Reports',\n",
       "  'file_name': 'US-Navy-PAAs-2013-2017.pdf',\n",
       "  'path': 'references/Weekly Reports/US-Navy-PAAs-2013-2017.pdf',\n",
       "  'split_idx': 0,\n",
       "  'n_splits': 1,\n",
       "  'similarity_score': 0.33400434},\n",
       " {'_id': ObjectId('65b28848d7e7e3601516c5f8'),\n",
       "  'page_number': 436,\n",
       "  'folder': 'references/Weekly Reports',\n",
       "  'file_name': 'US-Navy-PAAs-2013-2017.pdf',\n",
       "  'path': 'references/Weekly Reports/US-Navy-PAAs-2013-2017.pdf',\n",
       "  'split_idx': 0,\n",
       "  'n_splits': 1,\n",
       "  'similarity_score': 0.33400434},\n",
       " {'_id': ObjectId('65b173feb0616eaff46be0d2'),\n",
       "  'page': 149,\n",
       "  'folder': 'references/Weekly Reports',\n",
       "  'file_name': 'US-Navy-PAAs-2013-2017.pdf',\n",
       "  'path': 'references/Weekly Reports/US-Navy-PAAs-2013-2017.pdf',\n",
       "  'split_idx': 0,\n",
       "  'n_splits': 1,\n",
       "  'similarity_score': 0.3399502},\n",
       " {'_id': ObjectId('65b28848d7e7e3601516c4d9'),\n",
       "  'page_number': 149,\n",
       "  'folder': 'references/Weekly Reports',\n",
       "  'file_name': 'US-Navy-PAAs-2013-2017.pdf',\n",
       "  'path': 'references/Weekly Reports/US-Navy-PAAs-2013-2017.pdf',\n",
       "  'split_idx': 0,\n",
       "  'n_splits': 1,\n",
       "  'similarity_score': 0.3399502},\n",
       " {'_id': ObjectId('65b28848d7e7e3601516c52f'),\n",
       "  'page_number': 235,\n",
       "  'folder': 'references/Weekly Reports',\n",
       "  'file_name': 'US-Navy-PAAs-2013-2017.pdf',\n",
       "  'path': 'references/Weekly Reports/US-Navy-PAAs-2013-2017.pdf',\n",
       "  'split_idx': 0,\n",
       "  'n_splits': 1,\n",
       "  'similarity_score': 0.34253526}]"
      ]
     },
     "execution_count": 4,
     "metadata": {},
     "output_type": "execute_result"
    }
   ],
   "source": [
    "bots[0].retriever.metadata"
   ]
  },
  {
   "cell_type": "code",
   "execution_count": null,
   "id": "04c540a8-f884-4949-b5ed-bb539d6c4cc0",
   "metadata": {},
   "outputs": [],
   "source": []
  },
  {
   "cell_type": "code",
   "execution_count": 5,
   "id": "bb4b2cfe-f83b-4187-add8-27b466780a59",
   "metadata": {},
   "outputs": [
    {
     "name": "stdout",
     "output_type": "stream",
     "text": [
      "merge stopped at 11 docs due to max tokens: 8000\n",
      "11 documents merged by MultiRetrieverCombiner\n",
      "MultiRetrieverCombiner output num tokens: 7767\n",
      "What kinds of obligations does a production company have?\n",
      "The production company has obligations such as indemnifying and holding harmless the Department of Defense (DoD) against any claims arising from the possession or use of DoD property, providing proof of liability insurance, not carrying certain substances or firearms onto DoD property, allowing DoD access to the production site for photography, identifying re-enactments, screening the production for the DoD project officer, and providing copies of the completed production to DoD for internal briefings and historical purposes.\n",
      "[{'_id': ObjectId('65b173feb0616eaff46be1f1'), 'page': 436, 'folder': 'references/Weekly Reports', 'file_name': 'US-Navy-PAAs-2013-2017.pdf', 'path': 'references/Weekly Reports/US-Navy-PAAs-2013-2017.pdf', 'split_idx': 0, 'n_splits': 1, 'similarity_score': 0.33400434}, {'_id': ObjectId('65b28848d7e7e3601516c5f8'), 'page_number': 436, 'folder': 'references/Weekly Reports', 'file_name': 'US-Navy-PAAs-2013-2017.pdf', 'path': 'references/Weekly Reports/US-Navy-PAAs-2013-2017.pdf', 'split_idx': 0, 'n_splits': 1, 'similarity_score': 0.33400434}, {'_id': ObjectId('65b173feb0616eaff46be0d2'), 'page': 149, 'folder': 'references/Weekly Reports', 'file_name': 'US-Navy-PAAs-2013-2017.pdf', 'path': 'references/Weekly Reports/US-Navy-PAAs-2013-2017.pdf', 'split_idx': 0, 'n_splits': 1, 'similarity_score': 0.3399502}, {'_id': ObjectId('65b28848d7e7e3601516c4d9'), 'page_number': 149, 'folder': 'references/Weekly Reports', 'file_name': 'US-Navy-PAAs-2013-2017.pdf', 'path': 'references/Weekly Reports/US-Navy-PAAs-2013-2017.pdf', 'split_idx': 0, 'n_splits': 1, 'similarity_score': 0.3399502}, {'_id': ObjectId('65b28848d7e7e3601516c52f'), 'page_number': 235, 'folder': 'references/Weekly Reports', 'file_name': 'US-Navy-PAAs-2013-2017.pdf', 'path': 'references/Weekly Reports/US-Navy-PAAs-2013-2017.pdf', 'split_idx': 0, 'n_splits': 1, 'similarity_score': 0.34253526}, {'_id': ObjectId('65b173feb0616eaff46be128'), 'page': 235, 'folder': 'references/Weekly Reports', 'file_name': 'US-Navy-PAAs-2013-2017.pdf', 'path': 'references/Weekly Reports/US-Navy-PAAs-2013-2017.pdf', 'split_idx': 0, 'n_splits': 1, 'similarity_score': 0.34257483}, {'_id': ObjectId('65b28848d7e7e3601516c4e1'), 'page_number': 157, 'folder': 'references/Weekly Reports', 'file_name': 'US-Navy-PAAs-2013-2017.pdf', 'path': 'references/Weekly Reports/US-Navy-PAAs-2013-2017.pdf', 'split_idx': 0, 'n_splits': 1, 'similarity_score': 0.34358752}, {'_id': ObjectId('65b173feb0616eaff46be0da'), 'page': 157, 'folder': 'references/Weekly Reports', 'file_name': 'US-Navy-PAAs-2013-2017.pdf', 'path': 'references/Weekly Reports/US-Navy-PAAs-2013-2017.pdf', 'split_idx': 0, 'n_splits': 1, 'similarity_score': 0.34377703}, {'_id': ObjectId('65b173feb0616eaff46be1ce'), 'page': 401, 'folder': 'references/Weekly Reports', 'file_name': 'US-Navy-PAAs-2013-2017.pdf', 'path': 'references/Weekly Reports/US-Navy-PAAs-2013-2017.pdf', 'split_idx': 0, 'n_splits': 1, 'similarity_score': 0.34529132}, {'_id': ObjectId('65b173feb0616eaff46be1d7'), 'page': 410, 'folder': 'references/Weekly Reports', 'file_name': 'US-Navy-PAAs-2013-2017.pdf', 'path': 'references/Weekly Reports/US-Navy-PAAs-2013-2017.pdf', 'split_idx': 0, 'n_splits': 1, 'similarity_score': 0.34529132}, {'_id': ObjectId('65b28848d7e7e3601516c5de'), 'page_number': 410, 'folder': 'references/Weekly Reports', 'file_name': 'US-Navy-PAAs-2013-2017.pdf', 'path': 'references/Weekly Reports/US-Navy-PAAs-2013-2017.pdf', 'split_idx': 0, 'n_splits': 1, 'similarity_score': 0.34529132}, {'_id': ObjectId('65b28848d7e7e3601516c5d5'), 'page_number': 401, 'folder': 'references/Weekly Reports', 'file_name': 'US-Navy-PAAs-2013-2017.pdf', 'path': 'references/Weekly Reports/US-Navy-PAAs-2013-2017.pdf', 'split_idx': 0, 'n_splits': 1, 'similarity_score': 0.34530282}]\n",
      "\n",
      "merge stopped at 13 docs due to max tokens: 8000\n",
      "13 documents merged by MultiRetrieverCombiner\n",
      "MultiRetrieverCombiner output num tokens: 7807\n",
      "Have movies related to sexual identity of members of the armed forces been part of the project?\n",
      "No, the movies mentioned in the document are primarily related to military support for various film and television projects, as well as documentaries about military personnel and operations. There is no mention of movies related to the sexual identity of members of the armed forces.\n",
      "[{'_id': ObjectId('65b287e63d93ee5a2216c4d2'), 'page_number': 119, 'folder': 'references/Weekly Reports', 'file_name': 'ArmyEntertainmentReports_2005-06.pdf', 'path': 'references/Weekly Reports/ArmyEntertainmentReports_2005-06.pdf', 'split_idx': 0, 'n_splits': 1, 'similarity_score': 0.30529112}, {'_id': ObjectId('65b173c893ee7900bc6be2b3'), 'page': 119, 'folder': 'references/Weekly Reports', 'file_name': 'ArmyEntertainmentReports_2005-06.pdf', 'path': 'references/Weekly Reports/ArmyEntertainmentReports_2005-06.pdf', 'split_idx': 0, 'n_splits': 1, 'similarity_score': 0.30532104}, {'_id': ObjectId('65b1739748d8fd5d5c6be43f'), 'page': 480, 'folder': 'references/Weekly Reports', 'file_name': 'USArmy-EntertainmentLiaisonOffice-2010to2015reports.pdf', 'path': 'references/Weekly Reports/USArmy-EntertainmentLiaisonOffice-2010to2015reports.pdf', 'split_idx': 0, 'n_splits': 1, 'similarity_score': 0.31553394}, {'_id': ObjectId('65b287c00f3ad948d716c6a4'), 'page_number': 480, 'folder': 'references/Weekly Reports', 'file_name': 'USArmy-EntertainmentLiaisonOffice-2010to2015reports.pdf', 'path': 'references/Weekly Reports/USArmy-EntertainmentLiaisonOffice-2010to2015reports.pdf', 'split_idx': 0, 'n_splits': 1, 'similarity_score': 0.31553394}, {'_id': ObjectId('65b1739959405ce5f16be0b0'), 'page': 114, 'folder': 'references/Weekly Reports', 'file_name': 'USArmy-ELO-weeklyreports2005-6.pdf', 'path': 'references/Weekly Reports/USArmy-ELO-weeklyreports2005-6.pdf', 'split_idx': 0, 'n_splits': 1, 'similarity_score': 0.3185683}, {'_id': ObjectId('65b287e6f0b2d090f516c4b6'), 'page_number': 114, 'folder': 'references/Weekly Reports', 'file_name': 'USArmy-ELO-weeklyreports2005-6.pdf', 'path': 'references/Weekly Reports/USArmy-ELO-weeklyreports2005-6.pdf', 'split_idx': 0, 'n_splits': 1, 'similarity_score': 0.3186677}, {'_id': ObjectId('65b173c893ee7900bc6be388'), 'page': 332, 'folder': 'references/Weekly Reports', 'file_name': 'ArmyEntertainmentReports_2005-06.pdf', 'path': 'references/Weekly Reports/ArmyEntertainmentReports_2005-06.pdf', 'split_idx': 0, 'n_splits': 1, 'similarity_score': 0.32476503}, {'_id': ObjectId('65b287e63d93ee5a2216c5a7'), 'page_number': 332, 'folder': 'references/Weekly Reports', 'file_name': 'ArmyEntertainmentReports_2005-06.pdf', 'path': 'references/Weekly Reports/ArmyEntertainmentReports_2005-06.pdf', 'split_idx': 0, 'n_splits': 1, 'similarity_score': 0.32476503}, {'_id': ObjectId('65b173c893ee7900bc6be2af'), 'page': 115, 'folder': 'references/Weekly Reports', 'file_name': 'ArmyEntertainmentReports_2005-06.pdf', 'path': 'references/Weekly Reports/ArmyEntertainmentReports_2005-06.pdf', 'split_idx': 0, 'n_splits': 1, 'similarity_score': 0.32676005}, {'_id': ObjectId('65b287e63d93ee5a2216c4ce'), 'page_number': 115, 'folder': 'references/Weekly Reports', 'file_name': 'ArmyEntertainmentReports_2005-06.pdf', 'path': 'references/Weekly Reports/ArmyEntertainmentReports_2005-06.pdf', 'split_idx': 0, 'n_splits': 1, 'similarity_score': 0.32706988}, {'_id': ObjectId('65b287c9a9c66392a016c4c4'), 'page_number': 128, 'folder': 'references/Weekly Reports', 'file_name': 'DOD-Entertainment-Weekly-Full-Release.pdf', 'path': 'references/Weekly Reports/DOD-Entertainment-Weekly-Full-Release.pdf', 'split_idx': 0, 'n_splits': 1, 'similarity_score': 0.32784986}, {'_id': ObjectId('65b1737f48d8fd5d5c6be1e0'), 'page': 128, 'folder': 'references/Weekly Reports', 'file_name': 'DOD-Entertainment-Weekly-Full-Release.pdf', 'path': 'references/Weekly Reports/DOD-Entertainment-Weekly-Full-Release.pdf', 'split_idx': 0, 'n_splits': 1, 'similarity_score': 0.32795045}, {'_id': ObjectId('65b173c893ee7900bc6be265'), 'page': 41, 'folder': 'references/Weekly Reports', 'file_name': 'ArmyEntertainmentReports_2005-06.pdf', 'path': 'references/Weekly Reports/ArmyEntertainmentReports_2005-06.pdf', 'split_idx': 0, 'n_splits': 1, 'similarity_score': 0.33112553}, {'_id': ObjectId('65b287e63d93ee5a2216c484'), 'page_number': 41, 'folder': 'references/Weekly Reports', 'file_name': 'ArmyEntertainmentReports_2005-06.pdf', 'path': 'references/Weekly Reports/ArmyEntertainmentReports_2005-06.pdf', 'split_idx': 0, 'n_splits': 1, 'similarity_score': 0.33112553}]\n",
      "\n",
      "14 documents merged by MultiRetrieverCombiner\n",
      "MultiRetrieverCombiner output num tokens: 6596\n",
      "What movies have used aircraft carriers?\n",
      "\"IMAX: Legends of the Sky\" and \"No True Glory: Battle for Fallujah\" are movies that have used aircraft carriers.\n",
      "[{'_id': ObjectId('65b173ad59405ce5f16be3df'), 'page': 334, 'folder': 'references/Weekly Reports', 'file_name': 'USMC-ELOreports-2008to2015.pdf', 'path': 'references/Weekly Reports/USMC-ELOreports-2008to2015.pdf', 'split_idx': 0, 'n_splits': 1, 'similarity_score': 0.35057923}, {'_id': ObjectId('65b287cc0f3ad948d716cb76'), 'page_number': 334, 'folder': 'references/Weekly Reports', 'file_name': 'USMC-ELOreports-2008to2015.pdf', 'path': 'references/Weekly Reports/USMC-ELOreports-2008to2015.pdf', 'split_idx': 0, 'n_splits': 1, 'similarity_score': 0.35057923}, {'_id': ObjectId('65b287cc0f3ad948d716cb18'), 'page_number': 240, 'folder': 'references/Weekly Reports', 'file_name': 'USMC-ELOreports-2008to2015.pdf', 'path': 'references/Weekly Reports/USMC-ELOreports-2008to2015.pdf', 'split_idx': 0, 'n_splits': 1, 'similarity_score': 0.35061926}, {'_id': ObjectId('65b173ad59405ce5f16be381'), 'page': 240, 'folder': 'references/Weekly Reports', 'file_name': 'USMC-ELOreports-2008to2015.pdf', 'path': 'references/Weekly Reports/USMC-ELOreports-2008to2015.pdf', 'split_idx': 0, 'n_splits': 1, 'similarity_score': 0.35064036}, {'_id': ObjectId('65b287cc0f3ad948d716ca7b'), 'page_number': 83, 'folder': 'references/Weekly Reports', 'file_name': 'USMC-ELOreports-2008to2015.pdf', 'path': 'references/Weekly Reports/USMC-ELOreports-2008to2015.pdf', 'split_idx': 0, 'n_splits': 1, 'similarity_score': 0.356762}, {'_id': ObjectId('65b173ad59405ce5f16be2e4'), 'page': 83, 'folder': 'references/Weekly Reports', 'file_name': 'USMC-ELOreports-2008to2015.pdf', 'path': 'references/Weekly Reports/USMC-ELOreports-2008to2015.pdf', 'split_idx': 0, 'n_splits': 1, 'similarity_score': 0.35742188}, {'_id': ObjectId('65b1741848d8fd5d5c6beb2e'), 'page': 211, 'folder': 'references/Weekly Reports', 'file_name': 'US Navy ELO reports 2012-2017.pdf', 'path': 'references/Weekly Reports/US Navy ELO reports 2012-2017.pdf', 'split_idx': 0, 'n_splits': 1, 'similarity_score': 0.36135736}, {'_id': ObjectId('65b288312b90fa275916c5c5'), 'page_number': 211, 'folder': 'references/Weekly Reports', 'file_name': 'US Navy ELO reports 2012-2017.pdf', 'path': 'references/Weekly Reports/US Navy ELO reports 2012-2017.pdf', 'split_idx': 0, 'n_splits': 1, 'similarity_score': 0.36135736}, {'_id': ObjectId('65b173ad59405ce5f16be37a'), 'page': 233, 'folder': 'references/Weekly Reports', 'file_name': 'USMC-ELOreports-2008to2015.pdf', 'path': 'references/Weekly Reports/USMC-ELOreports-2008to2015.pdf', 'split_idx': 0, 'n_splits': 1, 'similarity_score': 0.36427158}, {'_id': ObjectId('65b287cc0f3ad948d716cb11'), 'page_number': 233, 'folder': 'references/Weekly Reports', 'file_name': 'USMC-ELOreports-2008to2015.pdf', 'path': 'references/Weekly Reports/USMC-ELOreports-2008to2015.pdf', 'split_idx': 0, 'n_splits': 1, 'similarity_score': 0.36432123}, {'_id': ObjectId('65b288312b90fa275916c644'), 'page_number': 338, 'folder': 'references/Weekly Reports', 'file_name': 'US Navy ELO reports 2012-2017.pdf', 'path': 'references/Weekly Reports/US Navy ELO reports 2012-2017.pdf', 'split_idx': 0, 'n_splits': 1, 'similarity_score': 0.36671317}, {'_id': ObjectId('65b1741848d8fd5d5c6bebad'), 'page': 338, 'folder': 'references/Weekly Reports', 'file_name': 'US Navy ELO reports 2012-2017.pdf', 'path': 'references/Weekly Reports/US Navy ELO reports 2012-2017.pdf', 'split_idx': 0, 'n_splits': 1, 'similarity_score': 0.36677793}, {'_id': ObjectId('65b173ad59405ce5f16be302'), 'page': 113, 'folder': 'references/Weekly Reports', 'file_name': 'USMC-ELOreports-2008to2015.pdf', 'path': 'references/Weekly Reports/USMC-ELOreports-2008to2015.pdf', 'split_idx': 0, 'n_splits': 1, 'similarity_score': 0.36691695}, {'_id': ObjectId('65b173ad59405ce5f16be3a8'), 'page': 279, 'folder': 'references/Weekly Reports', 'file_name': 'USMC-ELOreports-2008to2015.pdf', 'path': 'references/Weekly Reports/USMC-ELOreports-2008to2015.pdf', 'split_idx': 0, 'n_splits': 1, 'similarity_score': 0.36725023}, {'_id': ObjectId('65b287cc0f3ad948d716cb3f'), 'page_number': 279, 'folder': 'references/Weekly Reports', 'file_name': 'USMC-ELOreports-2008to2015.pdf', 'path': 'references/Weekly Reports/USMC-ELOreports-2008to2015.pdf', 'split_idx': 0, 'n_splits': 1, 'similarity_score': 0.36725023}]\n",
      "\n",
      "14 documents merged by MultiRetrieverCombiner\n",
      "MultiRetrieverCombiner output num tokens: 5977\n",
      "What movies have used fighter jets?\n",
      "\"IMAX: Legends of the Sky\" by The Stephen Low Company and \"No True Glory: Battle for Fallujah\" by Universal Pictures have used fighter jets.\n",
      "[{'_id': ObjectId('65b173ad59405ce5f16be3df'), 'page': 334, 'folder': 'references/Weekly Reports', 'file_name': 'USMC-ELOreports-2008to2015.pdf', 'path': 'references/Weekly Reports/USMC-ELOreports-2008to2015.pdf', 'split_idx': 0, 'n_splits': 1, 'similarity_score': 0.37194842}, {'_id': ObjectId('65b287cc0f3ad948d716cb76'), 'page_number': 334, 'folder': 'references/Weekly Reports', 'file_name': 'USMC-ELOreports-2008to2015.pdf', 'path': 'references/Weekly Reports/USMC-ELOreports-2008to2015.pdf', 'split_idx': 0, 'n_splits': 1, 'similarity_score': 0.37194842}, {'_id': ObjectId('65b1737293ee7900bc6be05e'), 'page': 33, 'folder': 'references/Weekly Reports', 'file_name': 'USAF_Entertainment_Weekly_Reports_2006-06.pdf', 'path': 'references/Weekly Reports/USAF_Entertainment_Weekly_Reports_2006-06.pdf', 'split_idx': 0, 'n_splits': 1, 'similarity_score': 0.37348485}, {'_id': ObjectId('65b287bd390f2efd3716c465'), 'page_number': 33, 'folder': 'references/Weekly Reports', 'file_name': 'USAF_Entertainment_Weekly_Reports_2006-06.pdf', 'path': 'references/Weekly Reports/USAF_Entertainment_Weekly_Reports_2006-06.pdf', 'split_idx': 0, 'n_splits': 1, 'similarity_score': 0.37367082}, {'_id': ObjectId('65b287ca390f2efd3716c51d'), 'page_number': 30, 'folder': 'references/Weekly Reports', 'file_name': 'USAF-ELO-WeeklyReports-2005-2006.pdf', 'path': 'references/Weekly Reports/USAF-ELO-WeeklyReports-2005-2006.pdf', 'split_idx': 0, 'n_splits': 1, 'similarity_score': 0.38010746}, {'_id': ObjectId('65b173a359405ce5f16be1f7'), 'page': 30, 'folder': 'references/Weekly Reports', 'file_name': 'USAF-ELO-WeeklyReports-2005-2006.pdf', 'path': 'references/Weekly Reports/USAF-ELO-WeeklyReports-2005-2006.pdf', 'split_idx': 0, 'n_splits': 1, 'similarity_score': 0.38017237}, {'_id': ObjectId('65b287cc0f3ad948d716cb18'), 'page_number': 240, 'folder': 'references/Weekly Reports', 'file_name': 'USMC-ELOreports-2008to2015.pdf', 'path': 'references/Weekly Reports/USMC-ELOreports-2008to2015.pdf', 'split_idx': 0, 'n_splits': 1, 'similarity_score': 0.38374996}, {'_id': ObjectId('65b173ad59405ce5f16be381'), 'page': 240, 'folder': 'references/Weekly Reports', 'file_name': 'USMC-ELOreports-2008to2015.pdf', 'path': 'references/Weekly Reports/USMC-ELOreports-2008to2015.pdf', 'split_idx': 0, 'n_splits': 1, 'similarity_score': 0.38386285}, {'_id': ObjectId('65b287bd390f2efd3716c469'), 'page_number': 37, 'folder': 'references/Weekly Reports', 'file_name': 'USAF_Entertainment_Weekly_Reports_2006-06.pdf', 'path': 'references/Weekly Reports/USAF_Entertainment_Weekly_Reports_2006-06.pdf', 'split_idx': 0, 'n_splits': 1, 'similarity_score': 0.38642806}, {'_id': ObjectId('65b1737293ee7900bc6be062'), 'page': 37, 'folder': 'references/Weekly Reports', 'file_name': 'USAF_Entertainment_Weekly_Reports_2006-06.pdf', 'path': 'references/Weekly Reports/USAF_Entertainment_Weekly_Reports_2006-06.pdf', 'split_idx': 0, 'n_splits': 1, 'similarity_score': 0.3864898}, {'_id': ObjectId('65b173feb0616eaff46be1fa'), 'page': 445, 'folder': 'references/Weekly Reports', 'file_name': 'US-Navy-PAAs-2013-2017.pdf', 'path': 'references/Weekly Reports/US-Navy-PAAs-2013-2017.pdf', 'split_idx': 0, 'n_splits': 1, 'similarity_score': 0.38739568}, {'_id': ObjectId('65b28848d7e7e3601516c601'), 'page_number': 445, 'folder': 'references/Weekly Reports', 'file_name': 'US-Navy-PAAs-2013-2017.pdf', 'path': 'references/Weekly Reports/US-Navy-PAAs-2013-2017.pdf', 'split_idx': 0, 'n_splits': 1, 'similarity_score': 0.38739568}, {'_id': ObjectId('65b173a359405ce5f16be1fb'), 'page': 34, 'folder': 'references/Weekly Reports', 'file_name': 'USAF-ELO-WeeklyReports-2005-2006.pdf', 'path': 'references/Weekly Reports/USAF-ELO-WeeklyReports-2005-2006.pdf', 'split_idx': 0, 'n_splits': 1, 'similarity_score': 0.3891939}, {'_id': ObjectId('65b287ca390f2efd3716c521'), 'page_number': 34, 'folder': 'references/Weekly Reports', 'file_name': 'USAF-ELO-WeeklyReports-2005-2006.pdf', 'path': 'references/Weekly Reports/USAF-ELO-WeeklyReports-2005-2006.pdf', 'split_idx': 0, 'n_splits': 1, 'similarity_score': 0.3891939}, {'_id': ObjectId('65b173ad59405ce5f16be37a'), 'page': 233, 'folder': 'references/Weekly Reports', 'file_name': 'USMC-ELOreports-2008to2015.pdf', 'path': 'references/Weekly Reports/USMC-ELOreports-2008to2015.pdf', 'split_idx': 0, 'n_splits': 1, 'similarity_score': 0.3911689}]\n",
      "\n",
      "14 documents merged by MultiRetrieverCombiner\n",
      "MultiRetrieverCombiner output num tokens: 5462\n",
      "Tell me detailed information about how aircraft carriers have been used.\n",
      "The document contains detailed information about the use of aircraft carriers, including their role in naval strategy, the number of carriers and planes built for the Navy during WW2, the class of aircraft carriers, the role of aircraft carriers in the Korean War, and the development of specific carrier-based fighter planes such as the F2-H Banshee, McDonnell FD-1 Phantom, and F-4 Phantom. It also covers the development of jet engines and the challenges and advancements in carrier-based aviation technology.\n",
      "[{'_id': ObjectId('65b173feb0616eaff46be1f5'), 'page': 440, 'folder': 'references/Weekly Reports', 'file_name': 'US-Navy-PAAs-2013-2017.pdf', 'path': 'references/Weekly Reports/US-Navy-PAAs-2013-2017.pdf', 'split_idx': 0, 'n_splits': 1, 'similarity_score': 0.31455368}, {'_id': ObjectId('65b28848d7e7e3601516c5fc'), 'page_number': 440, 'folder': 'references/Weekly Reports', 'file_name': 'US-Navy-PAAs-2013-2017.pdf', 'path': 'references/Weekly Reports/US-Navy-PAAs-2013-2017.pdf', 'split_idx': 0, 'n_splits': 1, 'similarity_score': 0.31455368}, {'_id': ObjectId('65b173feb0616eaff46be1fa'), 'page': 445, 'folder': 'references/Weekly Reports', 'file_name': 'US-Navy-PAAs-2013-2017.pdf', 'path': 'references/Weekly Reports/US-Navy-PAAs-2013-2017.pdf', 'split_idx': 0, 'n_splits': 1, 'similarity_score': 0.33101287}, {'_id': ObjectId('65b28848d7e7e3601516c601'), 'page_number': 445, 'folder': 'references/Weekly Reports', 'file_name': 'US-Navy-PAAs-2013-2017.pdf', 'path': 'references/Weekly Reports/US-Navy-PAAs-2013-2017.pdf', 'split_idx': 0, 'n_splits': 1, 'similarity_score': 0.33101287}, {'_id': ObjectId('65b173feb0616eaff46be1f8'), 'page': 443, 'folder': 'references/Weekly Reports', 'file_name': 'US-Navy-PAAs-2013-2017.pdf', 'path': 'references/Weekly Reports/US-Navy-PAAs-2013-2017.pdf', 'split_idx': 0, 'n_splits': 1, 'similarity_score': 0.34333012}, {'_id': ObjectId('65b28848d7e7e3601516c5ff'), 'page_number': 443, 'folder': 'references/Weekly Reports', 'file_name': 'US-Navy-PAAs-2013-2017.pdf', 'path': 'references/Weekly Reports/US-Navy-PAAs-2013-2017.pdf', 'split_idx': 0, 'n_splits': 1, 'similarity_score': 0.34333062}, {'_id': ObjectId('65b173feb0616eaff46be1f6'), 'page': 441, 'folder': 'references/Weekly Reports', 'file_name': 'US-Navy-PAAs-2013-2017.pdf', 'path': 'references/Weekly Reports/US-Navy-PAAs-2013-2017.pdf', 'split_idx': 0, 'n_splits': 1, 'similarity_score': 0.3616829}, {'_id': ObjectId('65b28848d7e7e3601516c5fd'), 'page_number': 441, 'folder': 'references/Weekly Reports', 'file_name': 'US-Navy-PAAs-2013-2017.pdf', 'path': 'references/Weekly Reports/US-Navy-PAAs-2013-2017.pdf', 'split_idx': 0, 'n_splits': 1, 'similarity_score': 0.3616829}, {'_id': ObjectId('65b173feb0616eaff46be1fb'), 'page': 446, 'folder': 'references/Weekly Reports', 'file_name': 'US-Navy-PAAs-2013-2017.pdf', 'path': 'references/Weekly Reports/US-Navy-PAAs-2013-2017.pdf', 'split_idx': 0, 'n_splits': 1, 'similarity_score': 0.3620013}, {'_id': ObjectId('65b28848d7e7e3601516c602'), 'page_number': 446, 'folder': 'references/Weekly Reports', 'file_name': 'US-Navy-PAAs-2013-2017.pdf', 'path': 'references/Weekly Reports/US-Navy-PAAs-2013-2017.pdf', 'split_idx': 0, 'n_splits': 1, 'similarity_score': 0.3620013}, {'_id': ObjectId('65b173feb0616eaff46be1fc'), 'page': 447, 'folder': 'references/Weekly Reports', 'file_name': 'US-Navy-PAAs-2013-2017.pdf', 'path': 'references/Weekly Reports/US-Navy-PAAs-2013-2017.pdf', 'split_idx': 0, 'n_splits': 1, 'similarity_score': 0.36314535}, {'_id': ObjectId('65b28848d7e7e3601516c603'), 'page_number': 447, 'folder': 'references/Weekly Reports', 'file_name': 'US-Navy-PAAs-2013-2017.pdf', 'path': 'references/Weekly Reports/US-Navy-PAAs-2013-2017.pdf', 'split_idx': 0, 'n_splits': 1, 'similarity_score': 0.36314535}, {'_id': ObjectId('65b173feb0616eaff46be1fd'), 'page': 448, 'folder': 'references/Weekly Reports', 'file_name': 'US-Navy-PAAs-2013-2017.pdf', 'path': 'references/Weekly Reports/US-Navy-PAAs-2013-2017.pdf', 'split_idx': 0, 'n_splits': 1, 'similarity_score': 0.36528498}, {'_id': ObjectId('65b28848d7e7e3601516c604'), 'page_number': 448, 'folder': 'references/Weekly Reports', 'file_name': 'US-Navy-PAAs-2013-2017.pdf', 'path': 'references/Weekly Reports/US-Navy-PAAs-2013-2017.pdf', 'split_idx': 0, 'n_splits': 1, 'similarity_score': 0.36530018}, {'_id': ObjectId('65b173feb0616eaff46be1f4'), 'page': 439, 'folder': 'references/Weekly Reports', 'file_name': 'US-Navy-PAAs-2013-2017.pdf', 'path': 'references/Weekly Reports/US-Navy-PAAs-2013-2017.pdf', 'split_idx': 0, 'n_splits': 1, 'similarity_score': 0.36926502}]\n",
      "\n",
      "merge stopped at 13 docs due to max tokens: 8000\n",
      "13 documents merged by MultiRetrieverCombiner\n",
      "MultiRetrieverCombiner output num tokens: 7779\n",
      "What kinds of military equipment appear in movies in the project?\n",
      "The military equipment that appears in movies in the project includes HMMW-Vs, Cobra helicopters, and 9-10 wheeled vehicles, including military ambulances.\n",
      "[{'_id': ObjectId('65b287cd4803d58a4716c44c'), 'page_number': 8, 'folder': 'references/Weekly Reports', 'file_name': 'USArmy-ELO-weeklyreports2004-5.pdf', 'path': 'references/Weekly Reports/USArmy-ELO-weeklyreports2004-5.pdf', 'split_idx': 0, 'n_splits': 1, 'similarity_score': 0.34306788}, {'_id': ObjectId('65b1738a93ee7900bc6be100'), 'page': 8, 'folder': 'references/Weekly Reports', 'file_name': 'USArmy-ELO-weeklyreports2004-5.pdf', 'path': 'references/Weekly Reports/USArmy-ELO-weeklyreports2004-5.pdf', 'split_idx': 0, 'n_splits': 1, 'similarity_score': 0.3434332}, {'_id': ObjectId('65b1738a93ee7900bc6be170'), 'page': 120, 'folder': 'references/Weekly Reports', 'file_name': 'USArmy-ELO-weeklyreports2004-5.pdf', 'path': 'references/Weekly Reports/USArmy-ELO-weeklyreports2004-5.pdf', 'split_idx': 0, 'n_splits': 1, 'similarity_score': 0.34378824}, {'_id': ObjectId('65b287cd4803d58a4716c4bc'), 'page_number': 120, 'folder': 'references/Weekly Reports', 'file_name': 'USArmy-ELO-weeklyreports2004-5.pdf', 'path': 'references/Weekly Reports/USArmy-ELO-weeklyreports2004-5.pdf', 'split_idx': 0, 'n_splits': 1, 'similarity_score': 0.34398705}, {'_id': ObjectId('65b1739748d8fd5d5c6be325'), 'page': 198, 'folder': 'references/Weekly Reports', 'file_name': 'USArmy-EntertainmentLiaisonOffice-2010to2015reports.pdf', 'path': 'references/Weekly Reports/USArmy-EntertainmentLiaisonOffice-2010to2015reports.pdf', 'split_idx': 0, 'n_splits': 1, 'similarity_score': 0.34880936}, {'_id': ObjectId('65b287c00f3ad948d716c58a'), 'page_number': 198, 'folder': 'references/Weekly Reports', 'file_name': 'USArmy-EntertainmentLiaisonOffice-2010to2015reports.pdf', 'path': 'references/Weekly Reports/USArmy-EntertainmentLiaisonOffice-2010to2015reports.pdf', 'split_idx': 0, 'n_splits': 1, 'similarity_score': 0.34888297}, {'_id': ObjectId('65b1738a93ee7900bc6be118'), 'page': 32, 'folder': 'references/Weekly Reports', 'file_name': 'USArmy-ELO-weeklyreports2004-5.pdf', 'path': 'references/Weekly Reports/USArmy-ELO-weeklyreports2004-5.pdf', 'split_idx': 0, 'n_splits': 1, 'similarity_score': 0.34932292}, {'_id': ObjectId('65b287cd4803d58a4716c464'), 'page_number': 32, 'folder': 'references/Weekly Reports', 'file_name': 'USArmy-ELO-weeklyreports2004-5.pdf', 'path': 'references/Weekly Reports/USArmy-ELO-weeklyreports2004-5.pdf', 'split_idx': 0, 'n_splits': 1, 'similarity_score': 0.34932292}, {'_id': ObjectId('65b1739748d8fd5d5c6be2a2'), 'page': 67, 'folder': 'references/Weekly Reports', 'file_name': 'USArmy-EntertainmentLiaisonOffice-2010to2015reports.pdf', 'path': 'references/Weekly Reports/USArmy-EntertainmentLiaisonOffice-2010to2015reports.pdf', 'split_idx': 0, 'n_splits': 1, 'similarity_score': 0.35325426}, {'_id': ObjectId('65b287c00f3ad948d716c507'), 'page_number': 67, 'folder': 'references/Weekly Reports', 'file_name': 'USArmy-EntertainmentLiaisonOffice-2010to2015reports.pdf', 'path': 'references/Weekly Reports/USArmy-EntertainmentLiaisonOffice-2010to2015reports.pdf', 'split_idx': 0, 'n_splits': 1, 'similarity_score': 0.35325426}, {'_id': ObjectId('65b287c00f3ad948d716c665'), 'page_number': 417, 'folder': 'references/Weekly Reports', 'file_name': 'USArmy-EntertainmentLiaisonOffice-2010to2015reports.pdf', 'path': 'references/Weekly Reports/USArmy-EntertainmentLiaisonOffice-2010to2015reports.pdf', 'split_idx': 0, 'n_splits': 1, 'similarity_score': 0.3537614}, {'_id': ObjectId('65b1739748d8fd5d5c6be400'), 'page': 417, 'folder': 'references/Weekly Reports', 'file_name': 'USArmy-EntertainmentLiaisonOffice-2010to2015reports.pdf', 'path': 'references/Weekly Reports/USArmy-EntertainmentLiaisonOffice-2010to2015reports.pdf', 'split_idx': 0, 'n_splits': 1, 'similarity_score': 0.35382822}, {'_id': ObjectId('65b1738a93ee7900bc6be14b'), 'page': 83, 'folder': 'references/Weekly Reports', 'file_name': 'USArmy-ELO-weeklyreports2004-5.pdf', 'path': 'references/Weekly Reports/USArmy-ELO-weeklyreports2004-5.pdf', 'split_idx': 0, 'n_splits': 1, 'similarity_score': 0.35825938}, {'_id': ObjectId('65b287cd4803d58a4716c497'), 'page_number': 83, 'folder': 'references/Weekly Reports', 'file_name': 'USArmy-ELO-weeklyreports2004-5.pdf', 'path': 'references/Weekly Reports/USArmy-ELO-weeklyreports2004-5.pdf', 'split_idx': 0, 'n_splits': 1, 'similarity_score': 0.35825938}]\n",
      "\n"
     ]
    }
   ],
   "source": [
    "bots = []\n",
    "answers = []\n",
    "for q in TEST_QUERIES:\n",
    "    rag_chatbot = RagChatbotMultiRetrieverCombiner(\n",
    "        vector_store_save_path=VECTOR_STORE_SAVE_PATH,\n",
    "        max_tokens_context=MAX_TOKENS_CONTEXT,\n",
    "        max_docs=MAX_DOCS_RETRIEVER,\n",
    "    )\n",
    "    bots.append(rag_chatbot)\n",
    "    answers.append(rag_chatbot.run_rag_chat(q))\n",
    "    print(q, answers[-1], bots[-1].get_sources(), sep=\"\\n\", end=\"\\n\\n\")\n",
    "    sleep(2)\n"
   ]
  }
 ],
 "metadata": {
  "kernelspec": {
   "display_name": "Python 3 (ipykernel)",
   "language": "python",
   "name": "python3"
  },
  "language_info": {
   "codemirror_mode": {
    "name": "ipython",
    "version": 3
   },
   "file_extension": ".py",
   "mimetype": "text/x-python",
   "name": "python",
   "nbconvert_exporter": "python",
   "pygments_lexer": "ipython3",
   "version": "3.8.3"
  }
 },
 "nbformat": 4,
 "nbformat_minor": 5
}
