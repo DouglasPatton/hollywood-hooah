{
 "cells": [
  {
   "cell_type": "code",
   "execution_count": 1,
   "id": "d61c7ca2-2118-4386-b6f0-59420aac3e54",
   "metadata": {
    "editable": true,
    "slideshow": {
     "slide_type": ""
    },
    "tags": []
   },
   "outputs": [
    {
     "name": "stdout",
     "output_type": "stream",
     "text": [
      "/home/dp/hdd/gits/hollywood-hooah\n"
     ]
    }
   ],
   "source": [
    "%cd ..\n",
    "from ragchat.chatbots import RagChatbotMultiRetrieverCombiner\n",
    "from ragchat.chatbots import RagChatbot\n",
    "from ragchat.configs import TEST_QUERIES,VECTOR_STORE_SAVE_PATH, MAX_TOKENS_CONTEXT, MAX_DOCS_RETRIEVER\n",
    "import json\n",
    "from random import seed,shuffle\n",
    "from time import sleep"
   ]
  },
  {
   "cell_type": "code",
   "execution_count": 2,
   "id": "4e91871e-858d-40a6-9616-e9463d4320eb",
   "metadata": {
    "editable": true,
    "slideshow": {
     "slide_type": ""
    },
    "tags": []
   },
   "outputs": [],
   "source": [
    "# # try a handful of synthetic questions\n",
    "# n_synth_questions = 10\n",
    "# with open(\"questions/synthetic_questions.json\", \"r\") as f:\n",
    "#     page_questions = json.load(f)\n",
    "# questions = list(\n",
    "#     dict.fromkeys([q for q_list in page_questions.values() for q in q_list])\n",
    "# )\n",
    "# seed(42)\n",
    "# shuffle(questions)\n",
    "# synthetic_test_queries = questions[:n_synth_questions]\n",
    "# synthetic_test_queries\n"
   ]
  },
  {
   "cell_type": "code",
   "execution_count": 3,
   "id": "9f93f42c-1dab-4998-a608-734fed6741b9",
   "metadata": {
    "editable": true,
    "slideshow": {
     "slide_type": ""
    },
    "tags": []
   },
   "outputs": [
    {
     "name": "stderr",
     "output_type": "stream",
     "text": [
      "/home/dp/hdd/gits/hollywood-hooah/env/lib/python3.8/site-packages/langchain_core/_api/deprecation.py:117: LangChainDeprecationWarning: The class `langchain_community.chat_models.openai.ChatOpenAI` was deprecated in langchain-community 0.0.10 and will be removed in 0.2.0. An updated version of the class exists in the langchain-openai package and should be used instead. To use it run `pip install -U langchain-openai` and import as `from langchain_openai import ChatOpenAI`.\n",
      "  warn_deprecated(\n",
      "/home/dp/hdd/gits/hollywood-hooah/env/lib/python3.8/site-packages/langchain_core/_api/deprecation.py:117: LangChainDeprecationWarning: The class `langchain_community.embeddings.openai.OpenAIEmbeddings` was deprecated in langchain-community 0.1.0 and will be removed in 0.2.0. An updated version of the class exists in the langchain-openai package and should be used instead. To use it run `pip install -U langchain-openai` and import as `from langchain_openai import OpenAIEmbeddings`.\n",
      "  warn_deprecated(\n"
     ]
    },
    {
     "name": "stdout",
     "output_type": "stream",
     "text": [
      "What kinds of obligations does a production company have?\n",
      "The production company has obligations such as indemnifying and holding harmless the DoD, providing proof of liability insurance, not carrying certain substances onto DoD property, allowing access to DoD public affairs personnel, identifying re-enactments, screening the production for the DoD project officer, and more.\n",
      "[436, 149, 235, 157, 401]\n",
      "\n",
      "Have movies related to sexual identity been part of the project?\n",
      "Based on the provided documents, there is no mention of movies related to sexual identity being part of the project. The documents mainly discuss military-themed films and television projects.\n",
      "[480, 119, 332, 27, 242]\n",
      "\n",
      "What movies have used aircraft carriers?\n",
      "The movies \"IMAX: Legends of the Sky\" and \"Lucy\" have used aircraft carriers.\n",
      "[334, 240, 83, 211, 233]\n",
      "\n",
      "Tell me detailed information about how aircraft carriers have been used.\n",
      "The document provides detailed information about the use of aircraft carriers in naval strategy, particularly during World War II and the early Cold War years. It covers the role of aircraft carriers and aviation in naval strategy, the types of planes used, their performance, the demand for Navy planes and pilots during the war, the number of aircraft carriers and planes built for the Navy during WW2, the class of aircraft carriers, and the technological developments related to carrier operations. It also discusses the development of jet engines and the use of jet technology in naval aviation. Additionally, it provides information about specific aircraft such as the F2-H Banshee, McDonnell F2-H Phantom, and the F3-H Demon, as well as the F-4 Phantom, and their significance in naval aviation history.\n",
      "[440, 445, 443, 441, 446]\n",
      "\n",
      "What kinds of military equipment appear in movies in the project?\n",
      "The military equipment that appears in movies in the project includes vehicles, unmanned vehicle systems, CH-47 Chinooks, and M1 Abrams tanks.\n",
      "[8, 120, 198, 32, 67]\n",
      "\n"
     ]
    }
   ],
   "source": [
    "bots = []\n",
    "answers = []\n",
    "for q in TEST_QUERIES:\n",
    "    rag_chatbot = RagChatbot(vector_store_save_path=VECTOR_STORE_SAVE_PATH)\n",
    "    bots.append(rag_chatbot)\n",
    "    answers.append(rag_chatbot.run_rag_chat(q))\n",
    "    print(q, answers[-1], bots[-1].get_pages(), sep=\"\\n\", end=\"\\n\\n\")\n",
    "    sleep(2)\n"
   ]
  },
  {
   "cell_type": "code",
   "execution_count": 4,
   "id": "bb4b2cfe-f83b-4187-add8-27b466780a59",
   "metadata": {},
   "outputs": [
    {
     "name": "stdout",
     "output_type": "stream",
     "text": [
      "merge stopped at 11 docs due to max tokens: 8000\n",
      "11 documents merged by MultiRetrieverCombiner\n",
      "MultiRetrieverCombiner output num tokens: 7526\n",
      "What kinds of obligations does a production company have?\n",
      "The production company has obligations such as indemnifying and holding harmless the DoD, providing proof of liability insurance, not carrying certain substances or equipment onto DoD property, allowing DoD access to the production site, identifying re-enactments, screening the production for the DoD project officer, and providing copies of promotional materials and the completed production to the DoD.\n",
      "[436, 149, 235, 157, 401, 410, 422, 81, 417, 218, 294, 383]\n",
      "\n",
      "merge stopped at 13 docs due to max tokens: 8000\n",
      "13 documents merged by MultiRetrieverCombiner\n",
      "MultiRetrieverCombiner output num tokens: 7820\n",
      "Have movies related to sexual identity been part of the project?\n",
      "Based on the provided document, there is no mention of movies related to sexual identity being part of the project. The document mainly discusses military support for various films, television projects, and documentaries.\n",
      "[480, 119, 332, 27, 242, 411, 333, 834, 114, 115, 98, 1396]\n",
      "\n",
      "14 documents merged by MultiRetrieverCombiner\n",
      "MultiRetrieverCombiner output num tokens: 5848\n",
      "What movies have used aircraft carriers?\n",
      "\"IMAX: Legends of the Sky\" and \"No True Glory: Battle for Fallujah\" are movies that have used aircraft carriers.\n",
      "[334, 240, 83, 211, 233, 338, 113, 279, 107, 119, 280, 164, 317, 294, 182]\n",
      "\n",
      "merge stopped at 12 docs due to max tokens: 8000\n",
      "12 documents merged by MultiRetrieverCombiner\n",
      "MultiRetrieverCombiner output num tokens: 7734\n",
      "Tell me detailed information about how aircraft carriers have been used.\n",
      "The document provides detailed information about the use of aircraft carriers, including their historical significance, the development of carrier-based aircraft, and the role of carriers in naval strategy during different time periods. It covers topics such as the impact of Pearl Harbor and the Battle of Midway on naval strategy, the role of aircraft carriers and aviation at the end of World War II, the development of jet fighters, and the importance of carriers during the Korean War. Additionally, it discusses the characteristics and performance of specific carrier-based aircraft, technological developments, and the challenges and advancements in carrier operations.\n",
      "[440, 445, 443, 441, 446, 447, 448, 439, 204, 338, 231, 444, 314]\n",
      "\n",
      "14 documents merged by MultiRetrieverCombiner\n",
      "MultiRetrieverCombiner output num tokens: 7069\n",
      "What kinds of military equipment appear in movies in the project?\n",
      "The military equipment that appears in movies in the project includes CH-47 Chinooks, M1 Abrams tanks, HMMWVs, and various small arms.\n",
      "[8, 120, 198, 32, 67, 417, 83, 407, 240, 334, 96, 53, 126, 374]\n",
      "\n"
     ]
    }
   ],
   "source": [
    "bots = []\n",
    "answers = []\n",
    "for q in TEST_QUERIES:\n",
    "    rag_chatbot = RagChatbotMultiRetrieverCombiner(\n",
    "        vector_store_save_path=VECTOR_STORE_SAVE_PATH,\n",
    "        max_tokens_context=MAX_TOKENS_CONTEXT,\n",
    "        max_docs=MAX_DOCS_RETRIEVER,\n",
    "    )\n",
    "    bots.append(rag_chatbot)\n",
    "    answers.append(rag_chatbot.run_rag_chat(q))\n",
    "    print(q, answers[-1], bots[-1].get_pages(), sep=\"\\n\", end=\"\\n\\n\")\n",
    "    sleep(2)\n"
   ]
  }
 ],
 "metadata": {
  "kernelspec": {
   "display_name": "Python 3 (ipykernel)",
   "language": "python",
   "name": "python3"
  },
  "language_info": {
   "codemirror_mode": {
    "name": "ipython",
    "version": 3
   },
   "file_extension": ".py",
   "mimetype": "text/x-python",
   "name": "python",
   "nbconvert_exporter": "python",
   "pygments_lexer": "ipython3",
   "version": "3.8.3"
  }
 },
 "nbformat": 4,
 "nbformat_minor": 5
}
