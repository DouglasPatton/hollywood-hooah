{
 "cells": [
  {
   "cell_type": "code",
   "execution_count": null,
   "id": "3cf975b8-ddb6-43e6-aa1b-3bb024787f65",
   "metadata": {},
   "outputs": [],
   "source": [
    "\n",
    "from langchain.chains.combine_documents import collapse_docs, split_list_of_docs\n",
    "from langchain_openai import ChatOpenAI\n",
    "\n",
    "# from langchain.chat_models import ChatAnthropic\n",
    "from langchain.prompts import ChatPromptTemplate, PromptTemplate\n",
    "from langchain.schema import Document, StrOutputParser\n",
    "from langchain_core.prompts import format_document\n",
    "from langchain_core.runnables import RunnableParallel, RunnablePassthrough\n",
    "import json\n",
    "from random import seed,shuffle\n",
    "from time import sleep"
   ]
  },
  {
   "cell_type": "code",
   "execution_count": null,
   "id": "aa99f7b0-c12f-4970-95a3-8cb7a4f20724",
   "metadata": {},
   "outputs": [],
   "source": [
    "from ragchat.html_cleaner import HtmlCleaner\n",
    "from ragchat.html_patterns import HtmlPatterns\n"
   ]
  },
  {
   "cell_type": "code",
   "execution_count": null,
   "id": "98c76c34-274f-40aa-b836-06b071503b79",
   "metadata": {},
   "outputs": [],
   "source": [
    "cleaner = HtmlCleaner(parser=\"inscriptis\", debug=True, max_pages=None)\n",
    "clean_text_dict = cleaner.get_clean_text_dict()\n"
   ]
  },
  {
   "cell_type": "code",
   "execution_count": null,
   "id": "c73609e9-b022-458a-ae81-6720587403d5",
   "metadata": {},
   "outputs": [],
   "source": [
    "l_lens = []\n",
    "c_lens = []\n",
    "for fname in list(clean_text_dict.keys()):\n",
    "    cleaned = clean_text_dict[fname][\"cleaned\"]\n",
    "    c_lens.append((len(cleaned), fname))\n",
    "    l_lens.append((len(cleaned.splitlines()), fname))\n",
    "\n",
    "c_lens.sort()\n",
    "l_lens.sort()\n"
   ]
  },
  {
   "cell_type": "code",
   "execution_count": null,
   "id": "b33ad77d-29ad-4224-aeb8-2bd1640f0f9e",
   "metadata": {},
   "outputs": [],
   "source": [
    "idx = -1\n",
    "pg = c_lens[idx][1]\n",
    "text = clean_text_dict[pg][\"cleaned\"]\n",
    "title = clean_text_dict[pg][\"title\"]\n",
    "all_text = clean_text_dict[pg][\"all_text\"]\n"
   ]
  },
  {
   "cell_type": "code",
   "execution_count": null,
   "id": "e91b6921-82ba-4c75-9ef8-cbac98356a1f",
   "metadata": {},
   "outputs": [],
   "source": [
    "print(title, text)\n"
   ]
  },
  {
   "cell_type": "code",
   "execution_count": null,
   "id": "926f3ecb-5a18-438b-b7ef-00f0f643643f",
   "metadata": {},
   "outputs": [],
   "source": [
    "doc = Document(\n",
    "    page_content=text,\n",
    "    metadata={\"page\": pg, \"title\": title},\n",
    ")\n"
   ]
  },
  {
   "cell_type": "code",
   "execution_count": null,
   "id": "dc578344-9c61-4492-a173-abafaea7f7a0",
   "metadata": {},
   "outputs": [],
   "source": [
    "document_prompt = PromptTemplate.from_template(\"title: {title} \\n\\n\\n{page_content}\")\n",
    "partial_format_document = partial(format_document, prompt=document_prompt)\n"
   ]
  },
  {
   "cell_type": "code",
   "execution_count": null,
   "id": "bc7edf8d-9c88-48cb-98b8-6b7587bdbe8a",
   "metadata": {},
   "outputs": [],
   "source": [
    "llm = ChatOpenAI(model=\"gpt-3.5-turbo-1106\", temperature=0)\n"
   ]
  },
  {
   "cell_type": "code",
   "execution_count": null,
   "id": "ebb71876-6d3d-4940-aacf-4b27d5bdf413",
   "metadata": {},
   "outputs": [],
   "source": [
    "map_chain = (\n",
    "    {\"context\": partial_format_document}\n",
    "    | PromptTemplate.from_template(\"Summarize this content:\\n\\n{context}\")\n",
    "    # | PromptTemplate.from_template(\"Create a detailed summary of this:\\n\\n\\n\\n{context}\"\n",
    "    | llm\n",
    "    | StrOutputParser()\n",
    ")\n"
   ]
  },
  {
   "cell_type": "code",
   "execution_count": null,
   "id": "c9a9fbf9-738b-4218-aa6b-e6edf0482597",
   "metadata": {},
   "outputs": [],
   "source": [
    "map_chain.invoke(doc)\n"
   ]
  },
  {
   "cell_type": "code",
   "execution_count": null,
   "id": "b6616405-9346-4b92-9dc6-711d21e2819c",
   "metadata": {},
   "outputs": [],
   "source": [
    "map_chain2 = (\n",
    "    {\"context\": partial_format_document}\n",
    "    | PromptTemplate.from_template(\n",
    "        \"Create an extremely detailed summary of this:\\n\\n\\n\\n{context}\"\n",
    "    )\n",
    "    | llm\n",
    "    | StrOutputParser()\n",
    ")\n"
   ]
  },
  {
   "cell_type": "code",
   "execution_count": null,
   "id": "6b926e18-33ee-4687-9932-4131769067c9",
   "metadata": {},
   "outputs": [],
   "source": [
    "map_chain2.invoke(doc)  # excludes \"content\"\n"
   ]
  },
  {
   "cell_type": "code",
   "execution_count": null,
   "id": "676fd462-ff80-48a3-8f48-70701d72ec2b",
   "metadata": {},
   "outputs": [],
   "source": [
    "llm.get_num_tokens(text)\n"
   ]
  }
 ],
 "metadata": {
  "kernelspec": {
   "display_name": "Python 3 (ipykernel)",
   "language": "python",
   "name": "python3"
  },
  "language_info": {
   "codemirror_mode": {
    "name": "ipython",
    "version": 3
   },
   "file_extension": ".py",
   "mimetype": "text/x-python",
   "name": "python",
   "nbconvert_exporter": "python",
   "pygments_lexer": "ipython3",
   "version": "3.8.3"
  }
 },
 "nbformat": 4,
 "nbformat_minor": 5
}
