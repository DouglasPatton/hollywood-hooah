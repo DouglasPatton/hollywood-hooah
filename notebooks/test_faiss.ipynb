{
 "cells": [
  {
   "cell_type": "code",
   "execution_count": null,
   "id": "27c1620d-b7ae-4b93-ab7d-1b481aa16ec7",
   "metadata": {},
   "outputs": [],
   "source": [
    "%cd .."
   ]
  },
  {
   "cell_type": "code",
   "execution_count": null,
   "id": "3e427ec3-4053-4a7d-9f54-9b9efe198d00",
   "metadata": {},
   "outputs": [],
   "source": [
    "from openai import OpenAI\n",
    "import json\n",
    "from random import seed,shuffle\n",
    "from time import sleep"
   ]
  },
  {
   "cell_type": "code",
   "execution_count": null,
   "id": "9e34a632-17ff-4304-a8e7-55d4d535e3c9",
   "metadata": {},
   "outputs": [],
   "source": []
  },
  {
   "cell_type": "code",
   "execution_count": null,
   "id": "559b4407-5966-4a3c-8e42-860e69f82c47",
   "metadata": {},
   "outputs": [],
   "source": [
    "from ragchat.html_cleaner import HtmlCleaner\n",
    "from ragchat.html_patterns import HtmlPatterns\n"
   ]
  },
  {
   "cell_type": "code",
   "execution_count": null,
   "id": "9602f4f4-e89e-4d48-9ccd-40815e85d48e",
   "metadata": {},
   "outputs": [],
   "source": [
    "from langchain.embeddings.openai import OpenAIEmbeddings\n",
    "from langchain.schema import Document\n",
    "from langchain_community.vectorstores import FAISS\n"
   ]
  },
  {
   "cell_type": "code",
   "execution_count": null,
   "id": "962ce8bd-c3b0-4831-b957-bc60d04908b5",
   "metadata": {},
   "outputs": [],
   "source": [
    "cleaner = HtmlCleaner(parser=\"inscriptis\", debug=True, max_pages=10)\n",
    "clean_text_dict = cleaner.get_clean_text_dict()\n"
   ]
  },
  {
   "cell_type": "code",
   "execution_count": null,
   "id": "99005095-468f-48e4-8290-5e3b37d75ee3",
   "metadata": {},
   "outputs": [],
   "source": [
    "l_lens = []\n",
    "c_lens = []\n",
    "for fname in list(clean_text_dict.keys()):\n",
    "    cleaned = clean_text_dict[fname][\"cleaned\"]\n",
    "    c_lens.append((len(cleaned), fname))\n",
    "    l_lens.append((len(cleaned.splitlines()), fname))\n",
    "\n",
    "c_lens.sort()\n",
    "l_lens.sort()\n"
   ]
  },
  {
   "cell_type": "code",
   "execution_count": null,
   "id": "fd62dec0-9be1-4f0d-b34f-1ab398c08a37",
   "metadata": {},
   "outputs": [],
   "source": [
    "pg = c_lens[len(c_lens) // 2][1]\n",
    "text = clean_text_dict[pg][\"cleaned\"]\n",
    "title = clean_text_dict[pg][\"title\"]\n"
   ]
  },
  {
   "cell_type": "code",
   "execution_count": null,
   "id": "ef71b495-276c-4c93-a1d0-5cf087474444",
   "metadata": {},
   "outputs": [],
   "source": [
    "N = len(c_lens)\n",
    "docs = []\n",
    "for idx in range(N):\n",
    "    if N > 10:\n",
    "        break\n",
    "    pg = c_lens[idx][1]\n",
    "    text = clean_text_dict[pg][\"cleaned\"]\n",
    "    title = clean_text_dict[pg][\"title\"]\n",
    "    # all_text=clean_text_dict[pg]['all_text']\n",
    "    docs.append(\n",
    "        Document(\n",
    "            page_content=f\"Title: {title}\\n\\n\\n{text}\",\n",
    "            metadata={\"page\": pg, \"title\": title},\n",
    "        )\n",
    "    )\n"
   ]
  },
  {
   "cell_type": "code",
   "execution_count": null,
   "id": "31a4f2a5-9dac-42a3-84ee-7ff04ca26a9a",
   "metadata": {},
   "outputs": [],
   "source": [
    "embeddings = OpenAIEmbeddings(model=\"text-embedding-ada-002\")  # for after gpt3\n"
   ]
  },
  {
   "cell_type": "code",
   "execution_count": null,
   "id": "53f13e96-1015-41a4-b914-83ba6aa107a6",
   "metadata": {},
   "outputs": [],
   "source": [
    "vectorstore = FAISS.from_documents(docs, embeddings)\n"
   ]
  },
  {
   "cell_type": "code",
   "execution_count": null,
   "id": "7db39da9-57a2-48ec-a93c-44e379b058e1",
   "metadata": {},
   "outputs": [],
   "source": [
    "vectorstore.save_local(\"vector_stores/faiss_test_0\")\n"
   ]
  },
  {
   "cell_type": "code",
   "execution_count": null,
   "id": "4e47f35e-dbde-4aa4-b6e8-fe23e8e1e757",
   "metadata": {},
   "outputs": [],
   "source": [
    "doc_matches = vectorstore.similarity_search_with_score(\n",
    "    \"who is eligible for an educational license?\", k=5\n",
    ")\n",
    "len(doc_matches)\n"
   ]
  },
  {
   "cell_type": "code",
   "execution_count": null,
   "id": "3ee8bfc3-5162-4234-8d89-3f70975e5173",
   "metadata": {},
   "outputs": [],
   "source": [
    "doc_matches = vectorstore.similarity_search_with_score(\n",
    "    \"what is the latest release for Maya?\", k=150\n",
    ")\n",
    "len(doc_matches)\n"
   ]
  },
  {
   "cell_type": "code",
   "execution_count": null,
   "id": "d0a306e4-fc31-4587-bdda-9a1487168f64",
   "metadata": {},
   "outputs": [],
   "source": [
    "vs = FAISS.load_local(\"vector_stores/faiss_index_0\", embeddings)\n",
    "doc_matches = vs.similarity_search_with_score(\n",
    "    \"who is eligible for an educational license?\"\n",
    ")\n"
   ]
  },
  {
   "cell_type": "code",
   "execution_count": null,
   "id": "9ff08033-44f5-4b72-b6d6-462c1d68dd9f",
   "metadata": {},
   "outputs": [],
   "source": [
    "[d[0].metadata for d in doc_matches]\n"
   ]
  },
  {
   "cell_type": "markdown",
   "id": "3b9af32f-cfbd-4379-a2c4-fc2b47c0dced",
   "metadata": {},
   "source": [
    "## "
   ]
  }
 ],
 "metadata": {
  "kernelspec": {
   "display_name": "Python 3 (ipykernel)",
   "language": "python",
   "name": "python3"
  },
  "language_info": {
   "codemirror_mode": {
    "name": "ipython",
    "version": 3
   },
   "file_extension": ".py",
   "mimetype": "text/x-python",
   "name": "python",
   "nbconvert_exporter": "python",
   "pygments_lexer": "ipython3",
   "version": "3.8.3"
  }
 },
 "nbformat": 4,
 "nbformat_minor": 5
}
