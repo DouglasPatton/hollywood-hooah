{
 "cells": [
  {
   "cell_type": "code",
   "execution_count": null,
   "id": "3cf975b8-ddb6-43e6-aa1b-3bb024787f65",
   "metadata": {},
   "outputs": [],
   "source": [
    "# summarize documents to see how the html cleaning is doing\n",
    "\n",
    "from langchain.chains.combine_documents import collapse_docs, split_list_of_docs\n",
    "\n",
    "# from langchain.chat_models import ChatAnthropic\n",
    "from langchain.prompts import PromptTemplate\n",
    "from langchain.schema import Document, StrOutputParser\n",
    "from langchain_community.chat_models import ChatOpenAI\n",
    "from langchain_core.prompts import format_document\n",
    "from langchain_core.runnables import RunnableParallel, RunnablePassthrough\n",
    ""
   ]
  },
  {
   "cell_type": "code",
   "execution_count": null,
   "id": "4735c15e-716a-4a5a-abe8-431320caceb8",
   "metadata": {},
   "outputs": [],
   "source": [
    "import pandas as pd\n",
    ""
   ]
  },
  {
   "cell_type": "code",
   "execution_count": null,
   "id": "b3fbe11a-e9bf-436d-810a-483127bb8042",
   "metadata": {},
   "outputs": [],
   "source": [
    "from langchain.text_splitter import RecursiveCharacterTextSplitter\n",
    "from langchain_community.chat_models import ChatOpenAI\n",
    ""
   ]
  },
  {
   "cell_type": "code",
   "execution_count": null,
   "id": "aa99f7b0-c12f-4970-95a3-8cb7a4f20724",
   "metadata": {},
   "outputs": [],
   "source": [
    "from ragchat.html_cleaner import HtmlCleaner\n",
    "from ragchat.html_patterns import HtmlPatterns\n",
    "\n",
       ]
  },
  {
   "cell_type": "code",
   "execution_count": null,
   "id": "98c76c34-274f-40aa-b836-06b071503b79",
   "metadata": {},
   "outputs": [],
   "source": [
    "cleaner = HtmlCleaner(parser=\"inscriptis\", debug=True, max_pages=10)\n",
    "clean_text_dict = cleaner.get_clean_text_dict()\n",
    ""
   ]
  },
  {
   "cell_type": "code",
   "execution_count": null,
   "id": "486defbe-5d66-4404-82ab-d6afbd7a7c67",
   "metadata": {},
   "outputs": [],
   "source": [
    "llm = ChatOpenAI(model=\"gpt-3.5-turbo-1106\", temperature=0)\n",
    "text_splitter = RecursiveCharacterTextSplitter(\n",
    "    # Set a really small chunk size, just to show.\n",
    "    chunk_size=500,\n",
    "    chunk_overlap=20,\n",
    "    length_function=llm.get_num_tokens,\n",
    "    is_separator_regex=False,\n",
    ")\n",
    ""
   ]
  },
  {
   "cell_type": "code",
   "execution_count": null,
   "id": "eccba9a8-64d2-400c-b9fc-92fdb7c2e3d3",
   "metadata": {},
   "outputs": [],
   "source": [
    "for pg, text_result in clean_text_dict.items():\n",
    "    texts = text_splitter.split_text(text_result[\"cleaned\"])\n",
    "    break\n",
    ""
   ]
  },
  {
   "cell_type": "code",
   "execution_count": null,
   "id": "3b9fb6dc-2f0f-4898-9a53-5bffd524e3d4",
   "metadata": {},
   "outputs": [],
   "source": [
    "len(texts)\n",
    ""
   ]
  },
  {
   "cell_type": "code",
   "execution_count": null,
   "id": "ae7aa557-6e8a-418c-a066-5d79ab356cf9",
   "metadata": {},
   "outputs": [],
   "source": [
    "texts[0]\n",
    ""
   ]
  },
  {
   "cell_type": "code",
   "execution_count": null,
   "id": "3128e5e3-a35f-4f92-b062-201b368dd30a",
   "metadata": {},
   "outputs": [],
   "source": [
    "texts[1]\n",
    ""
   ]
  },
  {
   "cell_type": "code",
   "execution_count": null,
   "id": "e0f44db2-ed06-4f98-8559-3a3c086f2ab1",
   "metadata": {},
   "outputs": [],
   "source": []
  }
 ],
 "metadata": {
  "kernelspec": {
   "display_name": "Python 3 (ipykernel)",
   "language": "python",
   "name": "python3"
  },
  "language_info": {
   "codemirror_mode": {
    "name": "ipython",
    "version": 3
   },
   "file_extension": ".py",
   "mimetype": "text/x-python",
   "name": "python",
   "nbconvert_exporter": "python",
   "pygments_lexer": "ipython3",
   "version": "3.8.3"
  }
 },
 "nbformat": 4,
 "nbformat_minor": 5
}
