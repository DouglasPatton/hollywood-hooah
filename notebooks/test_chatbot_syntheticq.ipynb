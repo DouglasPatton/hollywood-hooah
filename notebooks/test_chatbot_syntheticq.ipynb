{
 "cells": [
  {
   "cell_type": "code",
   "execution_count": 1,
   "id": "d61c7ca2-2118-4386-b6f0-59420aac3e54",
   "metadata": {
    "editable": true,
    "slideshow": {
     "slide_type": ""
    },
    "tags": []
   },
   "outputs": [
    {
     "name": "stdout",
     "output_type": "stream",
     "text": [
      "/home/dp/hdd/gits/EncyclopediaChat\n"
     ]
    }
   ],
   "source": [
    "%cd ..\n",
    "from ragchat.chatbots import RagChatSyntheticQ\n",
    "from ragchat.configs import TEST_QUERIES, VECTOR_STORE_SAVE_PATH\n",
    "import json\n",
    "from random import seed,shuffle\n",
    "from time import sleep"
   ]
  },
  {
   "cell_type": "code",
   "execution_count": 2,
   "id": "21eafa94-cce4-4684-9d8d-e4e2daa31683",
   "metadata": {},
   "outputs": [
    {
     "data": {
      "text/plain": [
       "['On which operating systems can Moldflow Adviser run?',\n",
       " 'How can Fusion 360 help increase manufacturing throughput?',\n",
       " 'How does Smart Blocks work in AutoCAD 2024?',\n",
       " 'What are the system requirements for running FBX Review on a Mac?',\n",
       " 'Can a package license file be used for multiple releases of the same product in Autodesk software?',\n",
       " 'How does Maya Creative software support 3D modeling?',\n",
       " 'What are the features of the project management software offered by Autodesk?',\n",
       " 'How can I refer a friend to Fusion 360 and earn money?',\n",
       " 'How does the Strategic Foresight team explore future scenarios?',\n",
       " 'What is the significance of volumetric video in the future of 3D content creation?']"
      ]
     },
     "execution_count": 2,
     "metadata": {},
     "output_type": "execute_result"
    }
   ],
   "source": [
    "# try a handful of synthetic questions\n",
    "n_synth_questions = 10\n",
    "with open(\"questions/synthetic_questions.json\", \"r\") as f:\n",
    "    page_questions = json.load(f)\n",
    "questions = list(\n",
    "    dict.fromkeys([q for q_list in page_questions.values() for q in q_list])\n",
    ")\n",
    "seed(42)\n",
    "shuffle(questions)\n",
    "synthetic_test_queries = questions[:n_synth_questions]\n",
    "synthetic_test_queries\n"
   ]
  },
  {
   "cell_type": "code",
   "execution_count": 3,
   "id": "80eb4de8-5a7c-4fa7-8837-7056ff5cbbe1",
   "metadata": {
    "editable": true,
    "slideshow": {
     "slide_type": ""
    },
    "tags": []
   },
   "outputs": [
    {
     "name": "stderr",
     "output_type": "stream",
     "text": [
      "/home/dp/hdd/gits/EncyclopediaChat/env/lib/python3.8/site-packages/langchain_core/_api/deprecation.py:117: LangChainDeprecationWarning: The class `langchain_community.chat_models.openai.ChatOpenAI` was deprecated in langchain-community 0.1.0 and will be removed in 0.2.0. Use langchain_openai.ChatOpenAI instead.\n",
      "  warn_deprecated(\n",
      "/home/dp/hdd/gits/EncyclopediaChat/env/lib/python3.8/site-packages/langchain_core/_api/deprecation.py:117: LangChainDeprecationWarning: The class `langchain_community.embeddings.openai.OpenAIEmbeddings` was deprecated in langchain-community 0.1.0 and will be removed in 0.2.0. Use langchain_openai.OpenAIEmbeddings instead.\n",
      "  warn_deprecated(\n"
     ]
    },
    {
     "name": "stdout",
     "output_type": "stream",
     "text": [
      "What does Fusion 360 do?\n",
      "Fusion 360 is a platform that offers a wide range of features for 3D design and modeling, manufacturing, electronics, data management, collaboration, additive manufacturing, generative design, simulation, and documentation. It allows users to bring products to market faster and impact their bottom line through a connected product development process.\n",
      "['adsk-fee742eb8c9a40169042858fc65fdde1.html', 'adsk-814ee2ff29564b578a6c8c62f3ed1a9e.html', 'adsk-505627ba142a4e29be62f01ba9a1be21.html', 'adsk-81f1b41ab58942a7b3ccfa78b8be4978.html', 'adsk-f39a97a447964f88a9a7defbf688278f.html', 'adsk-a3327b6cbc244459be76f896dfc71e3a.html']\n",
      "\n",
      "What's the difference between AutoCAD and Revit?\n",
      "AutoCAD is computer-aided design (CAD) software used for creating precise 2D and 3D drawings, while Revit is a software for architecture, engineering, and construction that improves the way buildings, factories, and infrastructure are designed, built, and used.\n",
      "['adsk-cfc8b1365c754050a74a681bdec7e35c.html', 'adsk-67498d3ad12942d99f587f79436229e1.html', 'adsk-8762e2de57ea4a0a9e4529136a546887.html', 'adsk-a6a8e8a4a46f463a89cd8a37ee1811e2.html', 'adsk-dacf5a2fd27e4e99bd67324b57d4ee5f.html', 'adsk-9031b2ae9eff437996db41dd241588b1.html', 'adsk-e5d7c2d481e74063b36686247ea84921.html', 'adsk-ed3904a7e80c44daa95adb21e41e18d2.html', 'adsk-d023069980fb453cb9115a3388af46fb.html', 'adsk-f845e34418484540b741ab5c073c7e79.html', 'adsk-51eca25ee4ca45789e4686eff6151d7d.html', 'adsk-0d4fb631057e4ace9a531e5f4ed435db.html', 'adsk-10a591035447413c8fc0df096395ce20.html', 'adsk-eb6265bcc4ae442faebf4478d857a857.html', 'adsk-380f9f4f8ef34126bfa053bfe2d572f8.html']\n",
      "\n",
      "Does AutoCAD LT do 3d?\n",
      "Yes, AutoCAD LT does 3D modeling, design, and rendering.\n",
      "['adsk-b78963ab2b70429fa537101bc633c129.html', 'adsk-0449dbdb3cb142e0a9d03bb48c7e4aaa.html', 'adsk-eb6265bcc4ae442faebf4478d857a857.html', 'adsk-10a591035447413c8fc0df096395ce20.html', 'adsk-380f9f4f8ef34126bfa053bfe2d572f8.html', 'adsk-b79599637f2448d28c7808d85bbb4b29.html']\n",
      "\n",
      "What's the latest release for Maya?\n",
      "The latest release for Maya is 2024.2, which includes various enhancements such as Time Slider Redesign, New Graph Editor Sculpting Tools, and Mac M1 Architecture Support.\n",
      "['adsk-8cff71f7e8a844c7bacf6268b535b37b.html', 'adsk-1e68f80bcf1d4077a0c0f9a2f98c4451.html', 'adsk-679a3dd6da434f279c372c8e582b3f75.html']\n",
      "\n",
      "Can I use fusion 360 on a Mac?,\n",
      "Answer: Yes, Fusion 360 is available for use on a Mac.\n",
      "['adsk-505627ba142a4e29be62f01ba9a1be21.html', 'adsk-f39a97a447964f88a9a7defbf688278f.html', 'adsk-ec43457f4e9847cab950fbc87ba0f03f.html', 'adsk-a3327b6cbc244459be76f896dfc71e3a.html', 'adsk-fee0ad67904a42adb4bb182bb070ec05.html', 'adsk-a6d89c74c95245cbb71fae72ffbeeb8a.html', 'adsk-b0666cda6ef040fc8e6ff866f0f019f5.html']\n",
      "\n"
     ]
    }
   ],
   "source": [
    "bots = []\n",
    "answers = []\n",
    "for q in TEST_QUERIES:\n",
    "    rag_chatbot = RagChatSyntheticQ(\n",
    "        max_docs=7,\n",
    "    )\n",
    "    bots.append(rag_chatbot)\n",
    "    answers.append(rag_chatbot.run_rag_chat(q))\n",
    "    print(q, answers[-1], bots[-1].get_pages(), sep=\"\\n\", end=\"\\n\\n\")\n",
    "    sleep(3)\n"
   ]
  },
  {
   "cell_type": "code",
   "execution_count": 4,
   "id": "86b3a713-5b17-432c-8163-f61b43ef656c",
   "metadata": {
    "editable": true,
    "slideshow": {
     "slide_type": ""
    },
    "tags": []
   },
   "outputs": [
    {
     "name": "stdout",
     "output_type": "stream",
     "text": [
      "On which operating systems can Moldflow Adviser run?\n",
      "Moldflow Adviser can run on Microsoft® Windows®.\n",
      "['adsk-e70fc0266311424c9063238c3afce252.html', 'adsk-c6e5441341124eba969b12abd8bba1d9.html', 'adsk-c1a7657f5f80477c9c2b8c40bc5c9e71.html', 'adsk-d5e57376e57e407eaea8bbc9e259d51c.html']\n",
      "\n",
      "How can Fusion 360 help increase manufacturing throughput?\n",
      "Fusion 360 can help increase manufacturing throughput by quickly converting best practices into templates that can be shared across a team, making better use of people, tooling, and machines. It also provides automation, collaboration, and software interoperability to reduce non-value add processes from design inception through production. Additionally, Fusion 360 incorporates Design for Manufacturing (DFM) principles into the design process, reducing errors, production time, and costs.\n",
      "['adsk-f39a97a447964f88a9a7defbf688278f.html', 'adsk-3d042d9f07ee4dd5aa4755c654f9f920.html', 'adsk-492a9bfd67314eea8d874a9dbeac29f0.html', 'adsk-df8e01fe04834d839e11ed48ed40ca18.html', 'adsk-2b1767cda3c14a849525056956797921.html']\n",
      "\n",
      "How does Smart Blocks work in AutoCAD 2024?\n",
      "Smart Blocks in AutoCAD 2024 work by allowing users to create and customize reusable content, such as blocks, to streamline their workflows and automate common tasks. This feature helps to improve productivity and efficiency in drafting and design processes.\n",
      "['adsk-34e71ffdff08466789e39e0e0712e678.html', 'adsk-10a591035447413c8fc0df096395ce20.html', 'adsk-eb6265bcc4ae442faebf4478d857a857.html', 'adsk-4556fd0940e34655ace4d3a3747116cf.html', 'adsk-d21aef7f108341988ee9150ea6058cf5.html', 'adsk-c45e295e31df4711a268a401c2092dba.html']\n",
      "\n",
      "What are the system requirements for running FBX Review on a Mac?\n",
      "The system requirements for running FBX Review on a Mac are not provided in the given document.\n",
      "['adsk-fc932c6b2ca54747a12740f1d3e48a90.html', 'adsk-eaa2bef626684515926caf52403ca042.html', 'adsk-153244e3aef54acd9aa992b3598fdccf.html', 'adsk-fee0ad67904a42adb4bb182bb070ec05.html', 'adsk-a6d89c74c95245cbb71fae72ffbeeb8a.html', 'adsk-505627ba142a4e29be62f01ba9a1be21.html', 'adsk-4d7c1de4b68744449141dd51c0065a07.html']\n",
      "\n",
      "Can a package license file be used for multiple releases of the same product in Autodesk software?\n",
      "Yes, a package license file can be used for multiple releases of the same product in Autodesk software.\n",
      "['adsk-1e21fb130b8346fca82a5f6297d5ee23.html', 'adsk-0f7179f7c5eb451da74dd9cdb79bee5a.html', 'adsk-cfc8b1365c754050a74a681bdec7e35c.html', 'adsk-67498d3ad12942d99f587f79436229e1.html', 'adsk-8762e2de57ea4a0a9e4529136a546887.html', 'adsk-0d4fb631057e4ace9a531e5f4ed435db.html', 'adsk-a6a8e8a4a46f463a89cd8a37ee1811e2.html', 'adsk-dacf5a2fd27e4e99bd67324b57d4ee5f.html', 'adsk-9031b2ae9eff437996db41dd241588b1.html', 'adsk-e5d7c2d481e74063b36686247ea84921.html', 'adsk-ed3904a7e80c44daa95adb21e41e18d2.html', 'adsk-2f95d381740245dd9a003327cb5e23a3.html']\n",
      "\n",
      "How does Maya Creative software support 3D modeling?\n",
      "Maya Creative software supports 3D modeling by providing tools for creating complex characters, props, and worlds, including sculpting tools, NURBS modeling, polygon modeling, and OpenSubdiv support.\n",
      "['adsk-5875eaeb1b5a49abb6f001fe929870a6.html', 'adsk-5270a4e8ead14478aa715a2f97136d9b.html', 'adsk-9a85e5c6b5114a2388d4d60f9092c696.html', 'adsk-e9395fa1d5634f889818a8bd3850538d.html', 'adsk-0b1e6f641b8d4014a2a3330cfaed53e0.html']\n",
      "\n",
      "What are the features of the project management software offered by Autodesk?\n",
      "The features of the project management software offered by Autodesk include:\n",
      "- Easy-to-use project management software\n",
      "- Organize & collaborate on drawings, models and documents in the cloud\n",
      "- Streamline Submittals, RFIs, Schedules & Meetings\n",
      "- Create, track, and resolve issues faster\n",
      "- Access all project information anytime, anywhere, even offline\n",
      "['adsk-6c9603187c67405183e3e1ce7ab104d3.html', 'adsk-7c37fbc027b2482ba89b24028bc7e4c5.html', 'adsk-cbb377573c1144af87a7132542bb6e39.html', 'adsk-c592e1a29a224987a5270571417d69f3.html', 'adsk-b673c8733bab4277a9bdc7d079d07361.html', 'adsk-206947f22e804206b7d4978d1bec1799.html', 'adsk-8dc1ffb48f944380a19d9c429ea42dbe.html']\n",
      "\n",
      "How can I refer a friend to Fusion 360 and earn money?\n",
      "Answer: You can earn money by referring a friend to Fusion 360 who subscribes to an annual subscription. You can earn $50 and give $50 to every friend you refer to Fusion 360.\n",
      "['adsk-a3327b6cbc244459be76f896dfc71e3a.html', 'adsk-bf520b2a98424e71b24110ab1230ab39.html', 'adsk-e269890e0dfc4d339fceb8e76cb6507d.html', 'adsk-505627ba142a4e29be62f01ba9a1be21.html', 'adsk-ec43457f4e9847cab950fbc87ba0f03f.html', 'adsk-4d7c1de4b68744449141dd51c0065a07.html', 'adsk-814ee2ff29564b578a6c8c62f3ed1a9e.html']\n",
      "\n",
      "How does the Strategic Foresight team explore future scenarios?\n",
      "The Strategic Foresight team explores future scenarios in a STEEP (Social, Technological, Economic, Environmental, and Political) framework to identify drivers of emerging themes and patterns, and how those will impact the company, customers, and customers’ customers.\n",
      "['adsk-8ead6d6dd56f42cdbdc1eeb2b0f0f58e.html', 'adsk-985f9a6c97a541548861338cf94cc4d4.html', 'adsk-6effc05d248d4427a5ae57566f63964d.html']\n",
      "\n",
      "What is the significance of volumetric video in the future of 3D content creation?\n",
      "Volumetric video is significant in the future of 3D content creation as it will accelerate the creation of 3D content. Autodesk has invested in Series A funding for Arcturus, a volumetric video company, which indicates the importance of this technology in advancing the capabilities of 3D content creation.\n",
      "['adsk-9fce8b58ca2d47c39f1a8979276a0a55.html', 'adsk-606ecba32b9b46c090392148a6d9784b.html', 'adsk-9d62b8985ddf44baa34e03495eea8e46.html', 'adsk-bede6b2166f04bfea9c7668cb963a92d.html', 'adsk-29697a5ba1be4ce88b88dbd4f44155a5.html', 'adsk-d37b6327bbb44df8aa60221a28e706e3.html']\n",
      "\n"
     ]
    }
   ],
   "source": [
    "bots = []\n",
    "answers = []\n",
    "for q in synthetic_test_queries:\n",
    "    rag_chatbot = RagChatSyntheticQ(\n",
    "        max_docs=7,\n",
    "    )\n",
    "    bots.append(rag_chatbot)\n",
    "    answers.append(rag_chatbot.run_rag_chat(q))\n",
    "    print(q, answers[-1], bots[-1].get_pages(), sep=\"\\n\", end=\"\\n\\n\")\n",
    "    sleep(3)\n"
   ]
  },
  {
   "cell_type": "markdown",
   "id": "6d1333cf-2d8d-41fb-99cc-7282a56a1407",
   "metadata": {},
   "source": [
    "# "
   ]
  }
 ],
 "metadata": {
  "kernelspec": {
   "display_name": "Python 3 (ipykernel)",
   "language": "python",
   "name": "python3"
  },
  "language_info": {
   "codemirror_mode": {
    "name": "ipython",
    "version": 3
   },
   "file_extension": ".py",
   "mimetype": "text/x-python",
   "name": "python",
   "nbconvert_exporter": "python",
   "pygments_lexer": "ipython3",
   "version": "3.8.3"
  }
 },
 "nbformat": 4,
 "nbformat_minor": 5
}
