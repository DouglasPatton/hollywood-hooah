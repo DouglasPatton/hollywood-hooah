{
 "cells": [
  {
   "cell_type": "code",
   "execution_count": 1,
   "id": "d61c7ca2-2118-4386-b6f0-59420aac3e54",
   "metadata": {
    "editable": true,
    "slideshow": {
     "slide_type": ""
    },
    "tags": []
   },
   "outputs": [
    {
     "name": "stdout",
     "output_type": "stream",
     "text": [
      "/home/dp/hdd/gits/hollywood-hooah\n"
     ]
    }
   ],
   "source": [
    "%cd ..\n",
    "from ragchat.doc_store import DocStore\n",
    "from ragchat.chatbots import RagChatSyntheticQ\n",
    "from ragchat.configs import TEST_QUERIES,VECTOR_STORE_SAVE_PATH, DB_NAME, COLLECTION_NAME, Q_DB_NAME, Q_COLLECTION_NAME\n",
    "import json\n",
    "from random import seed,shuffle\n",
    "from time import sleep"
   ]
  },
  {
   "cell_type": "code",
   "execution_count": 2,
   "id": "21eafa94-cce4-4684-9d8d-e4e2daa31683",
   "metadata": {},
   "outputs": [
    {
     "data": {
      "text/plain": [
       "['What specific requests have entertainment companies made to the armed forces for support in their projects?',\n",
       " 'How has the entertainment industry collaborated with the armed forces in the production of films and video games?',\n",
       " \"What are the goals and objectives of the US Army's Entertainment Liaison Office in facilitating collaborations with entertainment companies for documentary and TV show productions?\",\n",
       " 'In what ways has the US Navy collaborated with entertainment productions such as \"Jack Ryan\" and \"Drain the Oceans\" to accurately depict naval history and operations?',\n",
       " 'How has the US Army collaborated with entertainment production companies to portray the experiences of soldiers and veterans in documentaries and feature films?',\n",
       " 'In what ways has the US Army worked with filmmakers to ensure authenticity and accuracy in the portrayal of military experiences in entertainment media?',\n",
       " 'What impact has sequestration had on the production of entertainment content related to the US Navy?',\n",
       " \"What types of support and approval processes are involved in the US Army's collaboration with entertainment industry projects related to military themes?\",\n",
       " 'What impact does featuring naval history and heritage on popular TV shows like \"American Pickers\" and \"Cake Boss\" have on public perception and awareness of the armed forces?',\n",
       " 'How has the entertainment industry helped to communicate the mission of the US Navy to the public?',\n",
       " 'What is the impact of military-themed documentaries and TV shows on public perception and understanding of the armed forces?',\n",
       " 'How does the entertainment industry work with the US Navy to showcase the daily lives and morale of sailors, as seen in the episode of \"Curiosity: with Jeff Goldblum\" featuring an ice cream social aboard a ship?',\n",
       " 'In what ways does the US Army support and participate in the production of documentaries and TV shows that focus on historical events such as 9/11 and military working dogs?',\n",
       " 'How has the armed forces responded to requests for support from the entertainment industry, and what criteria do they use to evaluate these requests?',\n",
       " 'In what ways has the US Navy collaborated with the entertainment industry to produce content related to historical events such as the Pearl Harbor attack?']"
      ]
     },
     "execution_count": 2,
     "metadata": {},
     "output_type": "execute_result"
    }
   ],
   "source": [
    "n=15\n",
    "q_ds = DocStore(db_name=Q_DB_NAME, collection_name=Q_COLLECTION_NAME,)\n",
    "retrieved_synthetic_test_queries = [q for record in q_ds.retrieve_random(n=n*5) for q in record['questions']]\n",
    "seed(42)\n",
    "shuffle(retrieved_synthetic_test_queries)\n",
    "synthetic_test_queries=retrieved_synthetic_test_queries[:n]\n",
    "synthetic_test_queries"
   ]
  },
  {
   "cell_type": "code",
   "execution_count": 3,
   "id": "86b3a713-5b17-432c-8163-f61b43ef656c",
   "metadata": {
    "editable": true,
    "slideshow": {
     "slide_type": ""
    },
    "tags": []
   },
   "outputs": [
    {
     "name": "stdout",
     "output_type": "stream",
     "text": [
      "Question: What specific requests have entertainment companies made to the armed forces for support in their projects?\n",
      "Answer: Entertainment companies have made specific requests to the armed forces for support in their projects, including using military bases as filming locations, incorporating military elements in video games and TV shows, obtaining access to military equipment and facilities for research and filming, and even requesting to embed with military units for a more authentic portrayal of military operations. These requests range from using military symbols and stock footage to more involved interactions such as interviews with military officials and visits to military bases. Additionally, there have been requests for specific aircraft and military personnel to be featured in films and TV shows. Overall, entertainment companies seek various forms of support and collaboration from the armed forces to enhance the authenticity and realism of their projects.\n",
      "Sources: [['USAF-ELO-WeeklyReports-2005-2006.pdf', 10], ['USAF_Entertainment_Weekly_Reports_2006-06.pdf', 13], ['USAF_Entertainment_Weekly_Reports_2006-06.pdf', 10], ['ArmyEntertainmentReports_2005-06.pdf', 295], ['USArmy-ELO-weeklyreports2005-6.pdf', 290], ['USMC-ELOreports-2008to2015.pdf', 1407], ['USAF_Entertainment_Weekly_Reports_2006-06.pdf', 173], ['ArmyEntertainmentReports_2005-06.pdf', 410]]\n",
      "\n",
      "Question: How has the entertainment industry collaborated with the armed forces in the production of films and video games?\n",
      "Answer: The entertainment industry has collaborated with the armed forces in the production of films and video games in several ways. This includes seeking alternative locations for filming due to natural disasters, incorporating futuristic AF elements in video games, filming at military bases, and requesting AF support in the form of using AF symbols, photos, stock footage of aircraft, and research visits to military units. Additionally, the entertainment industry has developed Air Force characters and received official support from the Coast Guard for a feature film. They have also sought advisory support, coordinated with Marine Corps installations for additional showings, surprised returning Marines and their families with special events, and requested minimal support for filming at military bases. Collaboration has also involved working on projects such as \"Marine K-9\" for the Military Channel and a video game called \"Marine\" in collaboration with the Marine Corps. The entertainment industry has also sought official support and approval for filming locations, incorporated military elements into their productions, and requested support and resources for the production of video games and movies. This collaboration has included filming at military bases, featuring military personnel as characters, and seeking support and approval from military officials for their projects. Additionally, the entertainment industry has sought production assistance agreements for the use of military PSAs, equipment, and personnel in TV shows and video games. Overall, the collaboration between the entertainment industry and the armed forces in the production of films and video games has been extensive and multifaceted.\n",
      "Sources: [['USAF-ELO-WeeklyReports-2005-2006.pdf', 10], ['USMC-ELOreports-2008to2015.pdf', 163], ['USMC-ELOreports-2008to2015.pdf', 1133], ['USAF_Entertainment_Weekly_Reports_2006-06.pdf', 13], ['USMC-ELOreports-2008to2015.pdf', 1022], ['USAF-ELO-WeeklyReports-2005-2006.pdf', 126], ['USMC-ELOreports-2008to2015.pdf', 75]]\n",
      "\n",
      "Question: What are the goals and objectives of the US Army's Entertainment Liaison Office in facilitating collaborations with entertainment companies for documentary and TV show productions?\n",
      "Answer: The goals and objectives of the US Army's Entertainment Liaison Office in facilitating collaborations with entertainment companies for documentary and TV show productions include supporting building resiliency, maintaining combat edge, and public education benefits. They also aim to explore the history and realities of Military Working Dogs, examine the repercussions of 9/11, and showcase the work done at Rock Island Arsenal. Additionally, they seek to highlight the power of peace and commonalities between individuals from different corners of the globe.\n",
      "Sources: [['USArmy-EntertainmentLiaisonOffice-2010to2015reports.pdf', 723], ['USArmy-EntertainmentLiaisonOffice-2010to2015reports.pdf', 632], ['USArmy-EntertainmentLiaisonOffice-2010to2015reports.pdf', 390], ['USArmy-EntertainmentLiaisonOffice-2010to2015reports.pdf', 523], ['USArmy-EntertainmentLiaisonOffice-2010to2015reports.pdf', 850], ['USArmy-EntertainmentLiaisonOffice-2010to2015reports.pdf', 231], ['USArmy-EntertainmentLiaisonOffice-2010to2015reports.pdf', 599], ['USArmy-EntertainmentLiaisonOffice-2010to2015reports.pdf', 847], ['USArmy-EntertainmentLiaisonOffice-2010to2015reports.pdf', 646]]\n",
      "\n",
      "Question: In what ways has the US Navy collaborated with entertainment productions such as \"Jack Ryan\" and \"Drain the Oceans\" to accurately depict naval history and operations?\n",
      "Answer: The US Navy has collaborated with entertainment productions such as \"Jack Ryan\" and \"Drain the Oceans\" by coordinating filming with C3F, AIRPAC, and SURFPAC for \"Jack Ryan\" and providing historic ship Nautilus and the Submarine Force Museum for \"Drain the Oceans.\" These collaborations aim to accurately depict naval history and operations. Additionally, the Navy has discussed Atlantic submarine warfare during World War I with US Naval history experts for \"Drain the Oceans\" and has coordinated filming with various naval commands and experts, featured historic ships and museums, and included interviews with naval historians and field data collected by naval teams for both productions. This collaboration ensures that the portrayal of naval history and operations in these entertainment productions is accurate and authentic.\n",
      "Sources: [['Navy ELO Reports 2017-2021.pdf', 158], ['Navy ELO Reports 2017-2021.pdf', 63], ['Navy ELO Reports 2017-2021.pdf', 181], ['Navy ELO Reports 2017-2021.pdf', 201], ['US Navy ELO reports 2012-2017.pdf', 589], ['US Navy ELO reports 2012-2017.pdf', 477], ['US Navy ELO reports 2012-2017.pdf', 679], ['US Navy ELO reports 2012-2017.pdf', 374]]\n",
      "\n",
      "Question: How has the US Army collaborated with entertainment production companies to portray the experiences of soldiers and veterans in documentaries and feature films?\n",
      "Answer: The US Army has collaborated with entertainment production companies to portray the experiences of soldiers and veterans in documentaries and feature films by providing support and approval for various projects in different stages of production, such as preproduction, production, and postproduction. This includes providing official requests, conditional support, and hosting lead actors, producers, and writers at US Army facilities. Additionally, the Army has reviewed scripts, provided comments, and made recommendations for rough cuts of documentaries and feature films. They have also provided access to soldiers and military installations for filming, coordinated with production companies on the content and production process, and reviewed rough cuts of the documentaries and TV series. Additionally, the Army has worked with award-winning producers to create shows that follow soldiers from the combat zone through their transition back to civilian life, as well as coordinating with the leadership in Afghanistan to find candidates to participate in upcoming series. They have also sought to inform the audience about the unseen and misunderstood wounds of war and highlight programs that assist warriors in their efforts to transition back to civilian life.\n",
      "Sources: [['USArmy-EntertainmentLiaisonOffice-2010to2015reports.pdf', 1128], ['USArmy-EntertainmentLiaisonOffice-2010to2015reports.pdf', 1246], ['USArmy-EntertainmentLiaisonOffice-2010to2015reports.pdf', 368], ['USArmy-EntertainmentLiaisonOffice-2010to2015reports.pdf', 440], ['USArmy-ELO-weeklyreports2005-6.pdf', 351], ['USArmy-EntertainmentLiaisonOffice-2010to2015reports.pdf', 1348], ['USArmy-EntertainmentLiaisonOffice-2010to2015reports.pdf', 1361]]\n",
      "\n",
      "Question: In what ways has the US Army worked with filmmakers to ensure authenticity and accuracy in the portrayal of military experiences in entertainment media?\n",
      "Answer: The US Army has worked with filmmakers in several ways to ensure authenticity and accuracy in the portrayal of military experiences in entertainment media. This includes providing support for documentaries and feature films, reviewing scripts and providing comments, coordinating with military bases for filming, and giving conditional support for projects related to military experiences in entertainment media. The Army has also allowed filmmakers to shadow soldiers, provided access to military installations, and collaborated with production companies to ensure accuracy and authenticity in the portrayal of military experiences. Additionally, they have coordinated screenings of films that portray military personnel and operations in a positive light and provided script notes and revisions to filmmakers to ensure accurate and positive portrayals of military personnel and operations in entertainment media.\n",
      "Sources: [['USArmy-EntertainmentLiaisonOffice-2010to2015reports.pdf', 1128], ['USArmy-EntertainmentLiaisonOffice-2010to2015reports.pdf', 458], ['USArmy-EntertainmentLiaisonOffice-2010to2015reports.pdf', 480], ['USArmy-EntertainmentLiaisonOffice-2010to2015reports.pdf', 1121], ['USArmy-EntertainmentLiaisonOffice-2010to2015reports.pdf', 1215], ['USArmy-EntertainmentLiaisonOffice-2010to2015reports.pdf', 1170], ['USArmy-EntertainmentLiaisonOffice-2010to2015reports.pdf', 373]]\n",
      "\n",
      "Question: What impact has sequestration had on the production of entertainment content related to the US Navy?\n",
      "Answer: Sequestration has impacted the production of entertainment content related to the US Navy, as indicated by the cancellation of CPJ due to the impacts of sequestration. This suggests that budget cuts and financial constraints resulting from sequestration have affected the ability to produce entertainment content specifically related to the US Navy.\n",
      "Sources: [['US Navy ELO reports 2012-2017.pdf', 35], ['US Navy ELO reports 2012-2017.pdf', 41], ['US Navy ELO reports 2012-2017.pdf', 526], ['US Navy ELO reports 2012-2017.pdf', 708], ['US Navy ELO reports 2012-2017.pdf', 564], ['US Navy ELO reports 2012-2017.pdf', 24], ['US Navy ELO reports 2012-2017.pdf', 600], ['US Navy ELO reports 2012-2017.pdf', 595]]\n",
      "\n",
      "Question: What types of support and approval processes are involved in the US Army's collaboration with entertainment industry projects related to military themes?\n",
      "Answer: The types of support and approval processes involved in the US Army's collaboration with entertainment industry projects related to military themes include fully executed Production Assistance Agreements (PAAs), official requests, conditional support letters, script reviews, coordination between military organizations, and rough cut viewings with recommendations. Additionally, there is involvement from specific military programs and managers to support the projects when the time comes. This formalizes the arrangements and ensures that the projects meet the criteria for Department of the Army and Department of Defense support.\n",
      "Sources: [['USArmy-EntertainmentLiaisonOffice-2010to2015reports.pdf', 1128], ['USArmy-EntertainmentLiaisonOffice-2010to2015reports.pdf', 1117], ['USArmy-EntertainmentLiaisonOffice-2010to2015reports.pdf', 1223], ['US-Army-ELO-Reports-2017-2018.pdf', 94], ['USArmy-EntertainmentLiaisonOffice-2010to2015reports.pdf', 1029], ['USArmy-ELO-weeklyreports2005-6.pdf', 102], ['USArmy-EntertainmentLiaisonOffice-2010to2015reports.pdf', 29]]\n",
      "\n",
      "Question: What impact does featuring naval history and heritage on popular TV shows like \"American Pickers\" and \"Cake Boss\" have on public perception and awareness of the armed forces?\n",
      "Answer: The document does not provide information on the impact of featuring naval history and heritage on popular TV shows like \"American Pickers\" and \"Cake Boss\" on public perception and awareness of the armed forces.\n",
      "Sources: [['Navy ELO Reports 2017-2021.pdf', 158], ['Navy ELO Reports 2017-2021.pdf', 32], ['Navy ELO Reports 2017-2021.pdf', 56], ['Navy ELO Reports 2017-2021.pdf', 54], ['Navy ELO Reports 2017-2021.pdf', 7], ['Navy ELO Reports 2017-2021.pdf', 35]]\n",
      "\n",
      "Question: How has the entertainment industry helped to communicate the mission of the US Navy to the public?\n",
      "Answer: The entertainment industry has helped to communicate the mission of the US Navy to the public by airing episodes of \"Mighty Ships\" and \"Mighty Planes\" on television channels such as the Smithsonian Channel and NATGEO. Additionally, there are plans for a documentary about the historical account of the Pearl Harbor attacks, which will further contribute to the public understanding of the Navy's history and mission. This exposure through entertainment media allows the public to gain insight into the Navy's operations, technology, and the dedication of its personnel, ultimately increasing public awareness and appreciation for naval operations.\n",
      "Sources: [['US Navy ELO reports 2012-2017.pdf', 35], ['US Navy ELO reports 2012-2017.pdf', 580], ['Navy ELO Reports 2017-2021.pdf', 298], ['US Navy ELO reports 2012-2017.pdf', 90], ['US Navy ELO reports 2012-2017.pdf', 108], ['US Navy ELO reports 2012-2017.pdf', 524], ['US Navy ELO reports 2012-2017.pdf', 88]]\n",
      "\n",
      "Question: What is the impact of military-themed documentaries and TV shows on public perception and understanding of the armed forces?\n",
      "Answer: The impact of military-themed documentaries and TV shows on public perception and understanding of the armed forces is significant. These shows and documentaries reach millions of viewers and can support building resiliency and maintaining the combat edge of the military. They showcase the importance of military working dogs, explore the repercussions of significant events like 9/11, and highlight the work and traditions of the armed forces. Additionally, they emphasize the power of peace and the common experiences and struggles of individuals from different corners of the globe. Overall, military-themed documentaries and TV shows contribute to shaping public perception and understanding of the armed forces by providing insight into the dedication, challenges, and contributions of service men and women across different branches of the military. They also highlight the historical significance of military events and the impact of war on individuals, ultimately offering a more comprehensive view of the armed forces to the public.\n",
      "Sources: [['USArmy-EntertainmentLiaisonOffice-2010to2015reports.pdf', 723], ['Navy ELO Reports 2017-2021.pdf', 223], ['USMC-ELOreports-2008to2015.pdf', 1234], ['USArmy-EntertainmentLiaisonOffice-2010to2015reports.pdf', 897], ['USArmy-EntertainmentLiaisonOffice-2010to2015reports.pdf', 693], ['USMC-ELOreports-2008to2015.pdf', 887]]\n",
      "\n",
      "Question: How does the entertainment industry work with the US Navy to showcase the daily lives and morale of sailors, as seen in the episode of \"Curiosity: with Jeff Goldblum\" featuring an ice cream social aboard a ship?\n",
      "Answer: The entertainment industry works with the US Navy to showcase the daily lives and morale of sailors by featuring episodes like \"Curiosity: with Jeff Goldblum\" where the host participates in an ice cream social aboard a ship and interviews the Ship CO to discuss mission/OPS and why ice cream is a morale booster for Sailors. This collaboration allows for an inside look at the daily lives of sailors and the morale-boosting activities that are important to their well-being.\n",
      "Sources: [['Navy ELO Reports 2017-2021.pdf', 158], ['Navy ELO Reports 2017-2021.pdf', 134], ['US Navy ELO reports 2012-2017.pdf', 453], ['US Navy ELO reports 2012-2017.pdf', 376], ['US Navy ELO reports 2012-2017.pdf', 184], ['Navy ELO Reports 2017-2021.pdf', 66], ['US Navy ELO reports 2012-2017.pdf', 266]]\n",
      "\n",
      "Question: In what ways does the US Army support and participate in the production of documentaries and TV shows that focus on historical events such as 9/11 and military working dogs?\n",
      "Answer: The US Army supports and participates in the production of documentaries and TV shows that focus on historical events such as 9/11 and military working dogs by providing access to coalition military personnel and operations, evaluating the requests for topical nature versus public education benefits, and coordinating with relevant military units and personnel for filming and interviews. Additionally, the Army provides conditional support for the preproduction of a documentary called \"Dogs of War\" that explores the relationship and partnership between military working dogs and soldiers. This support includes granting requests to film interviews and footage at various Army locations, providing access to Army personnel and equipment, and collaborating with production companies to create content related to Army history and operations.\n",
      "Sources: [['USArmy-EntertainmentLiaisonOffice-2010to2015reports.pdf', 723], ['USArmy-ELO-weeklyreports2004-5.pdf', 161], ['USArmy-ELO-weeklyreports2004-5.pdf', 145], ['US-Army-ELO-Reports-2017-2018.pdf', 5], ['USArmy-EntertainmentLiaisonOffice-2010to2015reports.pdf', 1272], ['USArmy-EntertainmentLiaisonOffice-2010to2015reports.pdf', 153], ['USArmy-EntertainmentLiaisonOffice-2010to2015reports.pdf', 972]]\n",
      "\n",
      "Question: How has the armed forces responded to requests for support from the entertainment industry, and what criteria do they use to evaluate these requests?\n",
      "Answer: The armed forces have responded to requests for support from the entertainment industry by evaluating the impact on base operations and considering the level of support requested, such as the use of symbols, photos, and stock footage of aircraft. They also consider the potential benefits of media opportunities and research visits to military units. The criteria used to evaluate these requests include the potential impact on base operations, the level of support requested, and the potential benefits to the armed forces.\n",
      "Sources: [['USAF-ELO-WeeklyReports-2005-2006.pdf', 10], ['ArmyEntertainmentReports_2005-06.pdf', 66], ['USMC-ELOreports-2008to2015.pdf', 844], ['USMC-ELOreports-2008to2015.pdf', 151], ['USMC-ELOreports-2008to2015.pdf', 939], ['USMC-ELOreports-2008to2015.pdf', 813], ['DOD-Entertainment-Weekly-Full-Release.pdf', 53]]\n",
      "\n",
      "Question: In what ways has the US Navy collaborated with the entertainment industry to produce content related to historical events such as the Pearl Harbor attack?\n",
      "Answer: The US Navy has collaborated with the entertainment industry to produce content related to historical events such as the Pearl Harbor attack by providing vans for an Italian documentary about the historical account of the attack and scheduling filming at various historical sites in Navy Region Hawaii and Wheeler Army Airfield. Additionally, they have coordinated with production companies for a documentary about the 75th Pearl Harbor Anniversary weekend and have been involved in coordinating with production companies for a docu-series proposal. This collaboration includes coordinating assistance for archival footage, interviews, and b-roll footage, as well as obtaining necessary approvals and support from Navy personnel.\n",
      "Sources: [['US Navy ELO reports 2012-2017.pdf', 35], ['US Navy ELO reports 2012-2017.pdf', 696], ['US Navy ELO reports 2012-2017.pdf', 684], ['US Navy ELO reports 2012-2017.pdf', 440], ['US Navy ELO reports 2012-2017.pdf', 659], ['US Navy ELO reports 2012-2017.pdf', 417], ['US Navy ELO reports 2012-2017.pdf', 654]]\n",
      "\n"
     ]
    }
   ],
   "source": [
    "src_keys=['file_name','page_number']\n",
    "bots = []\n",
    "answers = []\n",
    "for q in synthetic_test_queries:\n",
    "    rag_chatbot = RagChatSyntheticQ(\n",
    "        max_docs=7,\n",
    "    )\n",
    "    bots.append(rag_chatbot)\n",
    "    answers.append(rag_chatbot.run_rag_chat(q))\n",
    "    print(f\"Question: {q}\", f\"Answer: {answers[-1]}\", f\"Sources: {[[src_dict[k] for k in src_keys] for src_dict in bots[-1].get_sources()]}\", sep=\"\\n\", end=\"\\n\\n\")\n",
    "    sleep(3)\n"
   ]
  },
  {
   "cell_type": "markdown",
   "id": "6d1333cf-2d8d-41fb-99cc-7282a56a1407",
   "metadata": {},
   "source": [
    "# "
   ]
  }
 ],
 "metadata": {
  "kernelspec": {
   "display_name": "Python 3 (ipykernel)",
   "language": "python",
   "name": "python3"
  },
  "language_info": {
   "codemirror_mode": {
    "name": "ipython",
    "version": 3
   },
   "file_extension": ".py",
   "mimetype": "text/x-python",
   "name": "python",
   "nbconvert_exporter": "python",
   "pygments_lexer": "ipython3",
   "version": "3.8.3"
  }
 },
 "nbformat": 4,
 "nbformat_minor": 5
}
