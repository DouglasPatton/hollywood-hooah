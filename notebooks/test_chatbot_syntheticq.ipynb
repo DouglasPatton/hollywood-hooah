{
 "cells": [
  {
   "cell_type": "code",
   "execution_count": 1,
   "id": "d61c7ca2-2118-4386-b6f0-59420aac3e54",
   "metadata": {
    "editable": true,
    "slideshow": {
     "slide_type": ""
    },
    "tags": []
   },
   "outputs": [
    {
     "name": "stdout",
     "output_type": "stream",
     "text": [
      "/home/dp/hdd/gits/hollywood-hooah\n"
     ]
    }
   ],
   "source": [
    "%cd ..\n",
    "from ragchat.doc_store import DocStore\n",
    "from ragchat.chatbots import RagChatSyntheticQ\n",
    "from ragchat.configs import TEST_QUERIES,VECTOR_STORE_SAVE_PATH, DB_NAME, COLLECTION_NAME, Q_DB_NAME, Q_COLLECTION_NAME\n",
    "import json\n",
    "from random import seed,shuffle\n",
    "from time import sleep"
   ]
  },
  {
   "cell_type": "code",
   "execution_count": 2,
   "id": "21eafa94-cce4-4684-9d8d-e4e2daa31683",
   "metadata": {},
   "outputs": [
    {
     "data": {
      "text/plain": [
       "['How has the US Navy collaborated with the entertainment industry in the past, and what were the outcomes of these collaborations?',\n",
       " 'What are the ethical considerations and potential impact of Marines attending the GI FILM Festival in uniform as discussed in the \"Blood We Shed\" documentary?',\n",
       " 'What are the specific details of the Marine Corps\\' involvement in the production of \"Iron Man 2,\" \"Battle: Los Angeles,\" \"Warrior,\" and \"Avatar\"?',\n",
       " 'How do these collaborations benefit both the entertainment industry and the armed forces in terms of public relations and outreach?',\n",
       " 'How has the Marine Corps collaborated with entertainment media production entities and individual filmmakers to provide support for their projects?',\n",
       " 'What specific film or TV series projects have involved the US Navy and what were the locations and details of these collaborations?',\n",
       " 'How have high-profile individuals from the entertainment industry, such as Jesse Ehrman and Brad Saunders, engaged with the US Navy, and what were the purposes of their visits?',\n",
       " 'How does the entertainment industry collaborate with the armed forces to create documentaries and TV shows featuring military personnel?',\n",
       " 'How does the portrayal of the military in documentaries like \"Superpowers\" contribute to the perception of the US as a \"superpower\"?',\n",
       " \"What are the potential impacts of entertainment industry collaborations on the US Navy's public image and recruitment efforts?\"]"
      ]
     },
     "execution_count": 2,
     "metadata": {},
     "output_type": "execute_result"
    }
   ],
   "source": [
    "n=10\n",
    "q_ds = DocStore(db_name=Q_DB_NAME, collection_name=Q_COLLECTION_NAME,)\n",
    "retrieved_synthetic_test_queries = [q for record in q_ds.retrieve_random(n=n*5) for q in record['questions']]\n",
    "seed(42)\n",
    "shuffle(retrieved_synthetic_test_queries)\n",
    "synthetic_test_queries=retrieved_synthetic_test_queries[:n]\n",
    "synthetic_test_queries"
   ]
  },
  {
   "cell_type": "code",
   "execution_count": 3,
   "id": "80eb4de8-5a7c-4fa7-8837-7056ff5cbbe1",
   "metadata": {
    "editable": true,
    "slideshow": {
     "slide_type": ""
    },
    "tags": []
   },
   "outputs": [
    {
     "ename": "NameError",
     "evalue": "name 'KEYS' is not defined",
     "output_type": "error",
     "traceback": [
      "\u001b[0;31m---------------------------------------------------------------------------\u001b[0m",
      "\u001b[0;31mNameError\u001b[0m                                 Traceback (most recent call last)",
      "Cell \u001b[0;32mIn[3], line 8\u001b[0m\n\u001b[1;32m      4\u001b[0m rag_chatbot \u001b[38;5;241m=\u001b[39m RagChatSyntheticQ(\n\u001b[1;32m      5\u001b[0m     max_docs\u001b[38;5;241m=\u001b[39m\u001b[38;5;241m7\u001b[39m,\n\u001b[1;32m      6\u001b[0m )\n\u001b[1;32m      7\u001b[0m bots\u001b[38;5;241m.\u001b[39mappend(rag_chatbot)\n\u001b[0;32m----> 8\u001b[0m answers\u001b[38;5;241m.\u001b[39mappend(\u001b[43mrag_chatbot\u001b[49m\u001b[38;5;241;43m.\u001b[39;49m\u001b[43mrun_rag_chat\u001b[49m\u001b[43m(\u001b[49m\u001b[43mq\u001b[49m\u001b[43m)\u001b[49m)\n\u001b[1;32m      9\u001b[0m \u001b[38;5;28mprint\u001b[39m(q, answers[\u001b[38;5;241m-\u001b[39m\u001b[38;5;241m1\u001b[39m], bots[\u001b[38;5;241m-\u001b[39m\u001b[38;5;241m1\u001b[39m]\u001b[38;5;241m.\u001b[39mget_sources(), sep\u001b[38;5;241m=\u001b[39m\u001b[38;5;124m\"\u001b[39m\u001b[38;5;130;01m\\n\u001b[39;00m\u001b[38;5;124m\"\u001b[39m, end\u001b[38;5;241m=\u001b[39m\u001b[38;5;124m\"\u001b[39m\u001b[38;5;130;01m\\n\u001b[39;00m\u001b[38;5;130;01m\\n\u001b[39;00m\u001b[38;5;124m\"\u001b[39m)\n\u001b[1;32m     10\u001b[0m sleep(\u001b[38;5;241m3\u001b[39m)\n",
      "File \u001b[0;32m~/hdd/gits/hollywood-hooah/model/ragchat/chatbots.py:134\u001b[0m, in \u001b[0;36mRagChatSyntheticQ.run_rag_chat\u001b[0;34m(self, query)\u001b[0m\n\u001b[1;32m    131\u001b[0m docs \u001b[38;5;241m=\u001b[39m d[\u001b[38;5;241m0\u001b[39m]\u001b[38;5;241m.\u001b[39mmetadata[\u001b[38;5;124m\"\u001b[39m\u001b[38;5;124mdoc_list\u001b[39m\u001b[38;5;124m\"\u001b[39m] \u001b[38;5;66;03m#multiple docs may have same question\u001b[39;00m\n\u001b[1;32m    132\u001b[0m \u001b[38;5;28;01mfor\u001b[39;00m doc_dict \u001b[38;5;129;01min\u001b[39;00m docs:\n\u001b[1;32m    133\u001b[0m     docs_with_text \u001b[38;5;241m=\u001b[39m ds\u001b[38;5;241m.\u001b[39myield_from_db(\n\u001b[0;32m--> 134\u001b[0m         query\u001b[38;5;241m=\u001b[39m{k:doc_dict[k] \u001b[38;5;28;01mfor\u001b[39;00m k \u001b[38;5;129;01min\u001b[39;00m \u001b[43mKEYS\u001b[49m},\n\u001b[1;32m    135\u001b[0m         chunk_size\u001b[38;5;241m=\u001b[39m\u001b[38;5;28;01mNone\u001b[39;00m\n\u001b[1;32m    136\u001b[0m     )\n\u001b[1;32m    137\u001b[0m     \u001b[38;5;28;01massert\u001b[39;00m \u001b[38;5;28mlen\u001b[39m(docs_with_text)\u001b[38;5;241m==\u001b[39m\u001b[38;5;241m0\u001b[39m\n\u001b[1;32m    139\u001b[0m     text_result \u001b[38;5;241m=\u001b[39m docs_with_text[\u001b[38;5;241m0\u001b[39m]\n",
      "\u001b[0;31mNameError\u001b[0m: name 'KEYS' is not defined"
     ]
    }
   ],
   "source": [
    "bots = []\n",
    "answers = []\n",
    "for q in TEST_QUERIES:\n",
    "    rag_chatbot = RagChatSyntheticQ(\n",
    "        max_docs=7,\n",
    "    )\n",
    "    bots.append(rag_chatbot)\n",
    "    answers.append(rag_chatbot.run_rag_chat(q))\n",
    "    print(q, answers[-1], bots[-1].get_sources(), sep=\"\\n\", end=\"\\n\\n\")\n",
    "    sleep(3)\n"
   ]
  },
  {
   "cell_type": "code",
   "execution_count": null,
   "id": "86b3a713-5b17-432c-8163-f61b43ef656c",
   "metadata": {
    "editable": true,
    "slideshow": {
     "slide_type": ""
    },
    "tags": []
   },
   "outputs": [],
   "source": [
    "bots = []\n",
    "answers = []\n",
    "for q in synthetic_test_queries:\n",
    "    rag_chatbot = RagChatSyntheticQ(\n",
    "        max_docs=7,\n",
    "    )\n",
    "    bots.append(rag_chatbot)\n",
    "    answers.append(rag_chatbot.run_rag_chat(q))\n",
    "    print(q, answers[-1], bots[-1].get_sources(), sep=\"\\n\", end=\"\\n\\n\")\n",
    "    sleep(3)\n"
   ]
  },
  {
   "cell_type": "markdown",
   "id": "6d1333cf-2d8d-41fb-99cc-7282a56a1407",
   "metadata": {},
   "source": [
    "# "
   ]
  }
 ],
 "metadata": {
  "kernelspec": {
   "display_name": "Python 3 (ipykernel)",
   "language": "python",
   "name": "python3"
  },
  "language_info": {
   "codemirror_mode": {
    "name": "ipython",
    "version": 3
   },
   "file_extension": ".py",
   "mimetype": "text/x-python",
   "name": "python",
   "nbconvert_exporter": "python",
   "pygments_lexer": "ipython3",
   "version": "3.8.3"
  }
 },
 "nbformat": 4,
 "nbformat_minor": 5
}
